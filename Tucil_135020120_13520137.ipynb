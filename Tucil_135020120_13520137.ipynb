{
 "cells": [
  {
   "cell_type": "markdown",
   "metadata": {},
   "source": [
    "# Tugas Kecil 1 Eksplorasi library Algoritme Pembelajaran pada Jupyter Notebook\n",
    "\n",
    "### Afrizal Sebastian - 13520120 - K03\n",
    "### Muhammad Gilang Ramadhan - 13520137 - K03"
   ]
  },
  {
   "cell_type": "code",
   "execution_count": 1,
   "metadata": {},
   "outputs": [],
   "source": [
    "import pandas as pd\n",
    "import sklearn\n",
    "import sklearn.datasets\n",
    "import sklearn.model_selection\n",
    "import sklearn.metrics\n",
    "import pickle\n",
    "import graphviz \n",
    "import numpy as np"
   ]
  },
  {
   "cell_type": "markdown",
   "metadata": {},
   "source": [
    "# Import Dataset"
   ]
  },
  {
   "cell_type": "code",
   "execution_count": 2,
   "metadata": {},
   "outputs": [],
   "source": [
    "breast_cancer = sklearn.datasets.load_breast_cancer()"
   ]
  },
  {
   "cell_type": "code",
   "execution_count": 3,
   "metadata": {},
   "outputs": [
    {
     "data": {
      "text/html": [
       "<div>\n",
       "<style scoped>\n",
       "    .dataframe tbody tr th:only-of-type {\n",
       "        vertical-align: middle;\n",
       "    }\n",
       "\n",
       "    .dataframe tbody tr th {\n",
       "        vertical-align: top;\n",
       "    }\n",
       "\n",
       "    .dataframe thead th {\n",
       "        text-align: right;\n",
       "    }\n",
       "</style>\n",
       "<table border=\"1\" class=\"dataframe\">\n",
       "  <thead>\n",
       "    <tr style=\"text-align: right;\">\n",
       "      <th></th>\n",
       "      <th>mean radius</th>\n",
       "      <th>mean texture</th>\n",
       "      <th>mean perimeter</th>\n",
       "      <th>mean area</th>\n",
       "      <th>mean smoothness</th>\n",
       "      <th>mean compactness</th>\n",
       "      <th>mean concavity</th>\n",
       "      <th>mean concave points</th>\n",
       "      <th>mean symmetry</th>\n",
       "      <th>mean fractal dimension</th>\n",
       "      <th>...</th>\n",
       "      <th>worst radius</th>\n",
       "      <th>worst texture</th>\n",
       "      <th>worst perimeter</th>\n",
       "      <th>worst area</th>\n",
       "      <th>worst smoothness</th>\n",
       "      <th>worst compactness</th>\n",
       "      <th>worst concavity</th>\n",
       "      <th>worst concave points</th>\n",
       "      <th>worst symmetry</th>\n",
       "      <th>worst fractal dimension</th>\n",
       "    </tr>\n",
       "  </thead>\n",
       "  <tbody>\n",
       "    <tr>\n",
       "      <th>0</th>\n",
       "      <td>17.99</td>\n",
       "      <td>10.38</td>\n",
       "      <td>122.80</td>\n",
       "      <td>1001.0</td>\n",
       "      <td>0.11840</td>\n",
       "      <td>0.27760</td>\n",
       "      <td>0.30010</td>\n",
       "      <td>0.14710</td>\n",
       "      <td>0.2419</td>\n",
       "      <td>0.07871</td>\n",
       "      <td>...</td>\n",
       "      <td>25.380</td>\n",
       "      <td>17.33</td>\n",
       "      <td>184.60</td>\n",
       "      <td>2019.0</td>\n",
       "      <td>0.16220</td>\n",
       "      <td>0.66560</td>\n",
       "      <td>0.7119</td>\n",
       "      <td>0.2654</td>\n",
       "      <td>0.4601</td>\n",
       "      <td>0.11890</td>\n",
       "    </tr>\n",
       "    <tr>\n",
       "      <th>1</th>\n",
       "      <td>20.57</td>\n",
       "      <td>17.77</td>\n",
       "      <td>132.90</td>\n",
       "      <td>1326.0</td>\n",
       "      <td>0.08474</td>\n",
       "      <td>0.07864</td>\n",
       "      <td>0.08690</td>\n",
       "      <td>0.07017</td>\n",
       "      <td>0.1812</td>\n",
       "      <td>0.05667</td>\n",
       "      <td>...</td>\n",
       "      <td>24.990</td>\n",
       "      <td>23.41</td>\n",
       "      <td>158.80</td>\n",
       "      <td>1956.0</td>\n",
       "      <td>0.12380</td>\n",
       "      <td>0.18660</td>\n",
       "      <td>0.2416</td>\n",
       "      <td>0.1860</td>\n",
       "      <td>0.2750</td>\n",
       "      <td>0.08902</td>\n",
       "    </tr>\n",
       "    <tr>\n",
       "      <th>2</th>\n",
       "      <td>19.69</td>\n",
       "      <td>21.25</td>\n",
       "      <td>130.00</td>\n",
       "      <td>1203.0</td>\n",
       "      <td>0.10960</td>\n",
       "      <td>0.15990</td>\n",
       "      <td>0.19740</td>\n",
       "      <td>0.12790</td>\n",
       "      <td>0.2069</td>\n",
       "      <td>0.05999</td>\n",
       "      <td>...</td>\n",
       "      <td>23.570</td>\n",
       "      <td>25.53</td>\n",
       "      <td>152.50</td>\n",
       "      <td>1709.0</td>\n",
       "      <td>0.14440</td>\n",
       "      <td>0.42450</td>\n",
       "      <td>0.4504</td>\n",
       "      <td>0.2430</td>\n",
       "      <td>0.3613</td>\n",
       "      <td>0.08758</td>\n",
       "    </tr>\n",
       "    <tr>\n",
       "      <th>3</th>\n",
       "      <td>11.42</td>\n",
       "      <td>20.38</td>\n",
       "      <td>77.58</td>\n",
       "      <td>386.1</td>\n",
       "      <td>0.14250</td>\n",
       "      <td>0.28390</td>\n",
       "      <td>0.24140</td>\n",
       "      <td>0.10520</td>\n",
       "      <td>0.2597</td>\n",
       "      <td>0.09744</td>\n",
       "      <td>...</td>\n",
       "      <td>14.910</td>\n",
       "      <td>26.50</td>\n",
       "      <td>98.87</td>\n",
       "      <td>567.7</td>\n",
       "      <td>0.20980</td>\n",
       "      <td>0.86630</td>\n",
       "      <td>0.6869</td>\n",
       "      <td>0.2575</td>\n",
       "      <td>0.6638</td>\n",
       "      <td>0.17300</td>\n",
       "    </tr>\n",
       "    <tr>\n",
       "      <th>4</th>\n",
       "      <td>20.29</td>\n",
       "      <td>14.34</td>\n",
       "      <td>135.10</td>\n",
       "      <td>1297.0</td>\n",
       "      <td>0.10030</td>\n",
       "      <td>0.13280</td>\n",
       "      <td>0.19800</td>\n",
       "      <td>0.10430</td>\n",
       "      <td>0.1809</td>\n",
       "      <td>0.05883</td>\n",
       "      <td>...</td>\n",
       "      <td>22.540</td>\n",
       "      <td>16.67</td>\n",
       "      <td>152.20</td>\n",
       "      <td>1575.0</td>\n",
       "      <td>0.13740</td>\n",
       "      <td>0.20500</td>\n",
       "      <td>0.4000</td>\n",
       "      <td>0.1625</td>\n",
       "      <td>0.2364</td>\n",
       "      <td>0.07678</td>\n",
       "    </tr>\n",
       "    <tr>\n",
       "      <th>...</th>\n",
       "      <td>...</td>\n",
       "      <td>...</td>\n",
       "      <td>...</td>\n",
       "      <td>...</td>\n",
       "      <td>...</td>\n",
       "      <td>...</td>\n",
       "      <td>...</td>\n",
       "      <td>...</td>\n",
       "      <td>...</td>\n",
       "      <td>...</td>\n",
       "      <td>...</td>\n",
       "      <td>...</td>\n",
       "      <td>...</td>\n",
       "      <td>...</td>\n",
       "      <td>...</td>\n",
       "      <td>...</td>\n",
       "      <td>...</td>\n",
       "      <td>...</td>\n",
       "      <td>...</td>\n",
       "      <td>...</td>\n",
       "      <td>...</td>\n",
       "    </tr>\n",
       "    <tr>\n",
       "      <th>564</th>\n",
       "      <td>21.56</td>\n",
       "      <td>22.39</td>\n",
       "      <td>142.00</td>\n",
       "      <td>1479.0</td>\n",
       "      <td>0.11100</td>\n",
       "      <td>0.11590</td>\n",
       "      <td>0.24390</td>\n",
       "      <td>0.13890</td>\n",
       "      <td>0.1726</td>\n",
       "      <td>0.05623</td>\n",
       "      <td>...</td>\n",
       "      <td>25.450</td>\n",
       "      <td>26.40</td>\n",
       "      <td>166.10</td>\n",
       "      <td>2027.0</td>\n",
       "      <td>0.14100</td>\n",
       "      <td>0.21130</td>\n",
       "      <td>0.4107</td>\n",
       "      <td>0.2216</td>\n",
       "      <td>0.2060</td>\n",
       "      <td>0.07115</td>\n",
       "    </tr>\n",
       "    <tr>\n",
       "      <th>565</th>\n",
       "      <td>20.13</td>\n",
       "      <td>28.25</td>\n",
       "      <td>131.20</td>\n",
       "      <td>1261.0</td>\n",
       "      <td>0.09780</td>\n",
       "      <td>0.10340</td>\n",
       "      <td>0.14400</td>\n",
       "      <td>0.09791</td>\n",
       "      <td>0.1752</td>\n",
       "      <td>0.05533</td>\n",
       "      <td>...</td>\n",
       "      <td>23.690</td>\n",
       "      <td>38.25</td>\n",
       "      <td>155.00</td>\n",
       "      <td>1731.0</td>\n",
       "      <td>0.11660</td>\n",
       "      <td>0.19220</td>\n",
       "      <td>0.3215</td>\n",
       "      <td>0.1628</td>\n",
       "      <td>0.2572</td>\n",
       "      <td>0.06637</td>\n",
       "    </tr>\n",
       "    <tr>\n",
       "      <th>566</th>\n",
       "      <td>16.60</td>\n",
       "      <td>28.08</td>\n",
       "      <td>108.30</td>\n",
       "      <td>858.1</td>\n",
       "      <td>0.08455</td>\n",
       "      <td>0.10230</td>\n",
       "      <td>0.09251</td>\n",
       "      <td>0.05302</td>\n",
       "      <td>0.1590</td>\n",
       "      <td>0.05648</td>\n",
       "      <td>...</td>\n",
       "      <td>18.980</td>\n",
       "      <td>34.12</td>\n",
       "      <td>126.70</td>\n",
       "      <td>1124.0</td>\n",
       "      <td>0.11390</td>\n",
       "      <td>0.30940</td>\n",
       "      <td>0.3403</td>\n",
       "      <td>0.1418</td>\n",
       "      <td>0.2218</td>\n",
       "      <td>0.07820</td>\n",
       "    </tr>\n",
       "    <tr>\n",
       "      <th>567</th>\n",
       "      <td>20.60</td>\n",
       "      <td>29.33</td>\n",
       "      <td>140.10</td>\n",
       "      <td>1265.0</td>\n",
       "      <td>0.11780</td>\n",
       "      <td>0.27700</td>\n",
       "      <td>0.35140</td>\n",
       "      <td>0.15200</td>\n",
       "      <td>0.2397</td>\n",
       "      <td>0.07016</td>\n",
       "      <td>...</td>\n",
       "      <td>25.740</td>\n",
       "      <td>39.42</td>\n",
       "      <td>184.60</td>\n",
       "      <td>1821.0</td>\n",
       "      <td>0.16500</td>\n",
       "      <td>0.86810</td>\n",
       "      <td>0.9387</td>\n",
       "      <td>0.2650</td>\n",
       "      <td>0.4087</td>\n",
       "      <td>0.12400</td>\n",
       "    </tr>\n",
       "    <tr>\n",
       "      <th>568</th>\n",
       "      <td>7.76</td>\n",
       "      <td>24.54</td>\n",
       "      <td>47.92</td>\n",
       "      <td>181.0</td>\n",
       "      <td>0.05263</td>\n",
       "      <td>0.04362</td>\n",
       "      <td>0.00000</td>\n",
       "      <td>0.00000</td>\n",
       "      <td>0.1587</td>\n",
       "      <td>0.05884</td>\n",
       "      <td>...</td>\n",
       "      <td>9.456</td>\n",
       "      <td>30.37</td>\n",
       "      <td>59.16</td>\n",
       "      <td>268.6</td>\n",
       "      <td>0.08996</td>\n",
       "      <td>0.06444</td>\n",
       "      <td>0.0000</td>\n",
       "      <td>0.0000</td>\n",
       "      <td>0.2871</td>\n",
       "      <td>0.07039</td>\n",
       "    </tr>\n",
       "  </tbody>\n",
       "</table>\n",
       "<p>569 rows × 30 columns</p>\n",
       "</div>"
      ],
      "text/plain": [
       "     mean radius  mean texture  mean perimeter  mean area  mean smoothness  \\\n",
       "0          17.99         10.38          122.80     1001.0          0.11840   \n",
       "1          20.57         17.77          132.90     1326.0          0.08474   \n",
       "2          19.69         21.25          130.00     1203.0          0.10960   \n",
       "3          11.42         20.38           77.58      386.1          0.14250   \n",
       "4          20.29         14.34          135.10     1297.0          0.10030   \n",
       "..           ...           ...             ...        ...              ...   \n",
       "564        21.56         22.39          142.00     1479.0          0.11100   \n",
       "565        20.13         28.25          131.20     1261.0          0.09780   \n",
       "566        16.60         28.08          108.30      858.1          0.08455   \n",
       "567        20.60         29.33          140.10     1265.0          0.11780   \n",
       "568         7.76         24.54           47.92      181.0          0.05263   \n",
       "\n",
       "     mean compactness  mean concavity  mean concave points  mean symmetry  \\\n",
       "0             0.27760         0.30010              0.14710         0.2419   \n",
       "1             0.07864         0.08690              0.07017         0.1812   \n",
       "2             0.15990         0.19740              0.12790         0.2069   \n",
       "3             0.28390         0.24140              0.10520         0.2597   \n",
       "4             0.13280         0.19800              0.10430         0.1809   \n",
       "..                ...             ...                  ...            ...   \n",
       "564           0.11590         0.24390              0.13890         0.1726   \n",
       "565           0.10340         0.14400              0.09791         0.1752   \n",
       "566           0.10230         0.09251              0.05302         0.1590   \n",
       "567           0.27700         0.35140              0.15200         0.2397   \n",
       "568           0.04362         0.00000              0.00000         0.1587   \n",
       "\n",
       "     mean fractal dimension  ...  worst radius  worst texture  \\\n",
       "0                   0.07871  ...        25.380          17.33   \n",
       "1                   0.05667  ...        24.990          23.41   \n",
       "2                   0.05999  ...        23.570          25.53   \n",
       "3                   0.09744  ...        14.910          26.50   \n",
       "4                   0.05883  ...        22.540          16.67   \n",
       "..                      ...  ...           ...            ...   \n",
       "564                 0.05623  ...        25.450          26.40   \n",
       "565                 0.05533  ...        23.690          38.25   \n",
       "566                 0.05648  ...        18.980          34.12   \n",
       "567                 0.07016  ...        25.740          39.42   \n",
       "568                 0.05884  ...         9.456          30.37   \n",
       "\n",
       "     worst perimeter  worst area  worst smoothness  worst compactness  \\\n",
       "0             184.60      2019.0           0.16220            0.66560   \n",
       "1             158.80      1956.0           0.12380            0.18660   \n",
       "2             152.50      1709.0           0.14440            0.42450   \n",
       "3              98.87       567.7           0.20980            0.86630   \n",
       "4             152.20      1575.0           0.13740            0.20500   \n",
       "..               ...         ...               ...                ...   \n",
       "564           166.10      2027.0           0.14100            0.21130   \n",
       "565           155.00      1731.0           0.11660            0.19220   \n",
       "566           126.70      1124.0           0.11390            0.30940   \n",
       "567           184.60      1821.0           0.16500            0.86810   \n",
       "568            59.16       268.6           0.08996            0.06444   \n",
       "\n",
       "     worst concavity  worst concave points  worst symmetry  \\\n",
       "0             0.7119                0.2654          0.4601   \n",
       "1             0.2416                0.1860          0.2750   \n",
       "2             0.4504                0.2430          0.3613   \n",
       "3             0.6869                0.2575          0.6638   \n",
       "4             0.4000                0.1625          0.2364   \n",
       "..               ...                   ...             ...   \n",
       "564           0.4107                0.2216          0.2060   \n",
       "565           0.3215                0.1628          0.2572   \n",
       "566           0.3403                0.1418          0.2218   \n",
       "567           0.9387                0.2650          0.4087   \n",
       "568           0.0000                0.0000          0.2871   \n",
       "\n",
       "     worst fractal dimension  \n",
       "0                    0.11890  \n",
       "1                    0.08902  \n",
       "2                    0.08758  \n",
       "3                    0.17300  \n",
       "4                    0.07678  \n",
       "..                       ...  \n",
       "564                  0.07115  \n",
       "565                  0.06637  \n",
       "566                  0.07820  \n",
       "567                  0.12400  \n",
       "568                  0.07039  \n",
       "\n",
       "[569 rows x 30 columns]"
      ]
     },
     "execution_count": 3,
     "metadata": {},
     "output_type": "execute_result"
    }
   ],
   "source": [
    "df_breast_cancer = pd.DataFrame(breast_cancer.data, columns=breast_cancer.feature_names)\n",
    "df_breast_cancer"
   ]
  },
  {
   "cell_type": "markdown",
   "metadata": {},
   "source": [
    "# Split Data"
   ]
  },
  {
   "cell_type": "code",
   "execution_count": 4,
   "metadata": {},
   "outputs": [],
   "source": [
    "X, y = sklearn.datasets.load_breast_cancer(return_X_y=True)\n",
    "X_train, X_test, y_train, y_test = sklearn.model_selection.train_test_split(X, y, train_size=0.8, random_state=0)"
   ]
  },
  {
   "cell_type": "markdown",
   "metadata": {},
   "source": [
    "## Decision Tree Classifier"
   ]
  },
  {
   "cell_type": "code",
   "execution_count": 5,
   "metadata": {},
   "outputs": [
    {
     "data": {
      "text/plain": [
       "[Text(0.6390086206896551, 0.95, 'X[27] <= 0.142\\ngini = 0.462\\nsamples = 455\\nvalue = [165, 290]'),\n",
       " Text(0.4849137931034483, 0.85, 'X[23] <= 957.45\\ngini = 0.146\\nsamples = 303\\nvalue = [24, 279]'),\n",
       " Text(0.38362068965517243, 0.75, 'X[22] <= 107.75\\ngini = 0.073\\nsamples = 288\\nvalue = [11, 277]'),\n",
       " Text(0.28448275862068967, 0.65, 'X[18] <= 0.009\\ngini = 0.036\\nsamples = 269\\nvalue = [5, 264]'),\n",
       " Text(0.25, 0.55, 'gini = 0.0\\nsamples = 1\\nvalue = [1, 0]'),\n",
       " Text(0.31896551724137934, 0.55, 'X[6] <= 0.141\\ngini = 0.029\\nsamples = 268\\nvalue = [4, 264]'),\n",
       " Text(0.22413793103448276, 0.45, 'X[13] <= 48.975\\ngini = 0.022\\nsamples = 265\\nvalue = [3, 262]'),\n",
       " Text(0.13793103448275862, 0.35, 'X[14] <= 0.003\\ngini = 0.015\\nsamples = 262\\nvalue = [2, 260]'),\n",
       " Text(0.06896551724137931, 0.25, 'X[14] <= 0.003\\ngini = 0.278\\nsamples = 6\\nvalue = [1, 5]'),\n",
       " Text(0.034482758620689655, 0.15, 'gini = 0.0\\nsamples = 5\\nvalue = [0, 5]'),\n",
       " Text(0.10344827586206896, 0.15, 'gini = 0.0\\nsamples = 1\\nvalue = [1, 0]'),\n",
       " Text(0.20689655172413793, 0.25, 'X[21] <= 32.83\\ngini = 0.008\\nsamples = 256\\nvalue = [1, 255]'),\n",
       " Text(0.1724137931034483, 0.15, 'gini = 0.0\\nsamples = 239\\nvalue = [0, 239]'),\n",
       " Text(0.2413793103448276, 0.15, 'X[21] <= 33.805\\ngini = 0.111\\nsamples = 17\\nvalue = [1, 16]'),\n",
       " Text(0.20689655172413793, 0.05, 'gini = 0.0\\nsamples = 1\\nvalue = [1, 0]'),\n",
       " Text(0.27586206896551724, 0.05, 'gini = 0.0\\nsamples = 16\\nvalue = [0, 16]'),\n",
       " Text(0.3103448275862069, 0.35, 'X[25] <= 0.085\\ngini = 0.444\\nsamples = 3\\nvalue = [1, 2]'),\n",
       " Text(0.27586206896551724, 0.25, 'gini = 0.0\\nsamples = 1\\nvalue = [1, 0]'),\n",
       " Text(0.3448275862068966, 0.25, 'gini = 0.0\\nsamples = 2\\nvalue = [0, 2]'),\n",
       " Text(0.41379310344827586, 0.45, 'X[2] <= 88.31\\ngini = 0.444\\nsamples = 3\\nvalue = [1, 2]'),\n",
       " Text(0.3793103448275862, 0.35, 'gini = 0.0\\nsamples = 2\\nvalue = [0, 2]'),\n",
       " Text(0.4482758620689655, 0.35, 'gini = 0.0\\nsamples = 1\\nvalue = [1, 0]'),\n",
       " Text(0.4827586206896552, 0.65, 'X[3] <= 610.4\\ngini = 0.432\\nsamples = 19\\nvalue = [6, 13]'),\n",
       " Text(0.4482758620689655, 0.55, 'gini = 0.0\\nsamples = 4\\nvalue = [4, 0]'),\n",
       " Text(0.5172413793103449, 0.55, 'X[14] <= 0.008\\ngini = 0.231\\nsamples = 15\\nvalue = [2, 13]'),\n",
       " Text(0.4827586206896552, 0.45, 'gini = 0.0\\nsamples = 13\\nvalue = [0, 13]'),\n",
       " Text(0.5517241379310345, 0.45, 'gini = 0.0\\nsamples = 2\\nvalue = [2, 0]'),\n",
       " Text(0.5862068965517241, 0.75, 'X[8] <= 0.152\\ngini = 0.231\\nsamples = 15\\nvalue = [13, 2]'),\n",
       " Text(0.5517241379310345, 0.65, 'gini = 0.0\\nsamples = 2\\nvalue = [0, 2]'),\n",
       " Text(0.6206896551724138, 0.65, 'gini = 0.0\\nsamples = 13\\nvalue = [13, 0]'),\n",
       " Text(0.7931034482758621, 0.85, 'X[23] <= 729.55\\ngini = 0.134\\nsamples = 152\\nvalue = [141, 11]'),\n",
       " Text(0.7241379310344828, 0.75, 'X[4] <= 0.108\\ngini = 0.49\\nsamples = 14\\nvalue = [6, 8]'),\n",
       " Text(0.6896551724137931, 0.65, 'gini = 0.0\\nsamples = 8\\nvalue = [0, 8]'),\n",
       " Text(0.7586206896551724, 0.65, 'gini = 0.0\\nsamples = 6\\nvalue = [6, 0]'),\n",
       " Text(0.8620689655172413, 0.75, 'X[11] <= 0.431\\ngini = 0.043\\nsamples = 138\\nvalue = [135, 3]'),\n",
       " Text(0.8275862068965517, 0.65, 'gini = 0.0\\nsamples = 1\\nvalue = [0, 1]'),\n",
       " Text(0.896551724137931, 0.65, 'X[26] <= 0.203\\ngini = 0.029\\nsamples = 137\\nvalue = [135, 2]'),\n",
       " Text(0.8620689655172413, 0.55, 'gini = 0.0\\nsamples = 1\\nvalue = [0, 1]'),\n",
       " Text(0.9310344827586207, 0.55, 'X[1] <= 15.37\\ngini = 0.015\\nsamples = 136\\nvalue = [135, 1]'),\n",
       " Text(0.896551724137931, 0.45, 'X[18] <= 0.016\\ngini = 0.32\\nsamples = 5\\nvalue = [4, 1]'),\n",
       " Text(0.8620689655172413, 0.35, 'gini = 0.0\\nsamples = 1\\nvalue = [0, 1]'),\n",
       " Text(0.9310344827586207, 0.35, 'gini = 0.0\\nsamples = 4\\nvalue = [4, 0]'),\n",
       " Text(0.9655172413793104, 0.45, 'gini = 0.0\\nsamples = 131\\nvalue = [131, 0]')]"
      ]
     },
     "execution_count": 5,
     "metadata": {},
     "output_type": "execute_result"
    },
    {
     "data": {
      "image/png": "[encoded data removed]",
      "text/plain": [
       "<Figure size 432x288 with 1 Axes>"
      ]
     },
     "metadata": {
      "needs_background": "light"
     },
     "output_type": "display_data"
    }
   ],
   "source": [
    "from sklearn import tree\n",
    "decision_tree =tree.DecisionTreeClassifier()\n",
    "decision_tree = decision_tree.fit(X_train, y_train)\n",
    "tree.plot_tree(decision_tree)"
   ]
  },
  {
   "cell_type": "code",
   "execution_count": 6,
   "metadata": {},
   "outputs": [
    {
     "data": {
      "image/svg+xml": [
       "<?xml version=\"1.0\" encoding=\"UTF-8\" standalone=\"no\"?>\n",
       "<!DOCTYPE svg PUBLIC \"-//W3C//DTD SVG 1.1//EN\"\n",
       " \"http://www.w3.org/Graphics/SVG/1.1/DTD/svg11.dtd\">\n",
       "<!-- Generated by graphviz version 3.0.0 (20220226.1711)\n",
       " -->\n",
       "<!-- Title: Tree Pages: 1 -->\n",
       "<svg width=\"1541pt\" height=\"997pt\"\n",
       " viewBox=\"0.00 0.00 1541.00 997.00\" xmlns=\"http://www.w3.org/2000/svg\" xmlns:xlink=\"http://www.w3.org/1999/xlink\">\n",
       "<g id=\"graph0\" class=\"graph\" transform=\"scale(1 1) rotate(0) translate(4 993)\">\n",
       "<title>Tree</title>\n",
       "<polygon fill=\"white\" stroke=\"transparent\" points=\"-4,4 -4,-993 1537,-993 1537,4 -4,4\"/>\n",
       "<!-- 0 -->\n",
       "<g id=\"node1\" class=\"node\">\n",
       "<title>0</title>\n",
       "<polygon fill=\"none\" stroke=\"black\" points=\"991.5,-989 861.5,-989 861.5,-921 991.5,-921 991.5,-989\"/>\n",
       "<text text-anchor=\"middle\" x=\"926.5\" y=\"-973.8\" font-family=\"Helvetica,sans-Serif\" font-size=\"14.00\">X[27] &lt;= 0.142</text>\n",
       "<text text-anchor=\"middle\" x=\"926.5\" y=\"-958.8\" font-family=\"Helvetica,sans-Serif\" font-size=\"14.00\">gini = 0.462</text>\n",
       "<text text-anchor=\"middle\" x=\"926.5\" y=\"-943.8\" font-family=\"Helvetica,sans-Serif\" font-size=\"14.00\">samples = 455</text>\n",
       "<text text-anchor=\"middle\" x=\"926.5\" y=\"-928.8\" font-family=\"Helvetica,sans-Serif\" font-size=\"14.00\">value = [165, 290]</text>\n",
       "</g>\n",
       "<!-- 1 -->\n",
       "<g id=\"node2\" class=\"node\">\n",
       "<title>1</title>\n",
       "<polygon fill=\"none\" stroke=\"black\" points=\"875.5,-885 753.5,-885 753.5,-817 875.5,-817 875.5,-885\"/>\n",
       "<text text-anchor=\"middle\" x=\"814.5\" y=\"-869.8\" font-family=\"Helvetica,sans-Serif\" font-size=\"14.00\">X[23] &lt;= 957.45</text>\n",
       "<text text-anchor=\"middle\" x=\"814.5\" y=\"-854.8\" font-family=\"Helvetica,sans-Serif\" font-size=\"14.00\">gini = 0.146</text>\n",
       "<text text-anchor=\"middle\" x=\"814.5\" y=\"-839.8\" font-family=\"Helvetica,sans-Serif\" font-size=\"14.00\">samples = 303</text>\n",
       "<text text-anchor=\"middle\" x=\"814.5\" y=\"-824.8\" font-family=\"Helvetica,sans-Serif\" font-size=\"14.00\">value = [24, 279]</text>\n",
       "</g>\n",
       "<!-- 0&#45;&gt;1 -->\n",
       "<g id=\"edge1\" class=\"edge\">\n",
       "<title>0&#45;&gt;1</title>\n",
       "<path fill=\"none\" stroke=\"black\" d=\"M890.14,-920.88C880.06,-911.71 869.02,-901.65 858.56,-892.12\"/>\n",
       "<polygon fill=\"black\" stroke=\"black\" points=\"860.81,-889.44 851.06,-885.3 856.1,-894.62 860.81,-889.44\"/>\n",
       "<text text-anchor=\"middle\" x=\"852.23\" y=\"-906.57\" font-family=\"Helvetica,sans-Serif\" font-size=\"14.00\">True</text>\n",
       "</g>\n",
       "<!-- 30 -->\n",
       "<g id=\"node31\" class=\"node\">\n",
       "<title>30</title>\n",
       "<polygon fill=\"none\" stroke=\"black\" points=\"1110.5,-885 988.5,-885 988.5,-817 1110.5,-817 1110.5,-885\"/>\n",
       "<text text-anchor=\"middle\" x=\"1049.5\" y=\"-869.8\" font-family=\"Helvetica,sans-Serif\" font-size=\"14.00\">X[23] &lt;= 729.55</text>\n",
       "<text text-anchor=\"middle\" x=\"1049.5\" y=\"-854.8\" font-family=\"Helvetica,sans-Serif\" font-size=\"14.00\">gini = 0.134</text>\n",
       "<text text-anchor=\"middle\" x=\"1049.5\" y=\"-839.8\" font-family=\"Helvetica,sans-Serif\" font-size=\"14.00\">samples = 152</text>\n",
       "<text text-anchor=\"middle\" x=\"1049.5\" y=\"-824.8\" font-family=\"Helvetica,sans-Serif\" font-size=\"14.00\">value = [141, 11]</text>\n",
       "</g>\n",
       "<!-- 0&#45;&gt;30 -->\n",
       "<g id=\"edge30\" class=\"edge\">\n",
       "<title>0&#45;&gt;30</title>\n",
       "<path fill=\"none\" stroke=\"black\" d=\"M966.43,-920.88C977.61,-911.62 989.86,-901.45 1001.45,-891.85\"/>\n",
       "<polygon fill=\"black\" stroke=\"black\" points=\"1003.88,-894.38 1009.34,-885.3 999.41,-888.99 1003.88,-894.38\"/>\n",
       "<text text-anchor=\"middle\" x=\"1007.02\" y=\"-906.49\" font-family=\"Helvetica,sans-Serif\" font-size=\"14.00\">False</text>\n",
       "</g>\n",
       "<!-- 2 -->\n",
       "<g id=\"node3\" class=\"node\">\n",
       "<title>2</title>\n",
       "<polygon fill=\"none\" stroke=\"black\" points=\"701.5,-781 579.5,-781 579.5,-713 701.5,-713 701.5,-781\"/>\n",
       "<text text-anchor=\"middle\" x=\"640.5\" y=\"-765.8\" font-family=\"Helvetica,sans-Serif\" font-size=\"14.00\">X[22] &lt;= 107.75</text>\n",
       "<text text-anchor=\"middle\" x=\"640.5\" y=\"-750.8\" font-family=\"Helvetica,sans-Serif\" font-size=\"14.00\">gini = 0.073</text>\n",
       "<text text-anchor=\"middle\" x=\"640.5\" y=\"-735.8\" font-family=\"Helvetica,sans-Serif\" font-size=\"14.00\">samples = 288</text>\n",
       "<text text-anchor=\"middle\" x=\"640.5\" y=\"-720.8\" font-family=\"Helvetica,sans-Serif\" font-size=\"14.00\">value = [11, 277]</text>\n",
       "</g>\n",
       "<!-- 1&#45;&gt;2 -->\n",
       "<g id=\"edge2\" class=\"edge\">\n",
       "<title>1&#45;&gt;2</title>\n",
       "<path fill=\"none\" stroke=\"black\" d=\"M758.01,-816.88C741.36,-807.12 723.01,-796.37 705.85,-786.31\"/>\n",
       "<polygon fill=\"black\" stroke=\"black\" points=\"707.4,-783.16 697.01,-781.12 703.86,-789.2 707.4,-783.16\"/>\n",
       "</g>\n",
       "<!-- 27 -->\n",
       "<g id=\"node28\" class=\"node\">\n",
       "<title>27</title>\n",
       "<polygon fill=\"none\" stroke=\"black\" points=\"867,-781 762,-781 762,-713 867,-713 867,-781\"/>\n",
       "<text text-anchor=\"middle\" x=\"814.5\" y=\"-765.8\" font-family=\"Helvetica,sans-Serif\" font-size=\"14.00\">X[8] &lt;= 0.152</text>\n",
       "<text text-anchor=\"middle\" x=\"814.5\" y=\"-750.8\" font-family=\"Helvetica,sans-Serif\" font-size=\"14.00\">gini = 0.231</text>\n",
       "<text text-anchor=\"middle\" x=\"814.5\" y=\"-735.8\" font-family=\"Helvetica,sans-Serif\" font-size=\"14.00\">samples = 15</text>\n",
       "<text text-anchor=\"middle\" x=\"814.5\" y=\"-720.8\" font-family=\"Helvetica,sans-Serif\" font-size=\"14.00\">value = [13, 2]</text>\n",
       "</g>\n",
       "<!-- 1&#45;&gt;27 -->\n",
       "<g id=\"edge27\" class=\"edge\">\n",
       "<title>1&#45;&gt;27</title>\n",
       "<path fill=\"none\" stroke=\"black\" d=\"M814.5,-816.88C814.5,-808.78 814.5,-799.98 814.5,-791.47\"/>\n",
       "<polygon fill=\"black\" stroke=\"black\" points=\"818,-791.3 814.5,-781.3 811,-791.3 818,-791.3\"/>\n",
       "</g>\n",
       "<!-- 3 -->\n",
       "<g id=\"node4\" class=\"node\">\n",
       "<title>3</title>\n",
       "<polygon fill=\"none\" stroke=\"black\" points=\"570,-677 457,-677 457,-609 570,-609 570,-677\"/>\n",
       "<text text-anchor=\"middle\" x=\"513.5\" y=\"-661.8\" font-family=\"Helvetica,sans-Serif\" font-size=\"14.00\">X[18] &lt;= 0.009</text>\n",
       "<text text-anchor=\"middle\" x=\"513.5\" y=\"-646.8\" font-family=\"Helvetica,sans-Serif\" font-size=\"14.00\">gini = 0.036</text>\n",
       "<text text-anchor=\"middle\" x=\"513.5\" y=\"-631.8\" font-family=\"Helvetica,sans-Serif\" font-size=\"14.00\">samples = 269</text>\n",
       "<text text-anchor=\"middle\" x=\"513.5\" y=\"-616.8\" font-family=\"Helvetica,sans-Serif\" font-size=\"14.00\">value = [5, 264]</text>\n",
       "</g>\n",
       "<!-- 2&#45;&gt;3 -->\n",
       "<g id=\"edge3\" class=\"edge\">\n",
       "<title>2&#45;&gt;3</title>\n",
       "<path fill=\"none\" stroke=\"black\" d=\"M599.27,-712.88C587.62,-703.53 574.83,-693.26 562.77,-683.57\"/>\n",
       "<polygon fill=\"black\" stroke=\"black\" points=\"564.95,-680.83 554.96,-677.3 560.57,-686.29 564.95,-680.83\"/>\n",
       "</g>\n",
       "<!-- 22 -->\n",
       "<g id=\"node23\" class=\"node\">\n",
       "<title>22</title>\n",
       "<polygon fill=\"none\" stroke=\"black\" points=\"693,-677 588,-677 588,-609 693,-609 693,-677\"/>\n",
       "<text text-anchor=\"middle\" x=\"640.5\" y=\"-661.8\" font-family=\"Helvetica,sans-Serif\" font-size=\"14.00\">X[3] &lt;= 610.4</text>\n",
       "<text text-anchor=\"middle\" x=\"640.5\" y=\"-646.8\" font-family=\"Helvetica,sans-Serif\" font-size=\"14.00\">gini = 0.432</text>\n",
       "<text text-anchor=\"middle\" x=\"640.5\" y=\"-631.8\" font-family=\"Helvetica,sans-Serif\" font-size=\"14.00\">samples = 19</text>\n",
       "<text text-anchor=\"middle\" x=\"640.5\" y=\"-616.8\" font-family=\"Helvetica,sans-Serif\" font-size=\"14.00\">value = [6, 13]</text>\n",
       "</g>\n",
       "<!-- 2&#45;&gt;22 -->\n",
       "<g id=\"edge22\" class=\"edge\">\n",
       "<title>2&#45;&gt;22</title>\n",
       "<path fill=\"none\" stroke=\"black\" d=\"M640.5,-712.88C640.5,-704.78 640.5,-695.98 640.5,-687.47\"/>\n",
       "<polygon fill=\"black\" stroke=\"black\" points=\"644,-687.3 640.5,-677.3 637,-687.3 644,-687.3\"/>\n",
       "</g>\n",
       "<!-- 4 -->\n",
       "<g id=\"node5\" class=\"node\">\n",
       "<title>4</title>\n",
       "<polygon fill=\"none\" stroke=\"black\" points=\"441,-565.5 344,-565.5 344,-512.5 441,-512.5 441,-565.5\"/>\n",
       "<text text-anchor=\"middle\" x=\"392.5\" y=\"-550.3\" font-family=\"Helvetica,sans-Serif\" font-size=\"14.00\">gini = 0.0</text>\n",
       "<text text-anchor=\"middle\" x=\"392.5\" y=\"-535.3\" font-family=\"Helvetica,sans-Serif\" font-size=\"14.00\">samples = 1</text>\n",
       "<text text-anchor=\"middle\" x=\"392.5\" y=\"-520.3\" font-family=\"Helvetica,sans-Serif\" font-size=\"14.00\">value = [1, 0]</text>\n",
       "</g>\n",
       "<!-- 3&#45;&gt;4 -->\n",
       "<g id=\"edge4\" class=\"edge\">\n",
       "<title>3&#45;&gt;4</title>\n",
       "<path fill=\"none\" stroke=\"black\" d=\"M474.21,-608.88C460.26,-597.12 444.57,-583.89 430.7,-572.2\"/>\n",
       "<polygon fill=\"black\" stroke=\"black\" points=\"432.68,-569.29 422.77,-565.52 428.16,-574.64 432.68,-569.29\"/>\n",
       "</g>\n",
       "<!-- 5 -->\n",
       "<g id=\"node6\" class=\"node\">\n",
       "<title>5</title>\n",
       "<polygon fill=\"none\" stroke=\"black\" points=\"572,-573 459,-573 459,-505 572,-505 572,-573\"/>\n",
       "<text text-anchor=\"middle\" x=\"515.5\" y=\"-557.8\" font-family=\"Helvetica,sans-Serif\" font-size=\"14.00\">X[6] &lt;= 0.141</text>\n",
       "<text text-anchor=\"middle\" x=\"515.5\" y=\"-542.8\" font-family=\"Helvetica,sans-Serif\" font-size=\"14.00\">gini = 0.029</text>\n",
       "<text text-anchor=\"middle\" x=\"515.5\" y=\"-527.8\" font-family=\"Helvetica,sans-Serif\" font-size=\"14.00\">samples = 268</text>\n",
       "<text text-anchor=\"middle\" x=\"515.5\" y=\"-512.8\" font-family=\"Helvetica,sans-Serif\" font-size=\"14.00\">value = [4, 264]</text>\n",
       "</g>\n",
       "<!-- 3&#45;&gt;5 -->\n",
       "<g id=\"edge5\" class=\"edge\">\n",
       "<title>3&#45;&gt;5</title>\n",
       "<path fill=\"none\" stroke=\"black\" d=\"M514.15,-608.88C514.31,-600.78 514.48,-591.98 514.65,-583.47\"/>\n",
       "<polygon fill=\"black\" stroke=\"black\" points=\"518.15,-583.37 514.85,-573.3 511.15,-583.23 518.15,-583.37\"/>\n",
       "</g>\n",
       "<!-- 6 -->\n",
       "<g id=\"node7\" class=\"node\">\n",
       "<title>6</title>\n",
       "<polygon fill=\"none\" stroke=\"black\" points=\"477,-469 358,-469 358,-401 477,-401 477,-469\"/>\n",
       "<text text-anchor=\"middle\" x=\"417.5\" y=\"-453.8\" font-family=\"Helvetica,sans-Serif\" font-size=\"14.00\">X[13] &lt;= 48.975</text>\n",
       "<text text-anchor=\"middle\" x=\"417.5\" y=\"-438.8\" font-family=\"Helvetica,sans-Serif\" font-size=\"14.00\">gini = 0.022</text>\n",
       "<text text-anchor=\"middle\" x=\"417.5\" y=\"-423.8\" font-family=\"Helvetica,sans-Serif\" font-size=\"14.00\">samples = 265</text>\n",
       "<text text-anchor=\"middle\" x=\"417.5\" y=\"-408.8\" font-family=\"Helvetica,sans-Serif\" font-size=\"14.00\">value = [3, 262]</text>\n",
       "</g>\n",
       "<!-- 5&#45;&gt;6 -->\n",
       "<g id=\"edge6\" class=\"edge\">\n",
       "<title>5&#45;&gt;6</title>\n",
       "<path fill=\"none\" stroke=\"black\" d=\"M483.68,-504.88C475.04,-495.89 465.58,-486.04 456.58,-476.68\"/>\n",
       "<polygon fill=\"black\" stroke=\"black\" points=\"458.95,-474.09 449.49,-469.3 453.9,-478.94 458.95,-474.09\"/>\n",
       "</g>\n",
       "<!-- 19 -->\n",
       "<g id=\"node20\" class=\"node\">\n",
       "<title>19</title>\n",
       "<polygon fill=\"none\" stroke=\"black\" points=\"598,-469 495,-469 495,-401 598,-401 598,-469\"/>\n",
       "<text text-anchor=\"middle\" x=\"546.5\" y=\"-453.8\" font-family=\"Helvetica,sans-Serif\" font-size=\"14.00\">X[2] &lt;= 88.31</text>\n",
       "<text text-anchor=\"middle\" x=\"546.5\" y=\"-438.8\" font-family=\"Helvetica,sans-Serif\" font-size=\"14.00\">gini = 0.444</text>\n",
       "<text text-anchor=\"middle\" x=\"546.5\" y=\"-423.8\" font-family=\"Helvetica,sans-Serif\" font-size=\"14.00\">samples = 3</text>\n",
       "<text text-anchor=\"middle\" x=\"546.5\" y=\"-408.8\" font-family=\"Helvetica,sans-Serif\" font-size=\"14.00\">value = [1, 2]</text>\n",
       "</g>\n",
       "<!-- 5&#45;&gt;19 -->\n",
       "<g id=\"edge19\" class=\"edge\">\n",
       "<title>5&#45;&gt;19</title>\n",
       "<path fill=\"none\" stroke=\"black\" d=\"M525.56,-504.88C528.08,-496.6 530.82,-487.6 533.46,-478.91\"/>\n",
       "<polygon fill=\"black\" stroke=\"black\" points=\"536.82,-479.89 536.38,-469.3 530.12,-477.85 536.82,-479.89\"/>\n",
       "</g>\n",
       "<!-- 7 -->\n",
       "<g id=\"node8\" class=\"node\">\n",
       "<title>7</title>\n",
       "<polygon fill=\"none\" stroke=\"black\" points=\"346,-365 233,-365 233,-297 346,-297 346,-365\"/>\n",
       "<text text-anchor=\"middle\" x=\"289.5\" y=\"-349.8\" font-family=\"Helvetica,sans-Serif\" font-size=\"14.00\">X[14] &lt;= 0.003</text>\n",
       "<text text-anchor=\"middle\" x=\"289.5\" y=\"-334.8\" font-family=\"Helvetica,sans-Serif\" font-size=\"14.00\">gini = 0.015</text>\n",
       "<text text-anchor=\"middle\" x=\"289.5\" y=\"-319.8\" font-family=\"Helvetica,sans-Serif\" font-size=\"14.00\">samples = 262</text>\n",
       "<text text-anchor=\"middle\" x=\"289.5\" y=\"-304.8\" font-family=\"Helvetica,sans-Serif\" font-size=\"14.00\">value = [2, 260]</text>\n",
       "</g>\n",
       "<!-- 6&#45;&gt;7 -->\n",
       "<g id=\"edge7\" class=\"edge\">\n",
       "<title>6&#45;&gt;7</title>\n",
       "<path fill=\"none\" stroke=\"black\" d=\"M375.94,-400.88C364.21,-391.53 351.32,-381.26 339.15,-371.57\"/>\n",
       "<polygon fill=\"black\" stroke=\"black\" points=\"341.29,-368.79 331.29,-365.3 336.93,-374.27 341.29,-368.79\"/>\n",
       "</g>\n",
       "<!-- 16 -->\n",
       "<g id=\"node17\" class=\"node\">\n",
       "<title>16</title>\n",
       "<polygon fill=\"none\" stroke=\"black\" points=\"475,-365 364,-365 364,-297 475,-297 475,-365\"/>\n",
       "<text text-anchor=\"middle\" x=\"419.5\" y=\"-349.8\" font-family=\"Helvetica,sans-Serif\" font-size=\"14.00\">X[25] &lt;= 0.085</text>\n",
       "<text text-anchor=\"middle\" x=\"419.5\" y=\"-334.8\" font-family=\"Helvetica,sans-Serif\" font-size=\"14.00\">gini = 0.444</text>\n",
       "<text text-anchor=\"middle\" x=\"419.5\" y=\"-319.8\" font-family=\"Helvetica,sans-Serif\" font-size=\"14.00\">samples = 3</text>\n",
       "<text text-anchor=\"middle\" x=\"419.5\" y=\"-304.8\" font-family=\"Helvetica,sans-Serif\" font-size=\"14.00\">value = [1, 2]</text>\n",
       "</g>\n",
       "<!-- 6&#45;&gt;16 -->\n",
       "<g id=\"edge16\" class=\"edge\">\n",
       "<title>6&#45;&gt;16</title>\n",
       "<path fill=\"none\" stroke=\"black\" d=\"M418.15,-400.88C418.31,-392.78 418.48,-383.98 418.65,-375.47\"/>\n",
       "<polygon fill=\"black\" stroke=\"black\" points=\"422.15,-375.37 418.85,-365.3 415.15,-375.23 422.15,-375.37\"/>\n",
       "</g>\n",
       "<!-- 8 -->\n",
       "<g id=\"node9\" class=\"node\">\n",
       "<title>8</title>\n",
       "<polygon fill=\"none\" stroke=\"black\" points=\"217,-261 106,-261 106,-193 217,-193 217,-261\"/>\n",
       "<text text-anchor=\"middle\" x=\"161.5\" y=\"-245.8\" font-family=\"Helvetica,sans-Serif\" font-size=\"14.00\">X[14] &lt;= 0.003</text>\n",
       "<text text-anchor=\"middle\" x=\"161.5\" y=\"-230.8\" font-family=\"Helvetica,sans-Serif\" font-size=\"14.00\">gini = 0.278</text>\n",
       "<text text-anchor=\"middle\" x=\"161.5\" y=\"-215.8\" font-family=\"Helvetica,sans-Serif\" font-size=\"14.00\">samples = 6</text>\n",
       "<text text-anchor=\"middle\" x=\"161.5\" y=\"-200.8\" font-family=\"Helvetica,sans-Serif\" font-size=\"14.00\">value = [1, 5]</text>\n",
       "</g>\n",
       "<!-- 7&#45;&gt;8 -->\n",
       "<g id=\"edge8\" class=\"edge\">\n",
       "<title>7&#45;&gt;8</title>\n",
       "<path fill=\"none\" stroke=\"black\" d=\"M247.94,-296.88C236.21,-287.53 223.32,-277.26 211.15,-267.57\"/>\n",
       "<polygon fill=\"black\" stroke=\"black\" points=\"213.29,-264.79 203.29,-261.3 208.93,-270.27 213.29,-264.79\"/>\n",
       "</g>\n",
       "<!-- 11 -->\n",
       "<g id=\"node12\" class=\"node\">\n",
       "<title>11</title>\n",
       "<polygon fill=\"none\" stroke=\"black\" points=\"348,-261 235,-261 235,-193 348,-193 348,-261\"/>\n",
       "<text text-anchor=\"middle\" x=\"291.5\" y=\"-245.8\" font-family=\"Helvetica,sans-Serif\" font-size=\"14.00\">X[21] &lt;= 32.83</text>\n",
       "<text text-anchor=\"middle\" x=\"291.5\" y=\"-230.8\" font-family=\"Helvetica,sans-Serif\" font-size=\"14.00\">gini = 0.008</text>\n",
       "<text text-anchor=\"middle\" x=\"291.5\" y=\"-215.8\" font-family=\"Helvetica,sans-Serif\" font-size=\"14.00\">samples = 256</text>\n",
       "<text text-anchor=\"middle\" x=\"291.5\" y=\"-200.8\" font-family=\"Helvetica,sans-Serif\" font-size=\"14.00\">value = [1, 255]</text>\n",
       "</g>\n",
       "<!-- 7&#45;&gt;11 -->\n",
       "<g id=\"edge11\" class=\"edge\">\n",
       "<title>7&#45;&gt;11</title>\n",
       "<path fill=\"none\" stroke=\"black\" d=\"M290.15,-296.88C290.31,-288.78 290.48,-279.98 290.65,-271.47\"/>\n",
       "<polygon fill=\"black\" stroke=\"black\" points=\"294.15,-271.37 290.85,-261.3 287.15,-271.23 294.15,-271.37\"/>\n",
       "</g>\n",
       "<!-- 9 -->\n",
       "<g id=\"node10\" class=\"node\">\n",
       "<title>9</title>\n",
       "<polygon fill=\"none\" stroke=\"black\" points=\"97,-149.5 0,-149.5 0,-96.5 97,-96.5 97,-149.5\"/>\n",
       "<text text-anchor=\"middle\" x=\"48.5\" y=\"-134.3\" font-family=\"Helvetica,sans-Serif\" font-size=\"14.00\">gini = 0.0</text>\n",
       "<text text-anchor=\"middle\" x=\"48.5\" y=\"-119.3\" font-family=\"Helvetica,sans-Serif\" font-size=\"14.00\">samples = 5</text>\n",
       "<text text-anchor=\"middle\" x=\"48.5\" y=\"-104.3\" font-family=\"Helvetica,sans-Serif\" font-size=\"14.00\">value = [0, 5]</text>\n",
       "</g>\n",
       "<!-- 8&#45;&gt;9 -->\n",
       "<g id=\"edge9\" class=\"edge\">\n",
       "<title>8&#45;&gt;9</title>\n",
       "<path fill=\"none\" stroke=\"black\" d=\"M124.81,-192.88C111.9,-181.23 97.4,-168.14 84.54,-156.53\"/>\n",
       "<polygon fill=\"black\" stroke=\"black\" points=\"86.54,-153.62 76.77,-149.52 81.85,-158.82 86.54,-153.62\"/>\n",
       "</g>\n",
       "<!-- 10 -->\n",
       "<g id=\"node11\" class=\"node\">\n",
       "<title>10</title>\n",
       "<polygon fill=\"none\" stroke=\"black\" points=\"212,-149.5 115,-149.5 115,-96.5 212,-96.5 212,-149.5\"/>\n",
       "<text text-anchor=\"middle\" x=\"163.5\" y=\"-134.3\" font-family=\"Helvetica,sans-Serif\" font-size=\"14.00\">gini = 0.0</text>\n",
       "<text text-anchor=\"middle\" x=\"163.5\" y=\"-119.3\" font-family=\"Helvetica,sans-Serif\" font-size=\"14.00\">samples = 1</text>\n",
       "<text text-anchor=\"middle\" x=\"163.5\" y=\"-104.3\" font-family=\"Helvetica,sans-Serif\" font-size=\"14.00\">value = [1, 0]</text>\n",
       "</g>\n",
       "<!-- 8&#45;&gt;10 -->\n",
       "<g id=\"edge10\" class=\"edge\">\n",
       "<title>8&#45;&gt;10</title>\n",
       "<path fill=\"none\" stroke=\"black\" d=\"M162.15,-192.88C162.36,-182.22 162.59,-170.35 162.8,-159.52\"/>\n",
       "<polygon fill=\"black\" stroke=\"black\" points=\"166.3,-159.59 163,-149.52 159.3,-159.45 166.3,-159.59\"/>\n",
       "</g>\n",
       "<!-- 12 -->\n",
       "<g id=\"node13\" class=\"node\">\n",
       "<title>12</title>\n",
       "<polygon fill=\"none\" stroke=\"black\" points=\"346,-149.5 233,-149.5 233,-96.5 346,-96.5 346,-149.5\"/>\n",
       "<text text-anchor=\"middle\" x=\"289.5\" y=\"-134.3\" font-family=\"Helvetica,sans-Serif\" font-size=\"14.00\">gini = 0.0</text>\n",
       "<text text-anchor=\"middle\" x=\"289.5\" y=\"-119.3\" font-family=\"Helvetica,sans-Serif\" font-size=\"14.00\">samples = 239</text>\n",
       "<text text-anchor=\"middle\" x=\"289.5\" y=\"-104.3\" font-family=\"Helvetica,sans-Serif\" font-size=\"14.00\">value = [0, 239]</text>\n",
       "</g>\n",
       "<!-- 11&#45;&gt;12 -->\n",
       "<g id=\"edge12\" class=\"edge\">\n",
       "<title>11&#45;&gt;12</title>\n",
       "<path fill=\"none\" stroke=\"black\" d=\"M290.85,-192.88C290.64,-182.22 290.41,-170.35 290.2,-159.52\"/>\n",
       "<polygon fill=\"black\" stroke=\"black\" points=\"293.7,-159.45 290,-149.52 286.7,-159.59 293.7,-159.45\"/>\n",
       "</g>\n",
       "<!-- 13 -->\n",
       "<g id=\"node14\" class=\"node\">\n",
       "<title>13</title>\n",
       "<polygon fill=\"none\" stroke=\"black\" points=\"483,-157 364,-157 364,-89 483,-89 483,-157\"/>\n",
       "<text text-anchor=\"middle\" x=\"423.5\" y=\"-141.8\" font-family=\"Helvetica,sans-Serif\" font-size=\"14.00\">X[21] &lt;= 33.805</text>\n",
       "<text text-anchor=\"middle\" x=\"423.5\" y=\"-126.8\" font-family=\"Helvetica,sans-Serif\" font-size=\"14.00\">gini = 0.111</text>\n",
       "<text text-anchor=\"middle\" x=\"423.5\" y=\"-111.8\" font-family=\"Helvetica,sans-Serif\" font-size=\"14.00\">samples = 17</text>\n",
       "<text text-anchor=\"middle\" x=\"423.5\" y=\"-96.8\" font-family=\"Helvetica,sans-Serif\" font-size=\"14.00\">value = [1, 16]</text>\n",
       "</g>\n",
       "<!-- 11&#45;&gt;13 -->\n",
       "<g id=\"edge13\" class=\"edge\">\n",
       "<title>11&#45;&gt;13</title>\n",
       "<path fill=\"none\" stroke=\"black\" d=\"M334.36,-192.88C346.46,-183.53 359.75,-173.26 372.29,-163.57\"/>\n",
       "<polygon fill=\"black\" stroke=\"black\" points=\"374.63,-166.18 380.41,-157.3 370.35,-160.64 374.63,-166.18\"/>\n",
       "</g>\n",
       "<!-- 14 -->\n",
       "<g id=\"node15\" class=\"node\">\n",
       "<title>14</title>\n",
       "<polygon fill=\"none\" stroke=\"black\" points=\"412,-53 315,-53 315,0 412,0 412,-53\"/>\n",
       "<text text-anchor=\"middle\" x=\"363.5\" y=\"-37.8\" font-family=\"Helvetica,sans-Serif\" font-size=\"14.00\">gini = 0.0</text>\n",
       "<text text-anchor=\"middle\" x=\"363.5\" y=\"-22.8\" font-family=\"Helvetica,sans-Serif\" font-size=\"14.00\">samples = 1</text>\n",
       "<text text-anchor=\"middle\" x=\"363.5\" y=\"-7.8\" font-family=\"Helvetica,sans-Serif\" font-size=\"14.00\">value = [1, 0]</text>\n",
       "</g>\n",
       "<!-- 13&#45;&gt;14 -->\n",
       "<g id=\"edge14\" class=\"edge\">\n",
       "<title>13&#45;&gt;14</title>\n",
       "<path fill=\"none\" stroke=\"black\" d=\"M402.51,-88.95C396.94,-80.17 390.91,-70.66 385.29,-61.82\"/>\n",
       "<polygon fill=\"black\" stroke=\"black\" points=\"388.16,-59.8 379.84,-53.24 382.25,-63.55 388.16,-59.8\"/>\n",
       "</g>\n",
       "<!-- 15 -->\n",
       "<g id=\"node16\" class=\"node\">\n",
       "<title>15</title>\n",
       "<polygon fill=\"none\" stroke=\"black\" points=\"535,-53 430,-53 430,0 535,0 535,-53\"/>\n",
       "<text text-anchor=\"middle\" x=\"482.5\" y=\"-37.8\" font-family=\"Helvetica,sans-Serif\" font-size=\"14.00\">gini = 0.0</text>\n",
       "<text text-anchor=\"middle\" x=\"482.5\" y=\"-22.8\" font-family=\"Helvetica,sans-Serif\" font-size=\"14.00\">samples = 16</text>\n",
       "<text text-anchor=\"middle\" x=\"482.5\" y=\"-7.8\" font-family=\"Helvetica,sans-Serif\" font-size=\"14.00\">value = [0, 16]</text>\n",
       "</g>\n",
       "<!-- 13&#45;&gt;15 -->\n",
       "<g id=\"edge15\" class=\"edge\">\n",
       "<title>13&#45;&gt;15</title>\n",
       "<path fill=\"none\" stroke=\"black\" d=\"M444.14,-88.95C449.62,-80.17 455.55,-70.66 461.08,-61.82\"/>\n",
       "<polygon fill=\"black\" stroke=\"black\" points=\"464.1,-63.57 466.43,-53.24 458.17,-59.87 464.1,-63.57\"/>\n",
       "</g>\n",
       "<!-- 17 -->\n",
       "<g id=\"node18\" class=\"node\">\n",
       "<title>17</title>\n",
       "<polygon fill=\"none\" stroke=\"black\" points=\"466,-253.5 369,-253.5 369,-200.5 466,-200.5 466,-253.5\"/>\n",
       "<text text-anchor=\"middle\" x=\"417.5\" y=\"-238.3\" font-family=\"Helvetica,sans-Serif\" font-size=\"14.00\">gini = 0.0</text>\n",
       "<text text-anchor=\"middle\" x=\"417.5\" y=\"-223.3\" font-family=\"Helvetica,sans-Serif\" font-size=\"14.00\">samples = 1</text>\n",
       "<text text-anchor=\"middle\" x=\"417.5\" y=\"-208.3\" font-family=\"Helvetica,sans-Serif\" font-size=\"14.00\">value = [1, 0]</text>\n",
       "</g>\n",
       "<!-- 16&#45;&gt;17 -->\n",
       "<g id=\"edge17\" class=\"edge\">\n",
       "<title>16&#45;&gt;17</title>\n",
       "<path fill=\"none\" stroke=\"black\" d=\"M418.85,-296.88C418.64,-286.22 418.41,-274.35 418.2,-263.52\"/>\n",
       "<polygon fill=\"black\" stroke=\"black\" points=\"421.7,-263.45 418,-253.52 414.7,-263.59 421.7,-263.45\"/>\n",
       "</g>\n",
       "<!-- 18 -->\n",
       "<g id=\"node19\" class=\"node\">\n",
       "<title>18</title>\n",
       "<polygon fill=\"none\" stroke=\"black\" points=\"581,-253.5 484,-253.5 484,-200.5 581,-200.5 581,-253.5\"/>\n",
       "<text text-anchor=\"middle\" x=\"532.5\" y=\"-238.3\" font-family=\"Helvetica,sans-Serif\" font-size=\"14.00\">gini = 0.0</text>\n",
       "<text text-anchor=\"middle\" x=\"532.5\" y=\"-223.3\" font-family=\"Helvetica,sans-Serif\" font-size=\"14.00\">samples = 2</text>\n",
       "<text text-anchor=\"middle\" x=\"532.5\" y=\"-208.3\" font-family=\"Helvetica,sans-Serif\" font-size=\"14.00\">value = [0, 2]</text>\n",
       "</g>\n",
       "<!-- 16&#45;&gt;18 -->\n",
       "<g id=\"edge18\" class=\"edge\">\n",
       "<title>16&#45;&gt;18</title>\n",
       "<path fill=\"none\" stroke=\"black\" d=\"M456.19,-296.88C469.1,-285.23 483.6,-272.14 496.46,-260.53\"/>\n",
       "<polygon fill=\"black\" stroke=\"black\" points=\"499.15,-262.82 504.23,-253.52 494.46,-257.62 499.15,-262.82\"/>\n",
       "</g>\n",
       "<!-- 20 -->\n",
       "<g id=\"node21\" class=\"node\">\n",
       "<title>20</title>\n",
       "<polygon fill=\"none\" stroke=\"black\" points=\"593,-357.5 496,-357.5 496,-304.5 593,-304.5 593,-357.5\"/>\n",
       "<text text-anchor=\"middle\" x=\"544.5\" y=\"-342.3\" font-family=\"Helvetica,sans-Serif\" font-size=\"14.00\">gini = 0.0</text>\n",
       "<text text-anchor=\"middle\" x=\"544.5\" y=\"-327.3\" font-family=\"Helvetica,sans-Serif\" font-size=\"14.00\">samples = 2</text>\n",
       "<text text-anchor=\"middle\" x=\"544.5\" y=\"-312.3\" font-family=\"Helvetica,sans-Serif\" font-size=\"14.00\">value = [0, 2]</text>\n",
       "</g>\n",
       "<!-- 19&#45;&gt;20 -->\n",
       "<g id=\"edge20\" class=\"edge\">\n",
       "<title>19&#45;&gt;20</title>\n",
       "<path fill=\"none\" stroke=\"black\" d=\"M545.85,-400.88C545.64,-390.22 545.41,-378.35 545.2,-367.52\"/>\n",
       "<polygon fill=\"black\" stroke=\"black\" points=\"548.7,-367.45 545,-357.52 541.7,-367.59 548.7,-367.45\"/>\n",
       "</g>\n",
       "<!-- 21 -->\n",
       "<g id=\"node22\" class=\"node\">\n",
       "<title>21</title>\n",
       "<polygon fill=\"none\" stroke=\"black\" points=\"708,-357.5 611,-357.5 611,-304.5 708,-304.5 708,-357.5\"/>\n",
       "<text text-anchor=\"middle\" x=\"659.5\" y=\"-342.3\" font-family=\"Helvetica,sans-Serif\" font-size=\"14.00\">gini = 0.0</text>\n",
       "<text text-anchor=\"middle\" x=\"659.5\" y=\"-327.3\" font-family=\"Helvetica,sans-Serif\" font-size=\"14.00\">samples = 1</text>\n",
       "<text text-anchor=\"middle\" x=\"659.5\" y=\"-312.3\" font-family=\"Helvetica,sans-Serif\" font-size=\"14.00\">value = [1, 0]</text>\n",
       "</g>\n",
       "<!-- 19&#45;&gt;21 -->\n",
       "<g id=\"edge21\" class=\"edge\">\n",
       "<title>19&#45;&gt;21</title>\n",
       "<path fill=\"none\" stroke=\"black\" d=\"M583.19,-400.88C596.1,-389.23 610.6,-376.14 623.46,-364.53\"/>\n",
       "<polygon fill=\"black\" stroke=\"black\" points=\"626.15,-366.82 631.23,-357.52 621.46,-361.62 626.15,-366.82\"/>\n",
       "</g>\n",
       "<!-- 23 -->\n",
       "<g id=\"node24\" class=\"node\">\n",
       "<title>23</title>\n",
       "<polygon fill=\"none\" stroke=\"black\" points=\"688,-565.5 591,-565.5 591,-512.5 688,-512.5 688,-565.5\"/>\n",
       "<text text-anchor=\"middle\" x=\"639.5\" y=\"-550.3\" font-family=\"Helvetica,sans-Serif\" font-size=\"14.00\">gini = 0.0</text>\n",
       "<text text-anchor=\"middle\" x=\"639.5\" y=\"-535.3\" font-family=\"Helvetica,sans-Serif\" font-size=\"14.00\">samples = 4</text>\n",
       "<text text-anchor=\"middle\" x=\"639.5\" y=\"-520.3\" font-family=\"Helvetica,sans-Serif\" font-size=\"14.00\">value = [4, 0]</text>\n",
       "</g>\n",
       "<!-- 22&#45;&gt;23 -->\n",
       "<g id=\"edge23\" class=\"edge\">\n",
       "<title>22&#45;&gt;23</title>\n",
       "<path fill=\"none\" stroke=\"black\" d=\"M640.18,-608.88C640.07,-598.33 639.96,-586.6 639.85,-575.85\"/>\n",
       "<polygon fill=\"black\" stroke=\"black\" points=\"643.35,-575.49 639.75,-565.52 636.35,-575.55 643.35,-575.49\"/>\n",
       "</g>\n",
       "<!-- 24 -->\n",
       "<g id=\"node25\" class=\"node\">\n",
       "<title>24</title>\n",
       "<polygon fill=\"none\" stroke=\"black\" points=\"817,-573 706,-573 706,-505 817,-505 817,-573\"/>\n",
       "<text text-anchor=\"middle\" x=\"761.5\" y=\"-557.8\" font-family=\"Helvetica,sans-Serif\" font-size=\"14.00\">X[14] &lt;= 0.008</text>\n",
       "<text text-anchor=\"middle\" x=\"761.5\" y=\"-542.8\" font-family=\"Helvetica,sans-Serif\" font-size=\"14.00\">gini = 0.231</text>\n",
       "<text text-anchor=\"middle\" x=\"761.5\" y=\"-527.8\" font-family=\"Helvetica,sans-Serif\" font-size=\"14.00\">samples = 15</text>\n",
       "<text text-anchor=\"middle\" x=\"761.5\" y=\"-512.8\" font-family=\"Helvetica,sans-Serif\" font-size=\"14.00\">value = [2, 13]</text>\n",
       "</g>\n",
       "<!-- 22&#45;&gt;24 -->\n",
       "<g id=\"edge24\" class=\"edge\">\n",
       "<title>22&#45;&gt;24</title>\n",
       "<path fill=\"none\" stroke=\"black\" d=\"M679.79,-608.88C690.77,-599.62 702.83,-589.45 714.23,-579.85\"/>\n",
       "<polygon fill=\"black\" stroke=\"black\" points=\"716.61,-582.42 722,-573.3 712.1,-577.07 716.61,-582.42\"/>\n",
       "</g>\n",
       "<!-- 25 -->\n",
       "<g id=\"node26\" class=\"node\">\n",
       "<title>25</title>\n",
       "<polygon fill=\"none\" stroke=\"black\" points=\"784,-461.5 679,-461.5 679,-408.5 784,-408.5 784,-461.5\"/>\n",
       "<text text-anchor=\"middle\" x=\"731.5\" y=\"-446.3\" font-family=\"Helvetica,sans-Serif\" font-size=\"14.00\">gini = 0.0</text>\n",
       "<text text-anchor=\"middle\" x=\"731.5\" y=\"-431.3\" font-family=\"Helvetica,sans-Serif\" font-size=\"14.00\">samples = 13</text>\n",
       "<text text-anchor=\"middle\" x=\"731.5\" y=\"-416.3\" font-family=\"Helvetica,sans-Serif\" font-size=\"14.00\">value = [0, 13]</text>\n",
       "</g>\n",
       "<!-- 24&#45;&gt;25 -->\n",
       "<g id=\"edge25\" class=\"edge\">\n",
       "<title>24&#45;&gt;25</title>\n",
       "<path fill=\"none\" stroke=\"black\" d=\"M751.76,-504.88C748.59,-494.11 745.06,-482.11 741.85,-471.18\"/>\n",
       "<polygon fill=\"black\" stroke=\"black\" points=\"745.19,-470.13 739.01,-461.52 738.47,-472.1 745.19,-470.13\"/>\n",
       "</g>\n",
       "<!-- 26 -->\n",
       "<g id=\"node27\" class=\"node\">\n",
       "<title>26</title>\n",
       "<polygon fill=\"none\" stroke=\"black\" points=\"899,-461.5 802,-461.5 802,-408.5 899,-408.5 899,-461.5\"/>\n",
       "<text text-anchor=\"middle\" x=\"850.5\" y=\"-446.3\" font-family=\"Helvetica,sans-Serif\" font-size=\"14.00\">gini = 0.0</text>\n",
       "<text text-anchor=\"middle\" x=\"850.5\" y=\"-431.3\" font-family=\"Helvetica,sans-Serif\" font-size=\"14.00\">samples = 2</text>\n",
       "<text text-anchor=\"middle\" x=\"850.5\" y=\"-416.3\" font-family=\"Helvetica,sans-Serif\" font-size=\"14.00\">value = [2, 0]</text>\n",
       "</g>\n",
       "<!-- 24&#45;&gt;26 -->\n",
       "<g id=\"edge26\" class=\"edge\">\n",
       "<title>24&#45;&gt;26</title>\n",
       "<path fill=\"none\" stroke=\"black\" d=\"M790.4,-504.88C800.38,-493.45 811.55,-480.63 821.54,-469.19\"/>\n",
       "<polygon fill=\"black\" stroke=\"black\" points=\"824.3,-471.36 828.23,-461.52 819.02,-466.75 824.3,-471.36\"/>\n",
       "</g>\n",
       "<!-- 28 -->\n",
       "<g id=\"node29\" class=\"node\">\n",
       "<title>28</title>\n",
       "<polygon fill=\"none\" stroke=\"black\" points=\"808,-669.5 711,-669.5 711,-616.5 808,-616.5 808,-669.5\"/>\n",
       "<text text-anchor=\"middle\" x=\"759.5\" y=\"-654.3\" font-family=\"Helvetica,sans-Serif\" font-size=\"14.00\">gini = 0.0</text>\n",
       "<text text-anchor=\"middle\" x=\"759.5\" y=\"-639.3\" font-family=\"Helvetica,sans-Serif\" font-size=\"14.00\">samples = 2</text>\n",
       "<text text-anchor=\"middle\" x=\"759.5\" y=\"-624.3\" font-family=\"Helvetica,sans-Serif\" font-size=\"14.00\">value = [0, 2]</text>\n",
       "</g>\n",
       "<!-- 27&#45;&gt;28 -->\n",
       "<g id=\"edge28\" class=\"edge\">\n",
       "<title>27&#45;&gt;28</title>\n",
       "<path fill=\"none\" stroke=\"black\" d=\"M796.64,-712.88C790.71,-701.89 784.1,-689.62 778.11,-678.52\"/>\n",
       "<polygon fill=\"black\" stroke=\"black\" points=\"781.09,-676.66 773.26,-669.52 774.93,-679.98 781.09,-676.66\"/>\n",
       "</g>\n",
       "<!-- 29 -->\n",
       "<g id=\"node30\" class=\"node\">\n",
       "<title>29</title>\n",
       "<polygon fill=\"none\" stroke=\"black\" points=\"931,-669.5 826,-669.5 826,-616.5 931,-616.5 931,-669.5\"/>\n",
       "<text text-anchor=\"middle\" x=\"878.5\" y=\"-654.3\" font-family=\"Helvetica,sans-Serif\" font-size=\"14.00\">gini = 0.0</text>\n",
       "<text text-anchor=\"middle\" x=\"878.5\" y=\"-639.3\" font-family=\"Helvetica,sans-Serif\" font-size=\"14.00\">samples = 13</text>\n",
       "<text text-anchor=\"middle\" x=\"878.5\" y=\"-624.3\" font-family=\"Helvetica,sans-Serif\" font-size=\"14.00\">value = [13, 0]</text>\n",
       "</g>\n",
       "<!-- 27&#45;&gt;29 -->\n",
       "<g id=\"edge29\" class=\"edge\">\n",
       "<title>27&#45;&gt;29</title>\n",
       "<path fill=\"none\" stroke=\"black\" d=\"M835.28,-712.88C842.25,-701.78 850.03,-689.37 857.05,-678.18\"/>\n",
       "<polygon fill=\"black\" stroke=\"black\" points=\"860.14,-679.85 862.49,-669.52 854.21,-676.13 860.14,-679.85\"/>\n",
       "</g>\n",
       "<!-- 31 -->\n",
       "<g id=\"node32\" class=\"node\">\n",
       "<title>31</title>\n",
       "<polygon fill=\"none\" stroke=\"black\" points=\"1101,-781 998,-781 998,-713 1101,-713 1101,-781\"/>\n",
       "<text text-anchor=\"middle\" x=\"1049.5\" y=\"-765.8\" font-family=\"Helvetica,sans-Serif\" font-size=\"14.00\">X[4] &lt;= 0.108</text>\n",
       "<text text-anchor=\"middle\" x=\"1049.5\" y=\"-750.8\" font-family=\"Helvetica,sans-Serif\" font-size=\"14.00\">gini = 0.49</text>\n",
       "<text text-anchor=\"middle\" x=\"1049.5\" y=\"-735.8\" font-family=\"Helvetica,sans-Serif\" font-size=\"14.00\">samples = 14</text>\n",
       "<text text-anchor=\"middle\" x=\"1049.5\" y=\"-720.8\" font-family=\"Helvetica,sans-Serif\" font-size=\"14.00\">value = [6, 8]</text>\n",
       "</g>\n",
       "<!-- 30&#45;&gt;31 -->\n",
       "<g id=\"edge31\" class=\"edge\">\n",
       "<title>30&#45;&gt;31</title>\n",
       "<path fill=\"none\" stroke=\"black\" d=\"M1049.5,-816.88C1049.5,-808.78 1049.5,-799.98 1049.5,-791.47\"/>\n",
       "<polygon fill=\"black\" stroke=\"black\" points=\"1053,-791.3 1049.5,-781.3 1046,-791.3 1053,-791.3\"/>\n",
       "</g>\n",
       "<!-- 34 -->\n",
       "<g id=\"node35\" class=\"node\">\n",
       "<title>34</title>\n",
       "<polygon fill=\"none\" stroke=\"black\" points=\"1284,-781 1171,-781 1171,-713 1284,-713 1284,-781\"/>\n",
       "<text text-anchor=\"middle\" x=\"1227.5\" y=\"-765.8\" font-family=\"Helvetica,sans-Serif\" font-size=\"14.00\">X[11] &lt;= 0.431</text>\n",
       "<text text-anchor=\"middle\" x=\"1227.5\" y=\"-750.8\" font-family=\"Helvetica,sans-Serif\" font-size=\"14.00\">gini = 0.043</text>\n",
       "<text text-anchor=\"middle\" x=\"1227.5\" y=\"-735.8\" font-family=\"Helvetica,sans-Serif\" font-size=\"14.00\">samples = 138</text>\n",
       "<text text-anchor=\"middle\" x=\"1227.5\" y=\"-720.8\" font-family=\"Helvetica,sans-Serif\" font-size=\"14.00\">value = [135, 3]</text>\n",
       "</g>\n",
       "<!-- 30&#45;&gt;34 -->\n",
       "<g id=\"edge34\" class=\"edge\">\n",
       "<title>30&#45;&gt;34</title>\n",
       "<path fill=\"none\" stroke=\"black\" d=\"M1107.29,-816.88C1124.83,-806.84 1144.21,-795.73 1162.2,-785.42\"/>\n",
       "<polygon fill=\"black\" stroke=\"black\" points=\"1163.97,-788.44 1170.91,-780.43 1160.49,-782.36 1163.97,-788.44\"/>\n",
       "</g>\n",
       "<!-- 32 -->\n",
       "<g id=\"node33\" class=\"node\">\n",
       "<title>32</title>\n",
       "<polygon fill=\"none\" stroke=\"black\" points=\"1046,-669.5 949,-669.5 949,-616.5 1046,-616.5 1046,-669.5\"/>\n",
       "<text text-anchor=\"middle\" x=\"997.5\" y=\"-654.3\" font-family=\"Helvetica,sans-Serif\" font-size=\"14.00\">gini = 0.0</text>\n",
       "<text text-anchor=\"middle\" x=\"997.5\" y=\"-639.3\" font-family=\"Helvetica,sans-Serif\" font-size=\"14.00\">samples = 8</text>\n",
       "<text text-anchor=\"middle\" x=\"997.5\" y=\"-624.3\" font-family=\"Helvetica,sans-Serif\" font-size=\"14.00\">value = [0, 8]</text>\n",
       "</g>\n",
       "<!-- 31&#45;&gt;32 -->\n",
       "<g id=\"edge32\" class=\"edge\">\n",
       "<title>31&#45;&gt;32</title>\n",
       "<path fill=\"none\" stroke=\"black\" d=\"M1032.62,-712.88C1027.01,-701.89 1020.76,-689.62 1015.1,-678.52\"/>\n",
       "<polygon fill=\"black\" stroke=\"black\" points=\"1018.17,-676.84 1010.51,-669.52 1011.93,-680.02 1018.17,-676.84\"/>\n",
       "</g>\n",
       "<!-- 33 -->\n",
       "<g id=\"node34\" class=\"node\">\n",
       "<title>33</title>\n",
       "<polygon fill=\"none\" stroke=\"black\" points=\"1161,-669.5 1064,-669.5 1064,-616.5 1161,-616.5 1161,-669.5\"/>\n",
       "<text text-anchor=\"middle\" x=\"1112.5\" y=\"-654.3\" font-family=\"Helvetica,sans-Serif\" font-size=\"14.00\">gini = 0.0</text>\n",
       "<text text-anchor=\"middle\" x=\"1112.5\" y=\"-639.3\" font-family=\"Helvetica,sans-Serif\" font-size=\"14.00\">samples = 6</text>\n",
       "<text text-anchor=\"middle\" x=\"1112.5\" y=\"-624.3\" font-family=\"Helvetica,sans-Serif\" font-size=\"14.00\">value = [6, 0]</text>\n",
       "</g>\n",
       "<!-- 31&#45;&gt;33 -->\n",
       "<g id=\"edge33\" class=\"edge\">\n",
       "<title>31&#45;&gt;33</title>\n",
       "<path fill=\"none\" stroke=\"black\" d=\"M1069.95,-712.88C1076.82,-701.78 1084.48,-689.37 1091.39,-678.18\"/>\n",
       "<polygon fill=\"black\" stroke=\"black\" points=\"1094.46,-679.87 1096.74,-669.52 1088.5,-676.19 1094.46,-679.87\"/>\n",
       "</g>\n",
       "<!-- 35 -->\n",
       "<g id=\"node36\" class=\"node\">\n",
       "<title>35</title>\n",
       "<polygon fill=\"none\" stroke=\"black\" points=\"1276,-669.5 1179,-669.5 1179,-616.5 1276,-616.5 1276,-669.5\"/>\n",
       "<text text-anchor=\"middle\" x=\"1227.5\" y=\"-654.3\" font-family=\"Helvetica,sans-Serif\" font-size=\"14.00\">gini = 0.0</text>\n",
       "<text text-anchor=\"middle\" x=\"1227.5\" y=\"-639.3\" font-family=\"Helvetica,sans-Serif\" font-size=\"14.00\">samples = 1</text>\n",
       "<text text-anchor=\"middle\" x=\"1227.5\" y=\"-624.3\" font-family=\"Helvetica,sans-Serif\" font-size=\"14.00\">value = [0, 1]</text>\n",
       "</g>\n",
       "<!-- 34&#45;&gt;35 -->\n",
       "<g id=\"edge35\" class=\"edge\">\n",
       "<title>34&#45;&gt;35</title>\n",
       "<path fill=\"none\" stroke=\"black\" d=\"M1227.5,-712.88C1227.5,-702.33 1227.5,-690.6 1227.5,-679.85\"/>\n",
       "<polygon fill=\"black\" stroke=\"black\" points=\"1231,-679.52 1227.5,-669.52 1224,-679.52 1231,-679.52\"/>\n",
       "</g>\n",
       "<!-- 36 -->\n",
       "<g id=\"node37\" class=\"node\">\n",
       "<title>36</title>\n",
       "<polygon fill=\"none\" stroke=\"black\" points=\"1407,-677 1294,-677 1294,-609 1407,-609 1407,-677\"/>\n",
       "<text text-anchor=\"middle\" x=\"1350.5\" y=\"-661.8\" font-family=\"Helvetica,sans-Serif\" font-size=\"14.00\">X[26] &lt;= 0.203</text>\n",
       "<text text-anchor=\"middle\" x=\"1350.5\" y=\"-646.8\" font-family=\"Helvetica,sans-Serif\" font-size=\"14.00\">gini = 0.029</text>\n",
       "<text text-anchor=\"middle\" x=\"1350.5\" y=\"-631.8\" font-family=\"Helvetica,sans-Serif\" font-size=\"14.00\">samples = 137</text>\n",
       "<text text-anchor=\"middle\" x=\"1350.5\" y=\"-616.8\" font-family=\"Helvetica,sans-Serif\" font-size=\"14.00\">value = [135, 2]</text>\n",
       "</g>\n",
       "<!-- 34&#45;&gt;36 -->\n",
       "<g id=\"edge36\" class=\"edge\">\n",
       "<title>34&#45;&gt;36</title>\n",
       "<path fill=\"none\" stroke=\"black\" d=\"M1267.43,-712.88C1278.61,-703.62 1290.86,-693.45 1302.45,-683.85\"/>\n",
       "<polygon fill=\"black\" stroke=\"black\" points=\"1304.88,-686.38 1310.34,-677.3 1300.41,-680.99 1304.88,-686.38\"/>\n",
       "</g>\n",
       "<!-- 37 -->\n",
       "<g id=\"node38\" class=\"node\">\n",
       "<title>37</title>\n",
       "<polygon fill=\"none\" stroke=\"black\" points=\"1337,-565.5 1240,-565.5 1240,-512.5 1337,-512.5 1337,-565.5\"/>\n",
       "<text text-anchor=\"middle\" x=\"1288.5\" y=\"-550.3\" font-family=\"Helvetica,sans-Serif\" font-size=\"14.00\">gini = 0.0</text>\n",
       "<text text-anchor=\"middle\" x=\"1288.5\" y=\"-535.3\" font-family=\"Helvetica,sans-Serif\" font-size=\"14.00\">samples = 1</text>\n",
       "<text text-anchor=\"middle\" x=\"1288.5\" y=\"-520.3\" font-family=\"Helvetica,sans-Serif\" font-size=\"14.00\">value = [0, 1]</text>\n",
       "</g>\n",
       "<!-- 36&#45;&gt;37 -->\n",
       "<g id=\"edge37\" class=\"edge\">\n",
       "<title>36&#45;&gt;37</title>\n",
       "<path fill=\"none\" stroke=\"black\" d=\"M1330.37,-608.88C1323.62,-597.78 1316.08,-585.37 1309.28,-574.18\"/>\n",
       "<polygon fill=\"black\" stroke=\"black\" points=\"1312.2,-572.25 1304.01,-565.52 1306.22,-575.88 1312.2,-572.25\"/>\n",
       "</g>\n",
       "<!-- 38 -->\n",
       "<g id=\"node39\" class=\"node\">\n",
       "<title>38</title>\n",
       "<polygon fill=\"none\" stroke=\"black\" points=\"1468,-573 1355,-573 1355,-505 1468,-505 1468,-573\"/>\n",
       "<text text-anchor=\"middle\" x=\"1411.5\" y=\"-557.8\" font-family=\"Helvetica,sans-Serif\" font-size=\"14.00\">X[1] &lt;= 15.37</text>\n",
       "<text text-anchor=\"middle\" x=\"1411.5\" y=\"-542.8\" font-family=\"Helvetica,sans-Serif\" font-size=\"14.00\">gini = 0.015</text>\n",
       "<text text-anchor=\"middle\" x=\"1411.5\" y=\"-527.8\" font-family=\"Helvetica,sans-Serif\" font-size=\"14.00\">samples = 136</text>\n",
       "<text text-anchor=\"middle\" x=\"1411.5\" y=\"-512.8\" font-family=\"Helvetica,sans-Serif\" font-size=\"14.00\">value = [135, 1]</text>\n",
       "</g>\n",
       "<!-- 36&#45;&gt;38 -->\n",
       "<g id=\"edge38\" class=\"edge\">\n",
       "<title>36&#45;&gt;38</title>\n",
       "<path fill=\"none\" stroke=\"black\" d=\"M1370.3,-608.88C1375.42,-600.33 1380.99,-591.01 1386.34,-582.07\"/>\n",
       "<polygon fill=\"black\" stroke=\"black\" points=\"1389.46,-583.68 1391.59,-573.3 1383.45,-580.09 1389.46,-583.68\"/>\n",
       "</g>\n",
       "<!-- 39 -->\n",
       "<g id=\"node40\" class=\"node\">\n",
       "<title>39</title>\n",
       "<polygon fill=\"none\" stroke=\"black\" points=\"1402,-469 1291,-469 1291,-401 1402,-401 1402,-469\"/>\n",
       "<text text-anchor=\"middle\" x=\"1346.5\" y=\"-453.8\" font-family=\"Helvetica,sans-Serif\" font-size=\"14.00\">X[18] &lt;= 0.016</text>\n",
       "<text text-anchor=\"middle\" x=\"1346.5\" y=\"-438.8\" font-family=\"Helvetica,sans-Serif\" font-size=\"14.00\">gini = 0.32</text>\n",
       "<text text-anchor=\"middle\" x=\"1346.5\" y=\"-423.8\" font-family=\"Helvetica,sans-Serif\" font-size=\"14.00\">samples = 5</text>\n",
       "<text text-anchor=\"middle\" x=\"1346.5\" y=\"-408.8\" font-family=\"Helvetica,sans-Serif\" font-size=\"14.00\">value = [4, 1]</text>\n",
       "</g>\n",
       "<!-- 38&#45;&gt;39 -->\n",
       "<g id=\"edge39\" class=\"edge\">\n",
       "<title>38&#45;&gt;39</title>\n",
       "<path fill=\"none\" stroke=\"black\" d=\"M1390.4,-504.88C1384.89,-496.24 1378.88,-486.82 1373.13,-477.79\"/>\n",
       "<polygon fill=\"black\" stroke=\"black\" points=\"1376.05,-475.85 1367.72,-469.3 1370.14,-479.61 1376.05,-475.85\"/>\n",
       "</g>\n",
       "<!-- 42 -->\n",
       "<g id=\"node43\" class=\"node\">\n",
       "<title>42</title>\n",
       "<polygon fill=\"none\" stroke=\"black\" points=\"1533,-461.5 1420,-461.5 1420,-408.5 1533,-408.5 1533,-461.5\"/>\n",
       "<text text-anchor=\"middle\" x=\"1476.5\" y=\"-446.3\" font-family=\"Helvetica,sans-Serif\" font-size=\"14.00\">gini = 0.0</text>\n",
       "<text text-anchor=\"middle\" x=\"1476.5\" y=\"-431.3\" font-family=\"Helvetica,sans-Serif\" font-size=\"14.00\">samples = 131</text>\n",
       "<text text-anchor=\"middle\" x=\"1476.5\" y=\"-416.3\" font-family=\"Helvetica,sans-Serif\" font-size=\"14.00\">value = [131, 0]</text>\n",
       "</g>\n",
       "<!-- 38&#45;&gt;42 -->\n",
       "<g id=\"edge42\" class=\"edge\">\n",
       "<title>38&#45;&gt;42</title>\n",
       "<path fill=\"none\" stroke=\"black\" d=\"M1432.6,-504.88C1439.68,-493.78 1447.59,-481.37 1454.72,-470.18\"/>\n",
       "<polygon fill=\"black\" stroke=\"black\" points=\"1457.81,-471.83 1460.24,-461.52 1451.91,-468.07 1457.81,-471.83\"/>\n",
       "</g>\n",
       "<!-- 40 -->\n",
       "<g id=\"node41\" class=\"node\">\n",
       "<title>40</title>\n",
       "<polygon fill=\"none\" stroke=\"black\" points=\"1337,-357.5 1240,-357.5 1240,-304.5 1337,-304.5 1337,-357.5\"/>\n",
       "<text text-anchor=\"middle\" x=\"1288.5\" y=\"-342.3\" font-family=\"Helvetica,sans-Serif\" font-size=\"14.00\">gini = 0.0</text>\n",
       "<text text-anchor=\"middle\" x=\"1288.5\" y=\"-327.3\" font-family=\"Helvetica,sans-Serif\" font-size=\"14.00\">samples = 1</text>\n",
       "<text text-anchor=\"middle\" x=\"1288.5\" y=\"-312.3\" font-family=\"Helvetica,sans-Serif\" font-size=\"14.00\">value = [0, 1]</text>\n",
       "</g>\n",
       "<!-- 39&#45;&gt;40 -->\n",
       "<g id=\"edge40\" class=\"edge\">\n",
       "<title>39&#45;&gt;40</title>\n",
       "<path fill=\"none\" stroke=\"black\" d=\"M1327.67,-400.88C1321.42,-389.89 1314.44,-377.62 1308.13,-366.52\"/>\n",
       "<polygon fill=\"black\" stroke=\"black\" points=\"1311,-364.48 1303.01,-357.52 1304.91,-367.94 1311,-364.48\"/>\n",
       "</g>\n",
       "<!-- 41 -->\n",
       "<g id=\"node42\" class=\"node\">\n",
       "<title>41</title>\n",
       "<polygon fill=\"none\" stroke=\"black\" points=\"1452,-357.5 1355,-357.5 1355,-304.5 1452,-304.5 1452,-357.5\"/>\n",
       "<text text-anchor=\"middle\" x=\"1403.5\" y=\"-342.3\" font-family=\"Helvetica,sans-Serif\" font-size=\"14.00\">gini = 0.0</text>\n",
       "<text text-anchor=\"middle\" x=\"1403.5\" y=\"-327.3\" font-family=\"Helvetica,sans-Serif\" font-size=\"14.00\">samples = 4</text>\n",
       "<text text-anchor=\"middle\" x=\"1403.5\" y=\"-312.3\" font-family=\"Helvetica,sans-Serif\" font-size=\"14.00\">value = [4, 0]</text>\n",
       "</g>\n",
       "<!-- 39&#45;&gt;41 -->\n",
       "<g id=\"edge41\" class=\"edge\">\n",
       "<title>39&#45;&gt;41</title>\n",
       "<path fill=\"none\" stroke=\"black\" d=\"M1365.01,-400.88C1371.15,-389.89 1378.01,-377.62 1384.21,-366.52\"/>\n",
       "<polygon fill=\"black\" stroke=\"black\" points=\"1387.42,-367.96 1389.24,-357.52 1381.31,-364.54 1387.42,-367.96\"/>\n",
       "</g>\n",
       "</g>\n",
       "</svg>\n"
      ],
      "text/plain": [
       "<graphviz.sources.Source at 0x1b85c29ea00>"
      ]
     },
     "execution_count": 6,
     "metadata": {},
     "output_type": "execute_result"
    }
   ],
   "source": [
    "dot_data = tree.export_graphviz(decision_tree, out_file=None) \n",
    "graph = graphviz.Source(dot_data)\n",
    "graph.render(\"Tree_Learning\")\n",
    "graph"
   ]
  },
  {
   "cell_type": "markdown",
   "metadata": {},
   "source": [
    "### Save Model to Pickle"
   ]
  },
  {
   "cell_type": "code",
   "execution_count": 7,
   "metadata": {},
   "outputs": [],
   "source": [
    "pickle.dump(decision_tree, open('tree_learning.pkl', 'wb'))"
   ]
  },
  {
   "cell_type": "markdown",
   "metadata": {},
   "source": [
    "### Load Model from Pickle"
   ]
  },
  {
   "cell_type": "code",
   "execution_count": 8,
   "metadata": {},
   "outputs": [
    {
     "data": {
      "text/plain": [
       "array([0, 1, 1, 1, 1, 1, 1, 1, 1, 1, 0, 1, 1, 0, 1, 0, 1, 0, 0, 0, 0, 0,\n",
       "       1, 1, 0, 1, 1, 0, 1, 0, 1, 0, 1, 0, 1, 0, 1, 0, 1, 0, 1, 1, 0, 1,\n",
       "       0, 0, 1, 1, 1, 0, 0, 0, 0, 1, 1, 1, 0, 1, 0, 0, 0, 0, 1, 1, 0, 0,\n",
       "       0, 0, 0, 1, 1, 0, 1, 1, 0, 1, 1, 1, 1, 1, 0, 0, 0, 1, 0, 1, 1, 1,\n",
       "       0, 0, 1, 0, 1, 0, 1, 1, 0, 1, 1, 1, 1, 1, 1, 0, 0, 1, 0, 1, 0, 1,\n",
       "       1, 0, 0, 1])"
      ]
     },
     "execution_count": 8,
     "metadata": {},
     "output_type": "execute_result"
    }
   ],
   "source": [
    "decision_tree_learning = pickle.load(open('tree_learning.pkl', 'rb'))\n",
    "y_pred_tree = decision_tree_learning.predict(X_test)\n",
    "y_pred_tree"
   ]
  },
  {
   "cell_type": "markdown",
   "metadata": {},
   "source": [
    "Evaluasi dengan Metric"
   ]
  },
  {
   "cell_type": "code",
   "execution_count": 9,
   "metadata": {},
   "outputs": [
    {
     "name": "stdout",
     "output_type": "stream",
     "text": [
      "Accuracy score\t: 0.912281\n",
      "F1 Score\t: 0.912721\n",
      "Precision Score\t: 0.915426\n",
      "Recall Score\t: 0.912281\n"
     ]
    }
   ],
   "source": [
    "print(\"Accuracy score\\t: %f\" % sklearn.metrics.accuracy_score(y_test, y_pred_tree ))\n",
    "print(\"F1 Score\\t: %f\" % sklearn.metrics.f1_score(y_test, y_pred_tree ,average='weighted'))\n",
    "print(\"Precision Score\\t: %f\" %sklearn.metrics.precision_score(y_test, y_pred_tree ,average='weighted'))\n",
    "print(\"Recall Score\\t: %f\" %sklearn.metrics.recall_score(y_test, y_pred_tree ,average='weighted'))"
   ]
  },
  {
   "cell_type": "markdown",
   "metadata": {},
   "source": [
    "Dari hasil diatas diatas dapat dikatakan bahwa model yang dihasilkan dari hasil pembelajaran dengan 80% data breas_cancer sudah baik untuk unseen data atau data test. Hasil yang didapatkan dari martiks diatas sekitar 90% akurasi untuk data test. \n",
    "NOTE : Hasil dapat berubah jika program dijalankan ulang dikarenakan split data antara Traning dan Test dilakukan random."
   ]
  },
  {
   "cell_type": "markdown",
   "metadata": {},
   "source": [
    "Evaluasi dengan Confusion Matrix"
   ]
  },
  {
   "cell_type": "code",
   "execution_count": 10,
   "metadata": {},
   "outputs": [
    {
     "name": "stdout",
     "output_type": "stream",
     "text": [
      "Confusion Matrix :\n"
     ]
    },
    {
     "data": {
      "text/plain": [
       "array([[44,  3],\n",
       "       [ 7, 60]], dtype=int64)"
      ]
     },
     "execution_count": 10,
     "metadata": {},
     "output_type": "execute_result"
    }
   ],
   "source": [
    "print(\"Confusion Matrix :\")\n",
    "sklearn.metrics.confusion_matrix(y_test, y_pred_tree )"
   ]
  },
  {
   "cell_type": "markdown",
   "metadata": {},
   "source": [
    "Dari hasil diatas diatas dapat dikatakan bahwa model yang dihasilkan dari hasil pembelajaran dengan 80% data breas_cancer menghasilkan 44 True Positif, 3 False Negative, 8 False Positif, dan 59 True Negatif. \n",
    "NOTE : Hasil dapat berubah jika program dijalankan ulang dikarenakan split data antara Traning dan Test dilakukan random."
   ]
  },
  {
   "cell_type": "markdown",
   "metadata": {},
   "source": [
    "### K-Folds Cross Validation"
   ]
  },
  {
   "cell_type": "code",
   "execution_count": 11,
   "metadata": {},
   "outputs": [
    {
     "name": "stdout",
     "output_type": "stream",
     "text": [
      "Untuk Data Training :\n",
      "[0.86956522 0.95652174 0.89130435 0.86956522 0.93478261 0.93333333\n",
      " 0.91111111 0.91111111 0.97777778 0.91111111] \n",
      "\n",
      "Rata-rata :  0.9166183574879228\n"
     ]
    }
   ],
   "source": [
    "print(\"Untuk Data Training :\")\n",
    "train_data_score = sklearn.model_selection.cross_val_score(decision_tree_learning, X_train, y_train, cv=10)\n",
    "print(train_data_score, \"\\n\")\n",
    "\n",
    "print(\"Rata-rata : \", np.mean(train_data_score))"
   ]
  },
  {
   "cell_type": "code",
   "execution_count": 12,
   "metadata": {},
   "outputs": [
    {
     "name": "stdout",
     "output_type": "stream",
     "text": [
      "Untuk Data Test :\n",
      "[1.         0.75       1.         0.75       0.81818182 1.\n",
      " 0.81818182 1.         0.81818182 1.        ] \n",
      "\n",
      "Rata-rata :  0.8954545454545455\n"
     ]
    }
   ],
   "source": [
    "print(\"Untuk Data Test :\")\n",
    "test_data_score = sklearn.model_selection.cross_val_score(decision_tree_learning, X_test, y_test, cv=10)\n",
    "print(test_data_score, \"\\n\")\n",
    "\n",
    "print(\"Rata-rata : \", np.mean(test_data_score))"
   ]
  },
  {
   "cell_type": "markdown",
   "metadata": {},
   "source": [
    "## ID3 Estimator"
   ]
  },
  {
   "cell_type": "code",
   "execution_count": 13,
   "metadata": {},
   "outputs": [],
   "source": [
    "#ID3 Estimator"
   ]
  },
  {
   "cell_type": "code",
   "execution_count": 14,
   "metadata": {},
   "outputs": [],
   "source": [
    "#ID3 Estimator"
   ]
  },
  {
   "cell_type": "markdown",
   "metadata": {},
   "source": [
    "## KMeans"
   ]
  },
  {
   "cell_type": "code",
   "execution_count": 15,
   "metadata": {},
   "outputs": [
    {
     "name": "stderr",
     "output_type": "stream",
     "text": [
      "C:\\Users\\Asus\\anaconda3\\lib\\site-packages\\sklearn\\cluster\\_kmeans.py:1334: UserWarning: KMeans is known to have a memory leak on Windows with MKL, when there are less chunks than available threads. You can avoid it by setting the environment variable OMP_NUM_THREADS=2.\n",
      "  warnings.warn(\n"
     ]
    },
    {
     "data": {
      "text/plain": [
       "array([[1.95421569e+01, 2.15124510e+01, 1.29031373e+02, 1.20682647e+03,\n",
       "        1.00551275e-01, 1.43174510e-01, 1.70573137e-01, 9.98753922e-02,\n",
       "        1.88979412e-01, 5.97353922e-02, 7.42742157e-01, 1.18404804e+00,\n",
       "        5.18106863e+00, 9.73082353e+01, 6.47988235e-03, 3.05298725e-02,\n",
       "        3.93776471e-02, 1.49034216e-02, 1.97483333e-02, 3.76090196e-03,\n",
       "        2.39446078e+01, 2.87336275e+01, 1.59623529e+02, 1.79388235e+03,\n",
       "        1.39144510e-01, 3.47639804e-01, 4.30093137e-01, 1.90537941e-01,\n",
       "        3.09416667e-01, 8.47370588e-02],\n",
       "       [1.25435892e+01, 1.84710765e+01, 8.10654958e+01, 4.94026629e+02,\n",
       "        9.52176771e-02, 9.18022380e-02, 6.34759312e-02, 3.38999207e-02,\n",
       "        1.78615864e-01, 6.35154108e-02, 3.04216714e-01, 1.21734504e+00,\n",
       "        2.14452776e+00, 2.38088272e+01, 7.15466289e-03, 2.34836317e-02,\n",
       "        2.91886618e-02, 1.07052125e-02, 2.07497677e-02, 3.69567224e-03,\n",
       "        1.40344873e+01, 2.46155807e+01, 9.18348159e+01, 6.17465722e+02,\n",
       "        1.30527507e-01, 2.24186629e-01, 2.20507244e-01, 9.24612493e-02,\n",
       "        2.84925779e-01, 8.31315014e-02]])"
      ]
     },
     "execution_count": 15,
     "metadata": {},
     "output_type": "execute_result"
    }
   ],
   "source": [
    "from sklearn.cluster import KMeans\n",
    "\n",
    "kmeans = KMeans(n_clusters=2).fit(X_train)\n",
    "kmeans.cluster_centers_"
   ]
  },
  {
   "cell_type": "markdown",
   "metadata": {},
   "source": [
    "### Save Model to Pickle"
   ]
  },
  {
   "cell_type": "code",
   "execution_count": 16,
   "metadata": {},
   "outputs": [],
   "source": [
    "pickle.dump(kmeans, open('kMeans_learning.pkl', 'wb'))"
   ]
  },
  {
   "cell_type": "markdown",
   "metadata": {},
   "source": [
    "### Load Model from Pickle"
   ]
  },
  {
   "cell_type": "code",
   "execution_count": 17,
   "metadata": {},
   "outputs": [
    {
     "data": {
      "text/plain": [
       "array([1, 1, 1, 1, 1, 1, 1, 1, 1, 1, 1, 1, 1, 1, 1, 1, 1, 0, 0, 0, 1, 1,\n",
       "       1, 1, 0, 1, 1, 1, 1, 0, 1, 0, 1, 1, 1, 1, 1, 0, 1, 1, 1, 1, 1, 1,\n",
       "       1, 0, 1, 1, 1, 1, 0, 1, 0, 1, 1, 1, 1, 1, 1, 0, 1, 1, 1, 1, 0, 1,\n",
       "       0, 0, 0, 1, 1, 0, 1, 1, 0, 1, 1, 1, 1, 1, 1, 0, 0, 1, 1, 1, 1, 1,\n",
       "       0, 0, 1, 1, 1, 1, 1, 1, 0, 1, 1, 1, 1, 1, 1, 1, 0, 1, 0, 1, 1, 1,\n",
       "       1, 0, 0, 1])"
      ]
     },
     "execution_count": 17,
     "metadata": {},
     "output_type": "execute_result"
    }
   ],
   "source": [
    "kMeans_learning = pickle.load(open('kMeans_learning.pkl', 'rb'))\n",
    "y_pred_kMeans = kMeans_learning.predict(X_test)\n",
    "y_pred_kMeans"
   ]
  },
  {
   "cell_type": "markdown",
   "metadata": {},
   "source": [
    "Evaluasi dengan Metric"
   ]
  },
  {
   "cell_type": "code",
   "execution_count": 18,
   "metadata": {},
   "outputs": [
    {
     "name": "stdout",
     "output_type": "stream",
     "text": [
      "Accuracy score\t: 0.815789\n",
      "F1 Score\t: 0.801772\n",
      "Precision Score\t: 0.859749\n",
      "Recall Score\t: 0.815789\n"
     ]
    }
   ],
   "source": [
    "print(\"Accuracy score\\t: %f\" % sklearn.metrics.accuracy_score(y_test, y_pred_kMeans ))\n",
    "print(\"F1 Score\\t: %f\" % sklearn.metrics.f1_score(y_test, y_pred_kMeans ,average='weighted'))\n",
    "print(\"Precision Score\\t: %f\" %sklearn.metrics.precision_score(y_test, y_pred_kMeans ,average='weighted'))\n",
    "print(\"Recall Score\\t: %f\" %sklearn.metrics.recall_score(y_test, y_pred_kMeans ,average='weighted'))"
   ]
  },
  {
   "cell_type": "markdown",
   "metadata": {},
   "source": [
    "Dari hasil diatas diatas dapat dikatakan bahwa model yang dihasilkan dari hasil pembelajaran dengan 80% data breas_cancer tidak cocok untuk unseen data atau data test. Hasil yang didapatkan dari martiks diatas sekitar 20% akurasi untuk data test. Namun, jika dilakukan pemodelan lagi pada KMeans ada kemungkinan evaluasi matriks yang dihasilkan 80%. Dikarenakan pemilihan centroid pada KMeans dilakukan secara random.\n",
    "NOTE : Hasil dapat berubah jika program dijalankan ulang dikarenakan split data antara Traning dan Test dilakukan random."
   ]
  },
  {
   "cell_type": "code",
   "execution_count": 19,
   "metadata": {},
   "outputs": [
    {
     "name": "stdout",
     "output_type": "stream",
     "text": [
      "Confusion Matrix :\n"
     ]
    },
    {
     "data": {
      "text/plain": [
       "array([[26, 21],\n",
       "       [ 0, 67]], dtype=int64)"
      ]
     },
     "execution_count": 19,
     "metadata": {},
     "output_type": "execute_result"
    }
   ],
   "source": [
    "print(\"Confusion Matrix :\")\n",
    "sklearn.metrics.confusion_matrix(y_test, y_pred_kMeans )"
   ]
  },
  {
   "cell_type": "markdown",
   "metadata": {},
   "source": [
    "Dari hasil diatas diatas dapat dikatakan bahwa model yang dihasilkan dari hasil pembelajaran dengan 80% data breas_cancer menghasilkan 26 True Positif, 21 False Negative, 0 False Positif, dan 67 True Negatif\n",
    "NOTE : Hasil dapat berubah jika program dijalankan ulang dikarenakan split data antara Traning dan Test dilakukan random."
   ]
  },
  {
   "cell_type": "markdown",
   "metadata": {},
   "source": [
    "## Logistic Regression"
   ]
  },
  {
   "cell_type": "code",
   "execution_count": 20,
   "metadata": {},
   "outputs": [],
   "source": [
    "#Logistic Regression"
   ]
  },
  {
   "cell_type": "code",
   "execution_count": 21,
   "metadata": {},
   "outputs": [],
   "source": [
    "#Logistic Regression"
   ]
  },
  {
   "cell_type": "markdown",
   "metadata": {},
   "source": [
    "## Neural Network"
   ]
  },
  {
   "cell_type": "code",
   "execution_count": 22,
   "metadata": {},
   "outputs": [],
   "source": [
    "from sklearn.neural_network import MLPClassifier\n",
    "\n",
    "neural_network = MLPClassifier(random_state=1, max_iter=300).fit(X_train, y_train)"
   ]
  },
  {
   "cell_type": "markdown",
   "metadata": {},
   "source": [
    "### Save Model to Pickle"
   ]
  },
  {
   "cell_type": "code",
   "execution_count": 23,
   "metadata": {},
   "outputs": [],
   "source": [
    "pickle.dump(neural_network, open('neural_network_learning.pkl', 'wb'))"
   ]
  },
  {
   "cell_type": "markdown",
   "metadata": {},
   "source": [
    "### Load Model from Pickle"
   ]
  },
  {
   "cell_type": "code",
   "execution_count": 24,
   "metadata": {},
   "outputs": [
    {
     "data": {
      "text/plain": [
       "array([0, 1, 1, 1, 1, 1, 1, 1, 1, 1, 1, 1, 1, 1, 1, 0, 1, 0, 0, 0, 0, 1,\n",
       "       1, 1, 0, 1, 1, 1, 1, 0, 1, 0, 1, 0, 1, 0, 1, 0, 1, 0, 1, 1, 0, 1,\n",
       "       1, 0, 1, 1, 1, 0, 0, 1, 0, 1, 1, 1, 1, 1, 1, 0, 1, 0, 1, 1, 0, 1,\n",
       "       0, 0, 0, 1, 1, 0, 1, 1, 0, 1, 1, 1, 1, 1, 1, 0, 0, 1, 0, 1, 1, 1,\n",
       "       0, 0, 1, 0, 1, 1, 1, 1, 0, 1, 1, 1, 1, 1, 1, 1, 0, 1, 0, 1, 1, 1,\n",
       "       1, 0, 0, 1])"
      ]
     },
     "execution_count": 24,
     "metadata": {},
     "output_type": "execute_result"
    }
   ],
   "source": [
    "neural_network_learning = pickle.load(open('neural_network_learning.pkl', 'rb'))\n",
    "y_pred_neural_network = neural_network_learning.predict(X_test)\n",
    "y_pred_neural_network"
   ]
  },
  {
   "cell_type": "markdown",
   "metadata": {},
   "source": [
    "Evaluasi dengan Metric"
   ]
  },
  {
   "cell_type": "code",
   "execution_count": 25,
   "metadata": {},
   "outputs": [
    {
     "name": "stdout",
     "output_type": "stream",
     "text": [
      "Accuracy score\t: 0.912281\n",
      "F1 Score\t: 0.910105\n",
      "Precision Score\t: 0.923673\n",
      "Recall Score\t: 0.912281\n"
     ]
    }
   ],
   "source": [
    "print(\"Accuracy score\\t: %f\" % sklearn.metrics.accuracy_score(y_test, y_pred_neural_network ))\n",
    "print(\"F1 Score\\t: %f\" % sklearn.metrics.f1_score(y_test, y_pred_neural_network ,average='weighted'))\n",
    "print(\"Precision Score\\t: %f\" %sklearn.metrics.precision_score(y_test, y_pred_neural_network ,average='weighted'))\n",
    "print(\"Recall Score\\t: %f\" %sklearn.metrics.recall_score(y_test, y_pred_neural_network ,average='weighted'))"
   ]
  },
  {
   "cell_type": "markdown",
   "metadata": {},
   "source": [
    "Dari hasil diatas diatas dapat dikatakan bahwa model yang dihasilkan dari hasil pembelajaran dengan 80% data breas_cancer sudah baik untuk unseen data atau data test. Hasil yang didapatkan dari martiks diatas sekitar 90% akurasi untuk data test\n",
    "NOTE : Hasil dapat berubah jika program dijalankan ulang dikarenakan split data antara Traning dan Test dilakukan random."
   ]
  },
  {
   "cell_type": "code",
   "execution_count": 26,
   "metadata": {},
   "outputs": [
    {
     "name": "stdout",
     "output_type": "stream",
     "text": [
      "Confusion Matrix :\n"
     ]
    },
    {
     "data": {
      "text/plain": [
       "array([[37, 10],\n",
       "       [ 0, 67]], dtype=int64)"
      ]
     },
     "execution_count": 26,
     "metadata": {},
     "output_type": "execute_result"
    }
   ],
   "source": [
    "print(\"Confusion Matrix :\")\n",
    "sklearn.metrics.confusion_matrix(y_test, y_pred_neural_network )"
   ]
  },
  {
   "cell_type": "markdown",
   "metadata": {},
   "source": [
    "Dari hasil diatas diatas dapat dikatakan bahwa model yang dihasilkan dari hasil pembelajaran dengan 80% data breas_cancer menghasilkan 37 True Positif, 10 False Negative, 0 False Positif, dan 67 True Negatif\n",
    "NOTE : Hasil dapat berubah jika program dijalankan ulang dikarenakan split data antara Traning dan Test dilakukan random."
   ]
  },
  {
   "cell_type": "markdown",
   "metadata": {},
   "source": [
    "## SVM"
   ]
  },
  {
   "cell_type": "code",
   "execution_count": 27,
   "metadata": {},
   "outputs": [],
   "source": [
    "#SVM"
   ]
  },
  {
   "cell_type": "code",
   "execution_count": 28,
   "metadata": {},
   "outputs": [],
   "source": [
    "#SVM"
   ]
  }
 ],
 "metadata": {
  "kernelspec": {
   "display_name": "Python 3",
   "language": "python",
   "name": "python3"
  },
  "language_info": {
   "codemirror_mode": {
    "name": "ipython",
    "version": 3
   },
   "file_extension": ".py",
   "mimetype": "text/x-python",
   "name": "python",
   "nbconvert_exporter": "python",
   "pygments_lexer": "ipython3",
   "version": "3.8.5"
  }
 },
 "nbformat": 4,
 "nbformat_minor": 4
}
