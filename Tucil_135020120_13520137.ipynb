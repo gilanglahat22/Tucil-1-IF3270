{
 "cells": [
  {
   "cell_type": "markdown",
   "metadata": {
    "id": "O3YSTjZkx4xl"
   },
   "source": [
    "# Tugas Kecil 1 Eksplorasi library Algoritme Pembelajaran pada Jupyter Notebook\n",
    "\n",
    "### Afrizal Sebastian - 13520120 - K03\n",
    "### Muhammad Gilang Ramadhan - 13520137 - K03"
   ]
  },
  {
   "cell_type": "code",
   "execution_count": 1,
   "metadata": {
    "colab": {
     "base_uri": "https://localhost:8080/",
     "height": 373
    },
    "id": "PYz0v5Sjx4xp",
    "outputId": "8a3efe55-47cb-4049-d13b-aa0c48e3b536"
   },
   "outputs": [],
   "source": [
    "import warnings\n",
    "import pandas as pd\n",
    "import matplotlib.pyplot as plt\n",
    "import sklearn\n",
    "import sklearn.datasets\n",
    "import sklearn.model_selection\n",
    "import sklearn.metrics\n",
    "import pickle\n",
    "import graphviz \n",
    "import numpy as np\n",
    "from sklearn import tree\n",
    "import six\n",
    "import sys\n",
    "sys.modules['sklearn.externals.six'] = six\n",
    "from id3 import Id3Estimator\n",
    "from id3 import export_graphviz, export_text\n",
    "from sklearn.cluster import KMeans\n",
    "from sklearn.linear_model import LogisticRegression\n",
    "from sklearn.neural_network import MLPClassifier"
   ]
  },
  {
   "cell_type": "markdown",
   "metadata": {
    "id": "d0u-Q3YSx4xq"
   },
   "source": [
    "# Load Dataset"
   ]
  },
  {
   "cell_type": "code",
   "execution_count": 2,
   "metadata": {
    "id": "YFAZoCbix4xq"
   },
   "outputs": [],
   "source": [
    "breast_cancer = sklearn.datasets.load_breast_cancer()"
   ]
  },
  {
   "cell_type": "markdown",
   "metadata": {
    "id": "qvC2JkWpx4xr"
   },
   "source": [
    "### Show dataframe from dataset"
   ]
  },
  {
   "cell_type": "code",
   "execution_count": 3,
   "metadata": {
    "colab": {
     "base_uri": "https://localhost:8080/",
     "height": 502
    },
    "id": "vWO7rpm7x4xr",
    "outputId": "1f5447b6-28d6-41cd-e251-043a93c1c0bf"
   },
   "outputs": [
    {
     "data": {
      "text/html": [
       "<div>\n",
       "<style scoped>\n",
       "    .dataframe tbody tr th:only-of-type {\n",
       "        vertical-align: middle;\n",
       "    }\n",
       "\n",
       "    .dataframe tbody tr th {\n",
       "        vertical-align: top;\n",
       "    }\n",
       "\n",
       "    .dataframe thead th {\n",
       "        text-align: right;\n",
       "    }\n",
       "</style>\n",
       "<table border=\"1\" class=\"dataframe\">\n",
       "  <thead>\n",
       "    <tr style=\"text-align: right;\">\n",
       "      <th></th>\n",
       "      <th>mean radius</th>\n",
       "      <th>mean texture</th>\n",
       "      <th>mean perimeter</th>\n",
       "      <th>mean area</th>\n",
       "      <th>mean smoothness</th>\n",
       "      <th>mean compactness</th>\n",
       "      <th>mean concavity</th>\n",
       "      <th>mean concave points</th>\n",
       "      <th>mean symmetry</th>\n",
       "      <th>mean fractal dimension</th>\n",
       "      <th>...</th>\n",
       "      <th>worst radius</th>\n",
       "      <th>worst texture</th>\n",
       "      <th>worst perimeter</th>\n",
       "      <th>worst area</th>\n",
       "      <th>worst smoothness</th>\n",
       "      <th>worst compactness</th>\n",
       "      <th>worst concavity</th>\n",
       "      <th>worst concave points</th>\n",
       "      <th>worst symmetry</th>\n",
       "      <th>worst fractal dimension</th>\n",
       "    </tr>\n",
       "  </thead>\n",
       "  <tbody>\n",
       "    <tr>\n",
       "      <th>0</th>\n",
       "      <td>17.99</td>\n",
       "      <td>10.38</td>\n",
       "      <td>122.80</td>\n",
       "      <td>1001.0</td>\n",
       "      <td>0.11840</td>\n",
       "      <td>0.27760</td>\n",
       "      <td>0.30010</td>\n",
       "      <td>0.14710</td>\n",
       "      <td>0.2419</td>\n",
       "      <td>0.07871</td>\n",
       "      <td>...</td>\n",
       "      <td>25.380</td>\n",
       "      <td>17.33</td>\n",
       "      <td>184.60</td>\n",
       "      <td>2019.0</td>\n",
       "      <td>0.16220</td>\n",
       "      <td>0.66560</td>\n",
       "      <td>0.7119</td>\n",
       "      <td>0.2654</td>\n",
       "      <td>0.4601</td>\n",
       "      <td>0.11890</td>\n",
       "    </tr>\n",
       "    <tr>\n",
       "      <th>1</th>\n",
       "      <td>20.57</td>\n",
       "      <td>17.77</td>\n",
       "      <td>132.90</td>\n",
       "      <td>1326.0</td>\n",
       "      <td>0.08474</td>\n",
       "      <td>0.07864</td>\n",
       "      <td>0.08690</td>\n",
       "      <td>0.07017</td>\n",
       "      <td>0.1812</td>\n",
       "      <td>0.05667</td>\n",
       "      <td>...</td>\n",
       "      <td>24.990</td>\n",
       "      <td>23.41</td>\n",
       "      <td>158.80</td>\n",
       "      <td>1956.0</td>\n",
       "      <td>0.12380</td>\n",
       "      <td>0.18660</td>\n",
       "      <td>0.2416</td>\n",
       "      <td>0.1860</td>\n",
       "      <td>0.2750</td>\n",
       "      <td>0.08902</td>\n",
       "    </tr>\n",
       "    <tr>\n",
       "      <th>2</th>\n",
       "      <td>19.69</td>\n",
       "      <td>21.25</td>\n",
       "      <td>130.00</td>\n",
       "      <td>1203.0</td>\n",
       "      <td>0.10960</td>\n",
       "      <td>0.15990</td>\n",
       "      <td>0.19740</td>\n",
       "      <td>0.12790</td>\n",
       "      <td>0.2069</td>\n",
       "      <td>0.05999</td>\n",
       "      <td>...</td>\n",
       "      <td>23.570</td>\n",
       "      <td>25.53</td>\n",
       "      <td>152.50</td>\n",
       "      <td>1709.0</td>\n",
       "      <td>0.14440</td>\n",
       "      <td>0.42450</td>\n",
       "      <td>0.4504</td>\n",
       "      <td>0.2430</td>\n",
       "      <td>0.3613</td>\n",
       "      <td>0.08758</td>\n",
       "    </tr>\n",
       "    <tr>\n",
       "      <th>3</th>\n",
       "      <td>11.42</td>\n",
       "      <td>20.38</td>\n",
       "      <td>77.58</td>\n",
       "      <td>386.1</td>\n",
       "      <td>0.14250</td>\n",
       "      <td>0.28390</td>\n",
       "      <td>0.24140</td>\n",
       "      <td>0.10520</td>\n",
       "      <td>0.2597</td>\n",
       "      <td>0.09744</td>\n",
       "      <td>...</td>\n",
       "      <td>14.910</td>\n",
       "      <td>26.50</td>\n",
       "      <td>98.87</td>\n",
       "      <td>567.7</td>\n",
       "      <td>0.20980</td>\n",
       "      <td>0.86630</td>\n",
       "      <td>0.6869</td>\n",
       "      <td>0.2575</td>\n",
       "      <td>0.6638</td>\n",
       "      <td>0.17300</td>\n",
       "    </tr>\n",
       "    <tr>\n",
       "      <th>4</th>\n",
       "      <td>20.29</td>\n",
       "      <td>14.34</td>\n",
       "      <td>135.10</td>\n",
       "      <td>1297.0</td>\n",
       "      <td>0.10030</td>\n",
       "      <td>0.13280</td>\n",
       "      <td>0.19800</td>\n",
       "      <td>0.10430</td>\n",
       "      <td>0.1809</td>\n",
       "      <td>0.05883</td>\n",
       "      <td>...</td>\n",
       "      <td>22.540</td>\n",
       "      <td>16.67</td>\n",
       "      <td>152.20</td>\n",
       "      <td>1575.0</td>\n",
       "      <td>0.13740</td>\n",
       "      <td>0.20500</td>\n",
       "      <td>0.4000</td>\n",
       "      <td>0.1625</td>\n",
       "      <td>0.2364</td>\n",
       "      <td>0.07678</td>\n",
       "    </tr>\n",
       "    <tr>\n",
       "      <th>...</th>\n",
       "      <td>...</td>\n",
       "      <td>...</td>\n",
       "      <td>...</td>\n",
       "      <td>...</td>\n",
       "      <td>...</td>\n",
       "      <td>...</td>\n",
       "      <td>...</td>\n",
       "      <td>...</td>\n",
       "      <td>...</td>\n",
       "      <td>...</td>\n",
       "      <td>...</td>\n",
       "      <td>...</td>\n",
       "      <td>...</td>\n",
       "      <td>...</td>\n",
       "      <td>...</td>\n",
       "      <td>...</td>\n",
       "      <td>...</td>\n",
       "      <td>...</td>\n",
       "      <td>...</td>\n",
       "      <td>...</td>\n",
       "      <td>...</td>\n",
       "    </tr>\n",
       "    <tr>\n",
       "      <th>564</th>\n",
       "      <td>21.56</td>\n",
       "      <td>22.39</td>\n",
       "      <td>142.00</td>\n",
       "      <td>1479.0</td>\n",
       "      <td>0.11100</td>\n",
       "      <td>0.11590</td>\n",
       "      <td>0.24390</td>\n",
       "      <td>0.13890</td>\n",
       "      <td>0.1726</td>\n",
       "      <td>0.05623</td>\n",
       "      <td>...</td>\n",
       "      <td>25.450</td>\n",
       "      <td>26.40</td>\n",
       "      <td>166.10</td>\n",
       "      <td>2027.0</td>\n",
       "      <td>0.14100</td>\n",
       "      <td>0.21130</td>\n",
       "      <td>0.4107</td>\n",
       "      <td>0.2216</td>\n",
       "      <td>0.2060</td>\n",
       "      <td>0.07115</td>\n",
       "    </tr>\n",
       "    <tr>\n",
       "      <th>565</th>\n",
       "      <td>20.13</td>\n",
       "      <td>28.25</td>\n",
       "      <td>131.20</td>\n",
       "      <td>1261.0</td>\n",
       "      <td>0.09780</td>\n",
       "      <td>0.10340</td>\n",
       "      <td>0.14400</td>\n",
       "      <td>0.09791</td>\n",
       "      <td>0.1752</td>\n",
       "      <td>0.05533</td>\n",
       "      <td>...</td>\n",
       "      <td>23.690</td>\n",
       "      <td>38.25</td>\n",
       "      <td>155.00</td>\n",
       "      <td>1731.0</td>\n",
       "      <td>0.11660</td>\n",
       "      <td>0.19220</td>\n",
       "      <td>0.3215</td>\n",
       "      <td>0.1628</td>\n",
       "      <td>0.2572</td>\n",
       "      <td>0.06637</td>\n",
       "    </tr>\n",
       "    <tr>\n",
       "      <th>566</th>\n",
       "      <td>16.60</td>\n",
       "      <td>28.08</td>\n",
       "      <td>108.30</td>\n",
       "      <td>858.1</td>\n",
       "      <td>0.08455</td>\n",
       "      <td>0.10230</td>\n",
       "      <td>0.09251</td>\n",
       "      <td>0.05302</td>\n",
       "      <td>0.1590</td>\n",
       "      <td>0.05648</td>\n",
       "      <td>...</td>\n",
       "      <td>18.980</td>\n",
       "      <td>34.12</td>\n",
       "      <td>126.70</td>\n",
       "      <td>1124.0</td>\n",
       "      <td>0.11390</td>\n",
       "      <td>0.30940</td>\n",
       "      <td>0.3403</td>\n",
       "      <td>0.1418</td>\n",
       "      <td>0.2218</td>\n",
       "      <td>0.07820</td>\n",
       "    </tr>\n",
       "    <tr>\n",
       "      <th>567</th>\n",
       "      <td>20.60</td>\n",
       "      <td>29.33</td>\n",
       "      <td>140.10</td>\n",
       "      <td>1265.0</td>\n",
       "      <td>0.11780</td>\n",
       "      <td>0.27700</td>\n",
       "      <td>0.35140</td>\n",
       "      <td>0.15200</td>\n",
       "      <td>0.2397</td>\n",
       "      <td>0.07016</td>\n",
       "      <td>...</td>\n",
       "      <td>25.740</td>\n",
       "      <td>39.42</td>\n",
       "      <td>184.60</td>\n",
       "      <td>1821.0</td>\n",
       "      <td>0.16500</td>\n",
       "      <td>0.86810</td>\n",
       "      <td>0.9387</td>\n",
       "      <td>0.2650</td>\n",
       "      <td>0.4087</td>\n",
       "      <td>0.12400</td>\n",
       "    </tr>\n",
       "    <tr>\n",
       "      <th>568</th>\n",
       "      <td>7.76</td>\n",
       "      <td>24.54</td>\n",
       "      <td>47.92</td>\n",
       "      <td>181.0</td>\n",
       "      <td>0.05263</td>\n",
       "      <td>0.04362</td>\n",
       "      <td>0.00000</td>\n",
       "      <td>0.00000</td>\n",
       "      <td>0.1587</td>\n",
       "      <td>0.05884</td>\n",
       "      <td>...</td>\n",
       "      <td>9.456</td>\n",
       "      <td>30.37</td>\n",
       "      <td>59.16</td>\n",
       "      <td>268.6</td>\n",
       "      <td>0.08996</td>\n",
       "      <td>0.06444</td>\n",
       "      <td>0.0000</td>\n",
       "      <td>0.0000</td>\n",
       "      <td>0.2871</td>\n",
       "      <td>0.07039</td>\n",
       "    </tr>\n",
       "  </tbody>\n",
       "</table>\n",
       "<p>569 rows × 30 columns</p>\n",
       "</div>"
      ],
      "text/plain": [
       "     mean radius  mean texture  mean perimeter  mean area  mean smoothness  \\\n",
       "0          17.99         10.38          122.80     1001.0          0.11840   \n",
       "1          20.57         17.77          132.90     1326.0          0.08474   \n",
       "2          19.69         21.25          130.00     1203.0          0.10960   \n",
       "3          11.42         20.38           77.58      386.1          0.14250   \n",
       "4          20.29         14.34          135.10     1297.0          0.10030   \n",
       "..           ...           ...             ...        ...              ...   \n",
       "564        21.56         22.39          142.00     1479.0          0.11100   \n",
       "565        20.13         28.25          131.20     1261.0          0.09780   \n",
       "566        16.60         28.08          108.30      858.1          0.08455   \n",
       "567        20.60         29.33          140.10     1265.0          0.11780   \n",
       "568         7.76         24.54           47.92      181.0          0.05263   \n",
       "\n",
       "     mean compactness  mean concavity  mean concave points  mean symmetry  \\\n",
       "0             0.27760         0.30010              0.14710         0.2419   \n",
       "1             0.07864         0.08690              0.07017         0.1812   \n",
       "2             0.15990         0.19740              0.12790         0.2069   \n",
       "3             0.28390         0.24140              0.10520         0.2597   \n",
       "4             0.13280         0.19800              0.10430         0.1809   \n",
       "..                ...             ...                  ...            ...   \n",
       "564           0.11590         0.24390              0.13890         0.1726   \n",
       "565           0.10340         0.14400              0.09791         0.1752   \n",
       "566           0.10230         0.09251              0.05302         0.1590   \n",
       "567           0.27700         0.35140              0.15200         0.2397   \n",
       "568           0.04362         0.00000              0.00000         0.1587   \n",
       "\n",
       "     mean fractal dimension  ...  worst radius  worst texture  \\\n",
       "0                   0.07871  ...        25.380          17.33   \n",
       "1                   0.05667  ...        24.990          23.41   \n",
       "2                   0.05999  ...        23.570          25.53   \n",
       "3                   0.09744  ...        14.910          26.50   \n",
       "4                   0.05883  ...        22.540          16.67   \n",
       "..                      ...  ...           ...            ...   \n",
       "564                 0.05623  ...        25.450          26.40   \n",
       "565                 0.05533  ...        23.690          38.25   \n",
       "566                 0.05648  ...        18.980          34.12   \n",
       "567                 0.07016  ...        25.740          39.42   \n",
       "568                 0.05884  ...         9.456          30.37   \n",
       "\n",
       "     worst perimeter  worst area  worst smoothness  worst compactness  \\\n",
       "0             184.60      2019.0           0.16220            0.66560   \n",
       "1             158.80      1956.0           0.12380            0.18660   \n",
       "2             152.50      1709.0           0.14440            0.42450   \n",
       "3              98.87       567.7           0.20980            0.86630   \n",
       "4             152.20      1575.0           0.13740            0.20500   \n",
       "..               ...         ...               ...                ...   \n",
       "564           166.10      2027.0           0.14100            0.21130   \n",
       "565           155.00      1731.0           0.11660            0.19220   \n",
       "566           126.70      1124.0           0.11390            0.30940   \n",
       "567           184.60      1821.0           0.16500            0.86810   \n",
       "568            59.16       268.6           0.08996            0.06444   \n",
       "\n",
       "     worst concavity  worst concave points  worst symmetry  \\\n",
       "0             0.7119                0.2654          0.4601   \n",
       "1             0.2416                0.1860          0.2750   \n",
       "2             0.4504                0.2430          0.3613   \n",
       "3             0.6869                0.2575          0.6638   \n",
       "4             0.4000                0.1625          0.2364   \n",
       "..               ...                   ...             ...   \n",
       "564           0.4107                0.2216          0.2060   \n",
       "565           0.3215                0.1628          0.2572   \n",
       "566           0.3403                0.1418          0.2218   \n",
       "567           0.9387                0.2650          0.4087   \n",
       "568           0.0000                0.0000          0.2871   \n",
       "\n",
       "     worst fractal dimension  \n",
       "0                    0.11890  \n",
       "1                    0.08902  \n",
       "2                    0.08758  \n",
       "3                    0.17300  \n",
       "4                    0.07678  \n",
       "..                       ...  \n",
       "564                  0.07115  \n",
       "565                  0.06637  \n",
       "566                  0.07820  \n",
       "567                  0.12400  \n",
       "568                  0.07039  \n",
       "\n",
       "[569 rows x 30 columns]"
      ]
     },
     "execution_count": 3,
     "metadata": {},
     "output_type": "execute_result"
    }
   ],
   "source": [
    "df_breast_cancer = pd.DataFrame(breast_cancer.data, columns=breast_cancer.feature_names)\n",
    "df_breast_cancer"
   ]
  },
  {
   "cell_type": "markdown",
   "metadata": {
    "id": "TOkqEpKgx4xr"
   },
   "source": [
    "# Split Data"
   ]
  },
  {
   "cell_type": "code",
   "execution_count": 4,
   "metadata": {
    "id": "aU13WuPBx4xr"
   },
   "outputs": [],
   "source": [
    "X, y = sklearn.datasets.load_breast_cancer(return_X_y=True)\n",
    "X_train, X_test, y_train, y_test = sklearn.model_selection.train_test_split(X, y, train_size=0.8, random_state=0)"
   ]
  },
  {
   "cell_type": "markdown",
   "metadata": {
    "id": "kryZFkCdx4xs"
   },
   "source": [
    "## 2. Learning with diverse algorithms below"
   ]
  },
  {
   "cell_type": "markdown",
   "metadata": {
    "id": "9D-NVWFEx4xs"
   },
   "source": [
    "## Decision Tree Classifier"
   ]
  },
  {
   "cell_type": "markdown",
   "metadata": {
    "id": "tYuSfldxx4xs"
   },
   "source": [
    "### 1. Learning with fit data training method"
   ]
  },
  {
   "cell_type": "code",
   "execution_count": 5,
   "metadata": {
    "colab": {
     "base_uri": "https://localhost:8080/",
     "height": 1000
    },
    "id": "cXYSKwMbx4xs",
    "outputId": "be833d7b-9bfc-4f8e-a754-639a8b1a6a39"
   },
   "outputs": [
    {
     "name": "stdout",
     "output_type": "stream",
     "text": [
      "|--- worst concave points <= 0.14\n",
      "|   |--- worst area <= 957.45\n",
      "|   |   |--- worst perimeter <= 107.75\n",
      "|   |   |   |--- worst fractal dimension <= 0.06\n",
      "|   |   |   |   |--- class: 0\n",
      "|   |   |   |--- worst fractal dimension >  0.06\n",
      "|   |   |   |   |--- mean concavity <= 0.14\n",
      "|   |   |   |   |   |--- area error <= 48.98\n",
      "|   |   |   |   |   |   |--- smoothness error <= 0.00\n",
      "|   |   |   |   |   |   |   |--- mean texture <= 19.90\n",
      "|   |   |   |   |   |   |   |   |--- class: 1\n",
      "|   |   |   |   |   |   |   |--- mean texture >  19.90\n",
      "|   |   |   |   |   |   |   |   |--- class: 0\n",
      "|   |   |   |   |   |   |--- smoothness error >  0.00\n",
      "|   |   |   |   |   |   |   |--- worst texture <= 32.83\n",
      "|   |   |   |   |   |   |   |   |--- class: 1\n",
      "|   |   |   |   |   |   |   |--- worst texture >  32.83\n",
      "|   |   |   |   |   |   |   |   |--- worst texture <= 33.81\n",
      "|   |   |   |   |   |   |   |   |   |--- class: 0\n",
      "|   |   |   |   |   |   |   |   |--- worst texture >  33.81\n",
      "|   |   |   |   |   |   |   |   |   |--- class: 1\n",
      "|   |   |   |   |   |--- area error >  48.98\n",
      "|   |   |   |   |   |   |--- worst area <= 566.55\n",
      "|   |   |   |   |   |   |   |--- class: 0\n",
      "|   |   |   |   |   |   |--- worst area >  566.55\n",
      "|   |   |   |   |   |   |   |--- class: 1\n",
      "|   |   |   |   |--- mean concavity >  0.14\n",
      "|   |   |   |   |   |--- mean smoothness <= 0.10\n",
      "|   |   |   |   |   |   |--- class: 1\n",
      "|   |   |   |   |   |--- mean smoothness >  0.10\n",
      "|   |   |   |   |   |   |--- class: 0\n",
      "|   |   |--- worst perimeter >  107.75\n",
      "|   |   |   |--- mean perimeter <= 91.92\n",
      "|   |   |   |   |--- class: 0\n",
      "|   |   |   |--- mean perimeter >  91.92\n",
      "|   |   |   |   |--- concave points error <= 0.02\n",
      "|   |   |   |   |   |--- class: 1\n",
      "|   |   |   |   |--- concave points error >  0.02\n",
      "|   |   |   |   |   |--- class: 0\n",
      "|   |--- worst area >  957.45\n",
      "|   |   |--- mean symmetry <= 0.15\n",
      "|   |   |   |--- class: 1\n",
      "|   |   |--- mean symmetry >  0.15\n",
      "|   |   |   |--- class: 0\n",
      "|--- worst concave points >  0.14\n",
      "|   |--- worst area <= 729.55\n",
      "|   |   |--- mean smoothness <= 0.11\n",
      "|   |   |   |--- class: 1\n",
      "|   |   |--- mean smoothness >  0.11\n",
      "|   |   |   |--- class: 0\n",
      "|   |--- worst area >  729.55\n",
      "|   |   |--- area error <= 14.18\n",
      "|   |   |   |--- class: 1\n",
      "|   |   |--- area error >  14.18\n",
      "|   |   |   |--- worst concavity <= 0.20\n",
      "|   |   |   |   |--- class: 1\n",
      "|   |   |   |--- worst concavity >  0.20\n",
      "|   |   |   |   |--- mean texture <= 15.37\n",
      "|   |   |   |   |   |--- fractal dimension error <= 0.00\n",
      "|   |   |   |   |   |   |--- class: 1\n",
      "|   |   |   |   |   |--- fractal dimension error >  0.00\n",
      "|   |   |   |   |   |   |--- class: 0\n",
      "|   |   |   |   |--- mean texture >  15.37\n",
      "|   |   |   |   |   |--- class: 0\n",
      "\n"
     ]
    },
    {
     "data": {
      "text/plain": [
       "[Text(0.6390086206896551, 0.95, 'X[27] <= 0.142\\ngini = 0.462\\nsamples = 455\\nvalue = [165, 290]'),\n",
       " Text(0.4849137931034483, 0.85, 'X[23] <= 957.45\\ngini = 0.146\\nsamples = 303\\nvalue = [24, 279]'),\n",
       " Text(0.38362068965517243, 0.75, 'X[22] <= 107.75\\ngini = 0.073\\nsamples = 288\\nvalue = [11, 277]'),\n",
       " Text(0.28448275862068967, 0.65, 'X[29] <= 0.055\\ngini = 0.036\\nsamples = 269\\nvalue = [5, 264]'),\n",
       " Text(0.25, 0.55, 'gini = 0.0\\nsamples = 1\\nvalue = [1, 0]'),\n",
       " Text(0.31896551724137934, 0.55, 'X[6] <= 0.141\\ngini = 0.029\\nsamples = 268\\nvalue = [4, 264]'),\n",
       " Text(0.22413793103448276, 0.45, 'X[13] <= 48.975\\ngini = 0.022\\nsamples = 265\\nvalue = [3, 262]'),\n",
       " Text(0.13793103448275862, 0.35, 'X[14] <= 0.003\\ngini = 0.015\\nsamples = 262\\nvalue = [2, 260]'),\n",
       " Text(0.06896551724137931, 0.25, 'X[1] <= 19.9\\ngini = 0.278\\nsamples = 6\\nvalue = [1, 5]'),\n",
       " Text(0.034482758620689655, 0.15, 'gini = 0.0\\nsamples = 5\\nvalue = [0, 5]'),\n",
       " Text(0.10344827586206896, 0.15, 'gini = 0.0\\nsamples = 1\\nvalue = [1, 0]'),\n",
       " Text(0.20689655172413793, 0.25, 'X[21] <= 32.83\\ngini = 0.008\\nsamples = 256\\nvalue = [1, 255]'),\n",
       " Text(0.1724137931034483, 0.15, 'gini = 0.0\\nsamples = 239\\nvalue = [0, 239]'),\n",
       " Text(0.2413793103448276, 0.15, 'X[21] <= 33.805\\ngini = 0.111\\nsamples = 17\\nvalue = [1, 16]'),\n",
       " Text(0.20689655172413793, 0.05, 'gini = 0.0\\nsamples = 1\\nvalue = [1, 0]'),\n",
       " Text(0.27586206896551724, 0.05, 'gini = 0.0\\nsamples = 16\\nvalue = [0, 16]'),\n",
       " Text(0.3103448275862069, 0.35, 'X[23] <= 566.55\\ngini = 0.444\\nsamples = 3\\nvalue = [1, 2]'),\n",
       " Text(0.27586206896551724, 0.25, 'gini = 0.0\\nsamples = 1\\nvalue = [1, 0]'),\n",
       " Text(0.3448275862068966, 0.25, 'gini = 0.0\\nsamples = 2\\nvalue = [0, 2]'),\n",
       " Text(0.41379310344827586, 0.45, 'X[4] <= 0.1\\ngini = 0.444\\nsamples = 3\\nvalue = [1, 2]'),\n",
       " Text(0.3793103448275862, 0.35, 'gini = 0.0\\nsamples = 2\\nvalue = [0, 2]'),\n",
       " Text(0.4482758620689655, 0.35, 'gini = 0.0\\nsamples = 1\\nvalue = [1, 0]'),\n",
       " Text(0.4827586206896552, 0.65, 'X[2] <= 91.92\\ngini = 0.432\\nsamples = 19\\nvalue = [6, 13]'),\n",
       " Text(0.4482758620689655, 0.55, 'gini = 0.0\\nsamples = 4\\nvalue = [4, 0]'),\n",
       " Text(0.5172413793103449, 0.55, 'X[17] <= 0.016\\ngini = 0.231\\nsamples = 15\\nvalue = [2, 13]'),\n",
       " Text(0.4827586206896552, 0.45, 'gini = 0.0\\nsamples = 13\\nvalue = [0, 13]'),\n",
       " Text(0.5517241379310345, 0.45, 'gini = 0.0\\nsamples = 2\\nvalue = [2, 0]'),\n",
       " Text(0.5862068965517241, 0.75, 'X[8] <= 0.152\\ngini = 0.231\\nsamples = 15\\nvalue = [13, 2]'),\n",
       " Text(0.5517241379310345, 0.65, 'gini = 0.0\\nsamples = 2\\nvalue = [0, 2]'),\n",
       " Text(0.6206896551724138, 0.65, 'gini = 0.0\\nsamples = 13\\nvalue = [13, 0]'),\n",
       " Text(0.7931034482758621, 0.85, 'X[23] <= 729.55\\ngini = 0.134\\nsamples = 152\\nvalue = [141, 11]'),\n",
       " Text(0.7241379310344828, 0.75, 'X[4] <= 0.108\\ngini = 0.49\\nsamples = 14\\nvalue = [6, 8]'),\n",
       " Text(0.6896551724137931, 0.65, 'gini = 0.0\\nsamples = 8\\nvalue = [0, 8]'),\n",
       " Text(0.7586206896551724, 0.65, 'gini = 0.0\\nsamples = 6\\nvalue = [6, 0]'),\n",
       " Text(0.8620689655172413, 0.75, 'X[13] <= 14.18\\ngini = 0.043\\nsamples = 138\\nvalue = [135, 3]'),\n",
       " Text(0.8275862068965517, 0.65, 'gini = 0.0\\nsamples = 1\\nvalue = [0, 1]'),\n",
       " Text(0.896551724137931, 0.65, 'X[26] <= 0.203\\ngini = 0.029\\nsamples = 137\\nvalue = [135, 2]'),\n",
       " Text(0.8620689655172413, 0.55, 'gini = 0.0\\nsamples = 1\\nvalue = [0, 1]'),\n",
       " Text(0.9310344827586207, 0.55, 'X[1] <= 15.37\\ngini = 0.015\\nsamples = 136\\nvalue = [135, 1]'),\n",
       " Text(0.896551724137931, 0.45, 'X[19] <= 0.003\\ngini = 0.32\\nsamples = 5\\nvalue = [4, 1]'),\n",
       " Text(0.8620689655172413, 0.35, 'gini = 0.0\\nsamples = 1\\nvalue = [0, 1]'),\n",
       " Text(0.9310344827586207, 0.35, 'gini = 0.0\\nsamples = 4\\nvalue = [4, 0]'),\n",
       " Text(0.9655172413793104, 0.45, 'gini = 0.0\\nsamples = 131\\nvalue = [131, 0]')]"
      ]
     },
     "execution_count": 5,
     "metadata": {},
     "output_type": "execute_result"
    },
    {
     "data": {
      "image/png": "[encoded data removed]",
      "text/plain": [
       "<Figure size 432x288 with 1 Axes>"
      ]
     },
     "metadata": {
      "needs_background": "light"
     },
     "output_type": "display_data"
    }
   ],
   "source": [
    "from sklearn import tree\n",
    "decision_tree = tree.DecisionTreeClassifier(random_state=0)\n",
    "decision_tree_train = decision_tree.fit(X_train, y_train)\n",
    "decision_tree_parameter = tree.DecisionTreeClassifier(max_depth=2, random_state=0)\n",
    "decision_tree_parameter_train = decision_tree_parameter.fit(X_train, y_train)\n",
    "decision_tree = decision_tree.fit(X_train, y_train)\n",
    "model = tree.export_text(\n",
    "    decision_tree_train, feature_names=list(breast_cancer.feature_names))\n",
    "print(model)\n",
    "tree.plot_tree(decision_tree)"
   ]
  },
  {
   "cell_type": "code",
   "execution_count": 6,
   "metadata": {
    "colab": {
     "base_uri": "https://localhost:8080/",
     "height": 1000
    },
    "id": "F4xBl7usx4xt",
    "outputId": "a16689a8-c7bc-4ea2-c930-5d94591d7e5e"
   },
   "outputs": [
    {
     "data": {
      "image/svg+xml": [
       "<?xml version=\"1.0\" encoding=\"UTF-8\" standalone=\"no\"?>\n",
       "<!DOCTYPE svg PUBLIC \"-//W3C//DTD SVG 1.1//EN\"\n",
       " \"http://www.w3.org/Graphics/SVG/1.1/DTD/svg11.dtd\">\n",
       "<!-- Generated by graphviz version 3.0.0 (20220226.1711)\n",
       " -->\n",
       "<!-- Title: Tree Pages: 1 -->\n",
       "<svg width=\"1445pt\" height=\"997pt\"\n",
       " viewBox=\"0.00 0.00 1445.00 997.00\" xmlns=\"http://www.w3.org/2000/svg\" xmlns:xlink=\"http://www.w3.org/1999/xlink\">\n",
       "<g id=\"graph0\" class=\"graph\" transform=\"scale(1 1) rotate(0) translate(4 993)\">\n",
       "<title>Tree</title>\n",
       "<polygon fill=\"white\" stroke=\"transparent\" points=\"-4,4 -4,-993 1441,-993 1441,4 -4,4\"/>\n",
       "<!-- 0 -->\n",
       "<g id=\"node1\" class=\"node\">\n",
       "<title>0</title>\n",
       "<polygon fill=\"none\" stroke=\"black\" points=\"895.5,-989 765.5,-989 765.5,-921 895.5,-921 895.5,-989\"/>\n",
       "<text text-anchor=\"middle\" x=\"830.5\" y=\"-973.8\" font-family=\"Helvetica,sans-Serif\" font-size=\"14.00\">X[27] &lt;= 0.142</text>\n",
       "<text text-anchor=\"middle\" x=\"830.5\" y=\"-958.8\" font-family=\"Helvetica,sans-Serif\" font-size=\"14.00\">gini = 0.462</text>\n",
       "<text text-anchor=\"middle\" x=\"830.5\" y=\"-943.8\" font-family=\"Helvetica,sans-Serif\" font-size=\"14.00\">samples = 455</text>\n",
       "<text text-anchor=\"middle\" x=\"830.5\" y=\"-928.8\" font-family=\"Helvetica,sans-Serif\" font-size=\"14.00\">value = [165, 290]</text>\n",
       "</g>\n",
       "<!-- 1 -->\n",
       "<g id=\"node2\" class=\"node\">\n",
       "<title>1</title>\n",
       "<polygon fill=\"none\" stroke=\"black\" points=\"779.5,-885 657.5,-885 657.5,-817 779.5,-817 779.5,-885\"/>\n",
       "<text text-anchor=\"middle\" x=\"718.5\" y=\"-869.8\" font-family=\"Helvetica,sans-Serif\" font-size=\"14.00\">X[23] &lt;= 957.45</text>\n",
       "<text text-anchor=\"middle\" x=\"718.5\" y=\"-854.8\" font-family=\"Helvetica,sans-Serif\" font-size=\"14.00\">gini = 0.146</text>\n",
       "<text text-anchor=\"middle\" x=\"718.5\" y=\"-839.8\" font-family=\"Helvetica,sans-Serif\" font-size=\"14.00\">samples = 303</text>\n",
       "<text text-anchor=\"middle\" x=\"718.5\" y=\"-824.8\" font-family=\"Helvetica,sans-Serif\" font-size=\"14.00\">value = [24, 279]</text>\n",
       "</g>\n",
       "<!-- 0&#45;&gt;1 -->\n",
       "<g id=\"edge1\" class=\"edge\">\n",
       "<title>0&#45;&gt;1</title>\n",
       "<path fill=\"none\" stroke=\"black\" d=\"M794.14,-920.88C784.06,-911.71 773.02,-901.65 762.56,-892.12\"/>\n",
       "<polygon fill=\"black\" stroke=\"black\" points=\"764.81,-889.44 755.06,-885.3 760.1,-894.62 764.81,-889.44\"/>\n",
       "<text text-anchor=\"middle\" x=\"756.23\" y=\"-906.57\" font-family=\"Helvetica,sans-Serif\" font-size=\"14.00\">True</text>\n",
       "</g>\n",
       "<!-- 30 -->\n",
       "<g id=\"node31\" class=\"node\">\n",
       "<title>30</title>\n",
       "<polygon fill=\"none\" stroke=\"black\" points=\"1014.5,-885 892.5,-885 892.5,-817 1014.5,-817 1014.5,-885\"/>\n",
       "<text text-anchor=\"middle\" x=\"953.5\" y=\"-869.8\" font-family=\"Helvetica,sans-Serif\" font-size=\"14.00\">X[23] &lt;= 729.55</text>\n",
       "<text text-anchor=\"middle\" x=\"953.5\" y=\"-854.8\" font-family=\"Helvetica,sans-Serif\" font-size=\"14.00\">gini = 0.134</text>\n",
       "<text text-anchor=\"middle\" x=\"953.5\" y=\"-839.8\" font-family=\"Helvetica,sans-Serif\" font-size=\"14.00\">samples = 152</text>\n",
       "<text text-anchor=\"middle\" x=\"953.5\" y=\"-824.8\" font-family=\"Helvetica,sans-Serif\" font-size=\"14.00\">value = [141, 11]</text>\n",
       "</g>\n",
       "<!-- 0&#45;&gt;30 -->\n",
       "<g id=\"edge30\" class=\"edge\">\n",
       "<title>0&#45;&gt;30</title>\n",
       "<path fill=\"none\" stroke=\"black\" d=\"M870.43,-920.88C881.61,-911.62 893.86,-901.45 905.45,-891.85\"/>\n",
       "<polygon fill=\"black\" stroke=\"black\" points=\"907.88,-894.38 913.34,-885.3 903.41,-888.99 907.88,-894.38\"/>\n",
       "<text text-anchor=\"middle\" x=\"911.02\" y=\"-906.49\" font-family=\"Helvetica,sans-Serif\" font-size=\"14.00\">False</text>\n",
       "</g>\n",
       "<!-- 2 -->\n",
       "<g id=\"node3\" class=\"node\">\n",
       "<title>2</title>\n",
       "<polygon fill=\"none\" stroke=\"black\" points=\"605.5,-781 483.5,-781 483.5,-713 605.5,-713 605.5,-781\"/>\n",
       "<text text-anchor=\"middle\" x=\"544.5\" y=\"-765.8\" font-family=\"Helvetica,sans-Serif\" font-size=\"14.00\">X[22] &lt;= 107.75</text>\n",
       "<text text-anchor=\"middle\" x=\"544.5\" y=\"-750.8\" font-family=\"Helvetica,sans-Serif\" font-size=\"14.00\">gini = 0.073</text>\n",
       "<text text-anchor=\"middle\" x=\"544.5\" y=\"-735.8\" font-family=\"Helvetica,sans-Serif\" font-size=\"14.00\">samples = 288</text>\n",
       "<text text-anchor=\"middle\" x=\"544.5\" y=\"-720.8\" font-family=\"Helvetica,sans-Serif\" font-size=\"14.00\">value = [11, 277]</text>\n",
       "</g>\n",
       "<!-- 1&#45;&gt;2 -->\n",
       "<g id=\"edge2\" class=\"edge\">\n",
       "<title>1&#45;&gt;2</title>\n",
       "<path fill=\"none\" stroke=\"black\" d=\"M662.01,-816.88C645.36,-807.12 627.01,-796.37 609.85,-786.31\"/>\n",
       "<polygon fill=\"black\" stroke=\"black\" points=\"611.4,-783.16 601.01,-781.12 607.86,-789.2 611.4,-783.16\"/>\n",
       "</g>\n",
       "<!-- 27 -->\n",
       "<g id=\"node28\" class=\"node\">\n",
       "<title>27</title>\n",
       "<polygon fill=\"none\" stroke=\"black\" points=\"771,-781 666,-781 666,-713 771,-713 771,-781\"/>\n",
       "<text text-anchor=\"middle\" x=\"718.5\" y=\"-765.8\" font-family=\"Helvetica,sans-Serif\" font-size=\"14.00\">X[8] &lt;= 0.152</text>\n",
       "<text text-anchor=\"middle\" x=\"718.5\" y=\"-750.8\" font-family=\"Helvetica,sans-Serif\" font-size=\"14.00\">gini = 0.231</text>\n",
       "<text text-anchor=\"middle\" x=\"718.5\" y=\"-735.8\" font-family=\"Helvetica,sans-Serif\" font-size=\"14.00\">samples = 15</text>\n",
       "<text text-anchor=\"middle\" x=\"718.5\" y=\"-720.8\" font-family=\"Helvetica,sans-Serif\" font-size=\"14.00\">value = [13, 2]</text>\n",
       "</g>\n",
       "<!-- 1&#45;&gt;27 -->\n",
       "<g id=\"edge27\" class=\"edge\">\n",
       "<title>1&#45;&gt;27</title>\n",
       "<path fill=\"none\" stroke=\"black\" d=\"M718.5,-816.88C718.5,-808.78 718.5,-799.98 718.5,-791.47\"/>\n",
       "<polygon fill=\"black\" stroke=\"black\" points=\"722,-791.3 718.5,-781.3 715,-791.3 722,-791.3\"/>\n",
       "</g>\n",
       "<!-- 3 -->\n",
       "<g id=\"node4\" class=\"node\">\n",
       "<title>3</title>\n",
       "<polygon fill=\"none\" stroke=\"black\" points=\"474,-677 361,-677 361,-609 474,-609 474,-677\"/>\n",
       "<text text-anchor=\"middle\" x=\"417.5\" y=\"-661.8\" font-family=\"Helvetica,sans-Serif\" font-size=\"14.00\">X[29] &lt;= 0.055</text>\n",
       "<text text-anchor=\"middle\" x=\"417.5\" y=\"-646.8\" font-family=\"Helvetica,sans-Serif\" font-size=\"14.00\">gini = 0.036</text>\n",
       "<text text-anchor=\"middle\" x=\"417.5\" y=\"-631.8\" font-family=\"Helvetica,sans-Serif\" font-size=\"14.00\">samples = 269</text>\n",
       "<text text-anchor=\"middle\" x=\"417.5\" y=\"-616.8\" font-family=\"Helvetica,sans-Serif\" font-size=\"14.00\">value = [5, 264]</text>\n",
       "</g>\n",
       "<!-- 2&#45;&gt;3 -->\n",
       "<g id=\"edge3\" class=\"edge\">\n",
       "<title>2&#45;&gt;3</title>\n",
       "<path fill=\"none\" stroke=\"black\" d=\"M503.27,-712.88C491.62,-703.53 478.83,-693.26 466.77,-683.57\"/>\n",
       "<polygon fill=\"black\" stroke=\"black\" points=\"468.95,-680.83 458.96,-677.3 464.57,-686.29 468.95,-680.83\"/>\n",
       "</g>\n",
       "<!-- 22 -->\n",
       "<g id=\"node23\" class=\"node\">\n",
       "<title>22</title>\n",
       "<polygon fill=\"none\" stroke=\"black\" points=\"597,-677 492,-677 492,-609 597,-609 597,-677\"/>\n",
       "<text text-anchor=\"middle\" x=\"544.5\" y=\"-661.8\" font-family=\"Helvetica,sans-Serif\" font-size=\"14.00\">X[2] &lt;= 91.92</text>\n",
       "<text text-anchor=\"middle\" x=\"544.5\" y=\"-646.8\" font-family=\"Helvetica,sans-Serif\" font-size=\"14.00\">gini = 0.432</text>\n",
       "<text text-anchor=\"middle\" x=\"544.5\" y=\"-631.8\" font-family=\"Helvetica,sans-Serif\" font-size=\"14.00\">samples = 19</text>\n",
       "<text text-anchor=\"middle\" x=\"544.5\" y=\"-616.8\" font-family=\"Helvetica,sans-Serif\" font-size=\"14.00\">value = [6, 13]</text>\n",
       "</g>\n",
       "<!-- 2&#45;&gt;22 -->\n",
       "<g id=\"edge22\" class=\"edge\">\n",
       "<title>2&#45;&gt;22</title>\n",
       "<path fill=\"none\" stroke=\"black\" d=\"M544.5,-712.88C544.5,-704.78 544.5,-695.98 544.5,-687.47\"/>\n",
       "<polygon fill=\"black\" stroke=\"black\" points=\"548,-687.3 544.5,-677.3 541,-687.3 548,-687.3\"/>\n",
       "</g>\n",
       "<!-- 4 -->\n",
       "<g id=\"node5\" class=\"node\">\n",
       "<title>4</title>\n",
       "<polygon fill=\"none\" stroke=\"black\" points=\"344,-565.5 247,-565.5 247,-512.5 344,-512.5 344,-565.5\"/>\n",
       "<text text-anchor=\"middle\" x=\"295.5\" y=\"-550.3\" font-family=\"Helvetica,sans-Serif\" font-size=\"14.00\">gini = 0.0</text>\n",
       "<text text-anchor=\"middle\" x=\"295.5\" y=\"-535.3\" font-family=\"Helvetica,sans-Serif\" font-size=\"14.00\">samples = 1</text>\n",
       "<text text-anchor=\"middle\" x=\"295.5\" y=\"-520.3\" font-family=\"Helvetica,sans-Serif\" font-size=\"14.00\">value = [1, 0]</text>\n",
       "</g>\n",
       "<!-- 3&#45;&gt;4 -->\n",
       "<g id=\"edge4\" class=\"edge\">\n",
       "<title>3&#45;&gt;4</title>\n",
       "<path fill=\"none\" stroke=\"black\" d=\"M377.89,-608.88C363.81,-597.12 348,-583.89 334.02,-572.2\"/>\n",
       "<polygon fill=\"black\" stroke=\"black\" points=\"335.94,-569.25 326.02,-565.52 331.45,-574.62 335.94,-569.25\"/>\n",
       "</g>\n",
       "<!-- 5 -->\n",
       "<g id=\"node6\" class=\"node\">\n",
       "<title>5</title>\n",
       "<polygon fill=\"none\" stroke=\"black\" points=\"475,-573 362,-573 362,-505 475,-505 475,-573\"/>\n",
       "<text text-anchor=\"middle\" x=\"418.5\" y=\"-557.8\" font-family=\"Helvetica,sans-Serif\" font-size=\"14.00\">X[6] &lt;= 0.141</text>\n",
       "<text text-anchor=\"middle\" x=\"418.5\" y=\"-542.8\" font-family=\"Helvetica,sans-Serif\" font-size=\"14.00\">gini = 0.029</text>\n",
       "<text text-anchor=\"middle\" x=\"418.5\" y=\"-527.8\" font-family=\"Helvetica,sans-Serif\" font-size=\"14.00\">samples = 268</text>\n",
       "<text text-anchor=\"middle\" x=\"418.5\" y=\"-512.8\" font-family=\"Helvetica,sans-Serif\" font-size=\"14.00\">value = [4, 264]</text>\n",
       "</g>\n",
       "<!-- 3&#45;&gt;5 -->\n",
       "<g id=\"edge5\" class=\"edge\">\n",
       "<title>3&#45;&gt;5</title>\n",
       "<path fill=\"none\" stroke=\"black\" d=\"M417.82,-608.88C417.9,-600.78 417.99,-591.98 418.07,-583.47\"/>\n",
       "<polygon fill=\"black\" stroke=\"black\" points=\"421.58,-583.33 418.17,-573.3 414.58,-583.26 421.58,-583.33\"/>\n",
       "</g>\n",
       "<!-- 6 -->\n",
       "<g id=\"node7\" class=\"node\">\n",
       "<title>6</title>\n",
       "<polygon fill=\"none\" stroke=\"black\" points=\"477,-469 358,-469 358,-401 477,-401 477,-469\"/>\n",
       "<text text-anchor=\"middle\" x=\"417.5\" y=\"-453.8\" font-family=\"Helvetica,sans-Serif\" font-size=\"14.00\">X[13] &lt;= 48.975</text>\n",
       "<text text-anchor=\"middle\" x=\"417.5\" y=\"-438.8\" font-family=\"Helvetica,sans-Serif\" font-size=\"14.00\">gini = 0.022</text>\n",
       "<text text-anchor=\"middle\" x=\"417.5\" y=\"-423.8\" font-family=\"Helvetica,sans-Serif\" font-size=\"14.00\">samples = 265</text>\n",
       "<text text-anchor=\"middle\" x=\"417.5\" y=\"-408.8\" font-family=\"Helvetica,sans-Serif\" font-size=\"14.00\">value = [3, 262]</text>\n",
       "</g>\n",
       "<!-- 5&#45;&gt;6 -->\n",
       "<g id=\"edge6\" class=\"edge\">\n",
       "<title>5&#45;&gt;6</title>\n",
       "<path fill=\"none\" stroke=\"black\" d=\"M418.18,-504.88C418.1,-496.78 418.01,-487.98 417.93,-479.47\"/>\n",
       "<polygon fill=\"black\" stroke=\"black\" points=\"421.42,-479.26 417.83,-469.3 414.42,-479.33 421.42,-479.26\"/>\n",
       "</g>\n",
       "<!-- 19 -->\n",
       "<g id=\"node20\" class=\"node\">\n",
       "<title>19</title>\n",
       "<polygon fill=\"none\" stroke=\"black\" points=\"592,-469 495,-469 495,-401 592,-401 592,-469\"/>\n",
       "<text text-anchor=\"middle\" x=\"543.5\" y=\"-453.8\" font-family=\"Helvetica,sans-Serif\" font-size=\"14.00\">X[4] &lt;= 0.1</text>\n",
       "<text text-anchor=\"middle\" x=\"543.5\" y=\"-438.8\" font-family=\"Helvetica,sans-Serif\" font-size=\"14.00\">gini = 0.444</text>\n",
       "<text text-anchor=\"middle\" x=\"543.5\" y=\"-423.8\" font-family=\"Helvetica,sans-Serif\" font-size=\"14.00\">samples = 3</text>\n",
       "<text text-anchor=\"middle\" x=\"543.5\" y=\"-408.8\" font-family=\"Helvetica,sans-Serif\" font-size=\"14.00\">value = [1, 2]</text>\n",
       "</g>\n",
       "<!-- 5&#45;&gt;19 -->\n",
       "<g id=\"edge19\" class=\"edge\">\n",
       "<title>5&#45;&gt;19</title>\n",
       "<path fill=\"none\" stroke=\"black\" d=\"M459.08,-504.88C470.44,-495.62 482.89,-485.45 494.67,-475.85\"/>\n",
       "<polygon fill=\"black\" stroke=\"black\" points=\"497.16,-478.33 502.69,-469.3 492.73,-472.91 497.16,-478.33\"/>\n",
       "</g>\n",
       "<!-- 7 -->\n",
       "<g id=\"node8\" class=\"node\">\n",
       "<title>7</title>\n",
       "<polygon fill=\"none\" stroke=\"black\" points=\"340,-365 227,-365 227,-297 340,-297 340,-365\"/>\n",
       "<text text-anchor=\"middle\" x=\"283.5\" y=\"-349.8\" font-family=\"Helvetica,sans-Serif\" font-size=\"14.00\">X[14] &lt;= 0.003</text>\n",
       "<text text-anchor=\"middle\" x=\"283.5\" y=\"-334.8\" font-family=\"Helvetica,sans-Serif\" font-size=\"14.00\">gini = 0.015</text>\n",
       "<text text-anchor=\"middle\" x=\"283.5\" y=\"-319.8\" font-family=\"Helvetica,sans-Serif\" font-size=\"14.00\">samples = 262</text>\n",
       "<text text-anchor=\"middle\" x=\"283.5\" y=\"-304.8\" font-family=\"Helvetica,sans-Serif\" font-size=\"14.00\">value = [2, 260]</text>\n",
       "</g>\n",
       "<!-- 6&#45;&gt;7 -->\n",
       "<g id=\"edge7\" class=\"edge\">\n",
       "<title>6&#45;&gt;7</title>\n",
       "<path fill=\"none\" stroke=\"black\" d=\"M373.99,-400.88C361.71,-391.53 348.21,-381.26 335.48,-371.57\"/>\n",
       "<polygon fill=\"black\" stroke=\"black\" points=\"337.32,-368.57 327.25,-365.3 333.08,-374.14 337.32,-368.57\"/>\n",
       "</g>\n",
       "<!-- 16 -->\n",
       "<g id=\"node17\" class=\"node\">\n",
       "<title>16</title>\n",
       "<polygon fill=\"none\" stroke=\"black\" points=\"477,-365 358,-365 358,-297 477,-297 477,-365\"/>\n",
       "<text text-anchor=\"middle\" x=\"417.5\" y=\"-349.8\" font-family=\"Helvetica,sans-Serif\" font-size=\"14.00\">X[23] &lt;= 566.55</text>\n",
       "<text text-anchor=\"middle\" x=\"417.5\" y=\"-334.8\" font-family=\"Helvetica,sans-Serif\" font-size=\"14.00\">gini = 0.444</text>\n",
       "<text text-anchor=\"middle\" x=\"417.5\" y=\"-319.8\" font-family=\"Helvetica,sans-Serif\" font-size=\"14.00\">samples = 3</text>\n",
       "<text text-anchor=\"middle\" x=\"417.5\" y=\"-304.8\" font-family=\"Helvetica,sans-Serif\" font-size=\"14.00\">value = [1, 2]</text>\n",
       "</g>\n",
       "<!-- 6&#45;&gt;16 -->\n",
       "<g id=\"edge16\" class=\"edge\">\n",
       "<title>6&#45;&gt;16</title>\n",
       "<path fill=\"none\" stroke=\"black\" d=\"M417.5,-400.88C417.5,-392.78 417.5,-383.98 417.5,-375.47\"/>\n",
       "<polygon fill=\"black\" stroke=\"black\" points=\"421,-375.3 417.5,-365.3 414,-375.3 421,-375.3\"/>\n",
       "</g>\n",
       "<!-- 8 -->\n",
       "<g id=\"node9\" class=\"node\">\n",
       "<title>8</title>\n",
       "<polygon fill=\"none\" stroke=\"black\" points=\"212,-261 115,-261 115,-193 212,-193 212,-261\"/>\n",
       "<text text-anchor=\"middle\" x=\"163.5\" y=\"-245.8\" font-family=\"Helvetica,sans-Serif\" font-size=\"14.00\">X[1] &lt;= 19.9</text>\n",
       "<text text-anchor=\"middle\" x=\"163.5\" y=\"-230.8\" font-family=\"Helvetica,sans-Serif\" font-size=\"14.00\">gini = 0.278</text>\n",
       "<text text-anchor=\"middle\" x=\"163.5\" y=\"-215.8\" font-family=\"Helvetica,sans-Serif\" font-size=\"14.00\">samples = 6</text>\n",
       "<text text-anchor=\"middle\" x=\"163.5\" y=\"-200.8\" font-family=\"Helvetica,sans-Serif\" font-size=\"14.00\">value = [1, 5]</text>\n",
       "</g>\n",
       "<!-- 7&#45;&gt;8 -->\n",
       "<g id=\"edge8\" class=\"edge\">\n",
       "<title>7&#45;&gt;8</title>\n",
       "<path fill=\"none\" stroke=\"black\" d=\"M244.54,-296.88C233.64,-287.62 221.68,-277.45 210.38,-267.85\"/>\n",
       "<polygon fill=\"black\" stroke=\"black\" points=\"212.56,-265.11 202.68,-261.3 208.03,-270.44 212.56,-265.11\"/>\n",
       "</g>\n",
       "<!-- 11 -->\n",
       "<g id=\"node12\" class=\"node\">\n",
       "<title>11</title>\n",
       "<polygon fill=\"none\" stroke=\"black\" points=\"343,-261 230,-261 230,-193 343,-193 343,-261\"/>\n",
       "<text text-anchor=\"middle\" x=\"286.5\" y=\"-245.8\" font-family=\"Helvetica,sans-Serif\" font-size=\"14.00\">X[21] &lt;= 32.83</text>\n",
       "<text text-anchor=\"middle\" x=\"286.5\" y=\"-230.8\" font-family=\"Helvetica,sans-Serif\" font-size=\"14.00\">gini = 0.008</text>\n",
       "<text text-anchor=\"middle\" x=\"286.5\" y=\"-215.8\" font-family=\"Helvetica,sans-Serif\" font-size=\"14.00\">samples = 256</text>\n",
       "<text text-anchor=\"middle\" x=\"286.5\" y=\"-200.8\" font-family=\"Helvetica,sans-Serif\" font-size=\"14.00\">value = [1, 255]</text>\n",
       "</g>\n",
       "<!-- 7&#45;&gt;11 -->\n",
       "<g id=\"edge11\" class=\"edge\">\n",
       "<title>7&#45;&gt;11</title>\n",
       "<path fill=\"none\" stroke=\"black\" d=\"M284.47,-296.88C284.71,-288.78 284.97,-279.98 285.22,-271.47\"/>\n",
       "<polygon fill=\"black\" stroke=\"black\" points=\"288.73,-271.4 285.52,-261.3 281.73,-271.19 288.73,-271.4\"/>\n",
       "</g>\n",
       "<!-- 9 -->\n",
       "<g id=\"node10\" class=\"node\">\n",
       "<title>9</title>\n",
       "<polygon fill=\"none\" stroke=\"black\" points=\"97,-149.5 0,-149.5 0,-96.5 97,-96.5 97,-149.5\"/>\n",
       "<text text-anchor=\"middle\" x=\"48.5\" y=\"-134.3\" font-family=\"Helvetica,sans-Serif\" font-size=\"14.00\">gini = 0.0</text>\n",
       "<text text-anchor=\"middle\" x=\"48.5\" y=\"-119.3\" font-family=\"Helvetica,sans-Serif\" font-size=\"14.00\">samples = 5</text>\n",
       "<text text-anchor=\"middle\" x=\"48.5\" y=\"-104.3\" font-family=\"Helvetica,sans-Serif\" font-size=\"14.00\">value = [0, 5]</text>\n",
       "</g>\n",
       "<!-- 8&#45;&gt;9 -->\n",
       "<g id=\"edge9\" class=\"edge\">\n",
       "<title>8&#45;&gt;9</title>\n",
       "<path fill=\"none\" stroke=\"black\" d=\"M126.16,-192.88C112.9,-181.12 97.99,-167.89 84.81,-156.2\"/>\n",
       "<polygon fill=\"black\" stroke=\"black\" points=\"87.08,-153.54 77.27,-149.52 82.43,-158.77 87.08,-153.54\"/>\n",
       "</g>\n",
       "<!-- 10 -->\n",
       "<g id=\"node11\" class=\"node\">\n",
       "<title>10</title>\n",
       "<polygon fill=\"none\" stroke=\"black\" points=\"212,-149.5 115,-149.5 115,-96.5 212,-96.5 212,-149.5\"/>\n",
       "<text text-anchor=\"middle\" x=\"163.5\" y=\"-134.3\" font-family=\"Helvetica,sans-Serif\" font-size=\"14.00\">gini = 0.0</text>\n",
       "<text text-anchor=\"middle\" x=\"163.5\" y=\"-119.3\" font-family=\"Helvetica,sans-Serif\" font-size=\"14.00\">samples = 1</text>\n",
       "<text text-anchor=\"middle\" x=\"163.5\" y=\"-104.3\" font-family=\"Helvetica,sans-Serif\" font-size=\"14.00\">value = [1, 0]</text>\n",
       "</g>\n",
       "<!-- 8&#45;&gt;10 -->\n",
       "<g id=\"edge10\" class=\"edge\">\n",
       "<title>8&#45;&gt;10</title>\n",
       "<path fill=\"none\" stroke=\"black\" d=\"M163.5,-192.88C163.5,-182.33 163.5,-170.6 163.5,-159.85\"/>\n",
       "<polygon fill=\"black\" stroke=\"black\" points=\"167,-159.52 163.5,-149.52 160,-159.52 167,-159.52\"/>\n",
       "</g>\n",
       "<!-- 12 -->\n",
       "<g id=\"node13\" class=\"node\">\n",
       "<title>12</title>\n",
       "<polygon fill=\"none\" stroke=\"black\" points=\"343,-149.5 230,-149.5 230,-96.5 343,-96.5 343,-149.5\"/>\n",
       "<text text-anchor=\"middle\" x=\"286.5\" y=\"-134.3\" font-family=\"Helvetica,sans-Serif\" font-size=\"14.00\">gini = 0.0</text>\n",
       "<text text-anchor=\"middle\" x=\"286.5\" y=\"-119.3\" font-family=\"Helvetica,sans-Serif\" font-size=\"14.00\">samples = 239</text>\n",
       "<text text-anchor=\"middle\" x=\"286.5\" y=\"-104.3\" font-family=\"Helvetica,sans-Serif\" font-size=\"14.00\">value = [0, 239]</text>\n",
       "</g>\n",
       "<!-- 11&#45;&gt;12 -->\n",
       "<g id=\"edge12\" class=\"edge\">\n",
       "<title>11&#45;&gt;12</title>\n",
       "<path fill=\"none\" stroke=\"black\" d=\"M286.5,-192.88C286.5,-182.33 286.5,-170.6 286.5,-159.85\"/>\n",
       "<polygon fill=\"black\" stroke=\"black\" points=\"290,-159.52 286.5,-149.52 283,-159.52 290,-159.52\"/>\n",
       "</g>\n",
       "<!-- 13 -->\n",
       "<g id=\"node14\" class=\"node\">\n",
       "<title>13</title>\n",
       "<polygon fill=\"none\" stroke=\"black\" points=\"480,-157 361,-157 361,-89 480,-89 480,-157\"/>\n",
       "<text text-anchor=\"middle\" x=\"420.5\" y=\"-141.8\" font-family=\"Helvetica,sans-Serif\" font-size=\"14.00\">X[21] &lt;= 33.805</text>\n",
       "<text text-anchor=\"middle\" x=\"420.5\" y=\"-126.8\" font-family=\"Helvetica,sans-Serif\" font-size=\"14.00\">gini = 0.111</text>\n",
       "<text text-anchor=\"middle\" x=\"420.5\" y=\"-111.8\" font-family=\"Helvetica,sans-Serif\" font-size=\"14.00\">samples = 17</text>\n",
       "<text text-anchor=\"middle\" x=\"420.5\" y=\"-96.8\" font-family=\"Helvetica,sans-Serif\" font-size=\"14.00\">value = [1, 16]</text>\n",
       "</g>\n",
       "<!-- 11&#45;&gt;13 -->\n",
       "<g id=\"edge13\" class=\"edge\">\n",
       "<title>11&#45;&gt;13</title>\n",
       "<path fill=\"none\" stroke=\"black\" d=\"M330.01,-192.88C342.29,-183.53 355.79,-173.26 368.52,-163.57\"/>\n",
       "<polygon fill=\"black\" stroke=\"black\" points=\"370.92,-166.14 376.75,-157.3 366.68,-160.57 370.92,-166.14\"/>\n",
       "</g>\n",
       "<!-- 14 -->\n",
       "<g id=\"node15\" class=\"node\">\n",
       "<title>14</title>\n",
       "<polygon fill=\"none\" stroke=\"black\" points=\"409,-53 312,-53 312,0 409,0 409,-53\"/>\n",
       "<text text-anchor=\"middle\" x=\"360.5\" y=\"-37.8\" font-family=\"Helvetica,sans-Serif\" font-size=\"14.00\">gini = 0.0</text>\n",
       "<text text-anchor=\"middle\" x=\"360.5\" y=\"-22.8\" font-family=\"Helvetica,sans-Serif\" font-size=\"14.00\">samples = 1</text>\n",
       "<text text-anchor=\"middle\" x=\"360.5\" y=\"-7.8\" font-family=\"Helvetica,sans-Serif\" font-size=\"14.00\">value = [1, 0]</text>\n",
       "</g>\n",
       "<!-- 13&#45;&gt;14 -->\n",
       "<g id=\"edge14\" class=\"edge\">\n",
       "<title>13&#45;&gt;14</title>\n",
       "<path fill=\"none\" stroke=\"black\" d=\"M399.51,-88.95C393.94,-80.17 387.91,-70.66 382.29,-61.82\"/>\n",
       "<polygon fill=\"black\" stroke=\"black\" points=\"385.16,-59.8 376.84,-53.24 379.25,-63.55 385.16,-59.8\"/>\n",
       "</g>\n",
       "<!-- 15 -->\n",
       "<g id=\"node16\" class=\"node\">\n",
       "<title>15</title>\n",
       "<polygon fill=\"none\" stroke=\"black\" points=\"532,-53 427,-53 427,0 532,0 532,-53\"/>\n",
       "<text text-anchor=\"middle\" x=\"479.5\" y=\"-37.8\" font-family=\"Helvetica,sans-Serif\" font-size=\"14.00\">gini = 0.0</text>\n",
       "<text text-anchor=\"middle\" x=\"479.5\" y=\"-22.8\" font-family=\"Helvetica,sans-Serif\" font-size=\"14.00\">samples = 16</text>\n",
       "<text text-anchor=\"middle\" x=\"479.5\" y=\"-7.8\" font-family=\"Helvetica,sans-Serif\" font-size=\"14.00\">value = [0, 16]</text>\n",
       "</g>\n",
       "<!-- 13&#45;&gt;15 -->\n",
       "<g id=\"edge15\" class=\"edge\">\n",
       "<title>13&#45;&gt;15</title>\n",
       "<path fill=\"none\" stroke=\"black\" d=\"M441.14,-88.95C446.62,-80.17 452.55,-70.66 458.08,-61.82\"/>\n",
       "<polygon fill=\"black\" stroke=\"black\" points=\"461.1,-63.57 463.43,-53.24 455.17,-59.87 461.1,-63.57\"/>\n",
       "</g>\n",
       "<!-- 17 -->\n",
       "<g id=\"node18\" class=\"node\">\n",
       "<title>17</title>\n",
       "<polygon fill=\"none\" stroke=\"black\" points=\"463,-253.5 366,-253.5 366,-200.5 463,-200.5 463,-253.5\"/>\n",
       "<text text-anchor=\"middle\" x=\"414.5\" y=\"-238.3\" font-family=\"Helvetica,sans-Serif\" font-size=\"14.00\">gini = 0.0</text>\n",
       "<text text-anchor=\"middle\" x=\"414.5\" y=\"-223.3\" font-family=\"Helvetica,sans-Serif\" font-size=\"14.00\">samples = 1</text>\n",
       "<text text-anchor=\"middle\" x=\"414.5\" y=\"-208.3\" font-family=\"Helvetica,sans-Serif\" font-size=\"14.00\">value = [1, 0]</text>\n",
       "</g>\n",
       "<!-- 16&#45;&gt;17 -->\n",
       "<g id=\"edge17\" class=\"edge\">\n",
       "<title>16&#45;&gt;17</title>\n",
       "<path fill=\"none\" stroke=\"black\" d=\"M416.53,-296.88C416.21,-286.22 415.86,-274.35 415.54,-263.52\"/>\n",
       "<polygon fill=\"black\" stroke=\"black\" points=\"419.04,-263.41 415.25,-253.52 412.05,-263.62 419.04,-263.41\"/>\n",
       "</g>\n",
       "<!-- 18 -->\n",
       "<g id=\"node19\" class=\"node\">\n",
       "<title>18</title>\n",
       "<polygon fill=\"none\" stroke=\"black\" points=\"578,-253.5 481,-253.5 481,-200.5 578,-200.5 578,-253.5\"/>\n",
       "<text text-anchor=\"middle\" x=\"529.5\" y=\"-238.3\" font-family=\"Helvetica,sans-Serif\" font-size=\"14.00\">gini = 0.0</text>\n",
       "<text text-anchor=\"middle\" x=\"529.5\" y=\"-223.3\" font-family=\"Helvetica,sans-Serif\" font-size=\"14.00\">samples = 2</text>\n",
       "<text text-anchor=\"middle\" x=\"529.5\" y=\"-208.3\" font-family=\"Helvetica,sans-Serif\" font-size=\"14.00\">value = [0, 2]</text>\n",
       "</g>\n",
       "<!-- 16&#45;&gt;18 -->\n",
       "<g id=\"edge18\" class=\"edge\">\n",
       "<title>16&#45;&gt;18</title>\n",
       "<path fill=\"none\" stroke=\"black\" d=\"M453.86,-296.88C466.66,-285.23 481.03,-272.14 493.78,-260.53\"/>\n",
       "<polygon fill=\"black\" stroke=\"black\" points=\"496.44,-262.84 501.48,-253.52 491.73,-257.67 496.44,-262.84\"/>\n",
       "</g>\n",
       "<!-- 20 -->\n",
       "<g id=\"node21\" class=\"node\">\n",
       "<title>20</title>\n",
       "<polygon fill=\"none\" stroke=\"black\" points=\"592,-357.5 495,-357.5 495,-304.5 592,-304.5 592,-357.5\"/>\n",
       "<text text-anchor=\"middle\" x=\"543.5\" y=\"-342.3\" font-family=\"Helvetica,sans-Serif\" font-size=\"14.00\">gini = 0.0</text>\n",
       "<text text-anchor=\"middle\" x=\"543.5\" y=\"-327.3\" font-family=\"Helvetica,sans-Serif\" font-size=\"14.00\">samples = 2</text>\n",
       "<text text-anchor=\"middle\" x=\"543.5\" y=\"-312.3\" font-family=\"Helvetica,sans-Serif\" font-size=\"14.00\">value = [0, 2]</text>\n",
       "</g>\n",
       "<!-- 19&#45;&gt;20 -->\n",
       "<g id=\"edge20\" class=\"edge\">\n",
       "<title>19&#45;&gt;20</title>\n",
       "<path fill=\"none\" stroke=\"black\" d=\"M543.5,-400.88C543.5,-390.33 543.5,-378.6 543.5,-367.85\"/>\n",
       "<polygon fill=\"black\" stroke=\"black\" points=\"547,-367.52 543.5,-357.52 540,-367.52 547,-367.52\"/>\n",
       "</g>\n",
       "<!-- 21 -->\n",
       "<g id=\"node22\" class=\"node\">\n",
       "<title>21</title>\n",
       "<polygon fill=\"none\" stroke=\"black\" points=\"707,-357.5 610,-357.5 610,-304.5 707,-304.5 707,-357.5\"/>\n",
       "<text text-anchor=\"middle\" x=\"658.5\" y=\"-342.3\" font-family=\"Helvetica,sans-Serif\" font-size=\"14.00\">gini = 0.0</text>\n",
       "<text text-anchor=\"middle\" x=\"658.5\" y=\"-327.3\" font-family=\"Helvetica,sans-Serif\" font-size=\"14.00\">samples = 1</text>\n",
       "<text text-anchor=\"middle\" x=\"658.5\" y=\"-312.3\" font-family=\"Helvetica,sans-Serif\" font-size=\"14.00\">value = [1, 0]</text>\n",
       "</g>\n",
       "<!-- 19&#45;&gt;21 -->\n",
       "<g id=\"edge21\" class=\"edge\">\n",
       "<title>19&#45;&gt;21</title>\n",
       "<path fill=\"none\" stroke=\"black\" d=\"M580.84,-400.88C594.1,-389.12 609.01,-375.89 622.19,-364.2\"/>\n",
       "<polygon fill=\"black\" stroke=\"black\" points=\"624.57,-366.77 629.73,-357.52 619.92,-361.54 624.57,-366.77\"/>\n",
       "</g>\n",
       "<!-- 23 -->\n",
       "<g id=\"node24\" class=\"node\">\n",
       "<title>23</title>\n",
       "<polygon fill=\"none\" stroke=\"black\" points=\"592,-565.5 495,-565.5 495,-512.5 592,-512.5 592,-565.5\"/>\n",
       "<text text-anchor=\"middle\" x=\"543.5\" y=\"-550.3\" font-family=\"Helvetica,sans-Serif\" font-size=\"14.00\">gini = 0.0</text>\n",
       "<text text-anchor=\"middle\" x=\"543.5\" y=\"-535.3\" font-family=\"Helvetica,sans-Serif\" font-size=\"14.00\">samples = 4</text>\n",
       "<text text-anchor=\"middle\" x=\"543.5\" y=\"-520.3\" font-family=\"Helvetica,sans-Serif\" font-size=\"14.00\">value = [4, 0]</text>\n",
       "</g>\n",
       "<!-- 22&#45;&gt;23 -->\n",
       "<g id=\"edge23\" class=\"edge\">\n",
       "<title>22&#45;&gt;23</title>\n",
       "<path fill=\"none\" stroke=\"black\" d=\"M544.18,-608.88C544.07,-598.33 543.96,-586.6 543.85,-575.85\"/>\n",
       "<polygon fill=\"black\" stroke=\"black\" points=\"547.35,-575.49 543.75,-565.52 540.35,-575.55 547.35,-575.49\"/>\n",
       "</g>\n",
       "<!-- 24 -->\n",
       "<g id=\"node25\" class=\"node\">\n",
       "<title>24</title>\n",
       "<polygon fill=\"none\" stroke=\"black\" points=\"721,-573 610,-573 610,-505 721,-505 721,-573\"/>\n",
       "<text text-anchor=\"middle\" x=\"665.5\" y=\"-557.8\" font-family=\"Helvetica,sans-Serif\" font-size=\"14.00\">X[17] &lt;= 0.016</text>\n",
       "<text text-anchor=\"middle\" x=\"665.5\" y=\"-542.8\" font-family=\"Helvetica,sans-Serif\" font-size=\"14.00\">gini = 0.231</text>\n",
       "<text text-anchor=\"middle\" x=\"665.5\" y=\"-527.8\" font-family=\"Helvetica,sans-Serif\" font-size=\"14.00\">samples = 15</text>\n",
       "<text text-anchor=\"middle\" x=\"665.5\" y=\"-512.8\" font-family=\"Helvetica,sans-Serif\" font-size=\"14.00\">value = [2, 13]</text>\n",
       "</g>\n",
       "<!-- 22&#45;&gt;24 -->\n",
       "<g id=\"edge24\" class=\"edge\">\n",
       "<title>22&#45;&gt;24</title>\n",
       "<path fill=\"none\" stroke=\"black\" d=\"M583.79,-608.88C594.77,-599.62 606.83,-589.45 618.23,-579.85\"/>\n",
       "<polygon fill=\"black\" stroke=\"black\" points=\"620.61,-582.42 626,-573.3 616.1,-577.07 620.61,-582.42\"/>\n",
       "</g>\n",
       "<!-- 25 -->\n",
       "<g id=\"node26\" class=\"node\">\n",
       "<title>25</title>\n",
       "<polygon fill=\"none\" stroke=\"black\" points=\"717,-461.5 612,-461.5 612,-408.5 717,-408.5 717,-461.5\"/>\n",
       "<text text-anchor=\"middle\" x=\"664.5\" y=\"-446.3\" font-family=\"Helvetica,sans-Serif\" font-size=\"14.00\">gini = 0.0</text>\n",
       "<text text-anchor=\"middle\" x=\"664.5\" y=\"-431.3\" font-family=\"Helvetica,sans-Serif\" font-size=\"14.00\">samples = 13</text>\n",
       "<text text-anchor=\"middle\" x=\"664.5\" y=\"-416.3\" font-family=\"Helvetica,sans-Serif\" font-size=\"14.00\">value = [0, 13]</text>\n",
       "</g>\n",
       "<!-- 24&#45;&gt;25 -->\n",
       "<g id=\"edge25\" class=\"edge\">\n",
       "<title>24&#45;&gt;25</title>\n",
       "<path fill=\"none\" stroke=\"black\" d=\"M665.18,-504.88C665.07,-494.33 664.96,-482.6 664.85,-471.85\"/>\n",
       "<polygon fill=\"black\" stroke=\"black\" points=\"668.35,-471.49 664.75,-461.52 661.35,-471.55 668.35,-471.49\"/>\n",
       "</g>\n",
       "<!-- 26 -->\n",
       "<g id=\"node27\" class=\"node\">\n",
       "<title>26</title>\n",
       "<polygon fill=\"none\" stroke=\"black\" points=\"832,-461.5 735,-461.5 735,-408.5 832,-408.5 832,-461.5\"/>\n",
       "<text text-anchor=\"middle\" x=\"783.5\" y=\"-446.3\" font-family=\"Helvetica,sans-Serif\" font-size=\"14.00\">gini = 0.0</text>\n",
       "<text text-anchor=\"middle\" x=\"783.5\" y=\"-431.3\" font-family=\"Helvetica,sans-Serif\" font-size=\"14.00\">samples = 2</text>\n",
       "<text text-anchor=\"middle\" x=\"783.5\" y=\"-416.3\" font-family=\"Helvetica,sans-Serif\" font-size=\"14.00\">value = [2, 0]</text>\n",
       "</g>\n",
       "<!-- 24&#45;&gt;26 -->\n",
       "<g id=\"edge26\" class=\"edge\">\n",
       "<title>24&#45;&gt;26</title>\n",
       "<path fill=\"none\" stroke=\"black\" d=\"M703.81,-504.88C717.42,-493.12 732.72,-479.89 746.25,-468.2\"/>\n",
       "<polygon fill=\"black\" stroke=\"black\" points=\"748.7,-470.71 753.98,-461.52 744.12,-465.41 748.7,-470.71\"/>\n",
       "</g>\n",
       "<!-- 28 -->\n",
       "<g id=\"node29\" class=\"node\">\n",
       "<title>28</title>\n",
       "<polygon fill=\"none\" stroke=\"black\" points=\"712,-669.5 615,-669.5 615,-616.5 712,-616.5 712,-669.5\"/>\n",
       "<text text-anchor=\"middle\" x=\"663.5\" y=\"-654.3\" font-family=\"Helvetica,sans-Serif\" font-size=\"14.00\">gini = 0.0</text>\n",
       "<text text-anchor=\"middle\" x=\"663.5\" y=\"-639.3\" font-family=\"Helvetica,sans-Serif\" font-size=\"14.00\">samples = 2</text>\n",
       "<text text-anchor=\"middle\" x=\"663.5\" y=\"-624.3\" font-family=\"Helvetica,sans-Serif\" font-size=\"14.00\">value = [0, 2]</text>\n",
       "</g>\n",
       "<!-- 27&#45;&gt;28 -->\n",
       "<g id=\"edge28\" class=\"edge\">\n",
       "<title>27&#45;&gt;28</title>\n",
       "<path fill=\"none\" stroke=\"black\" d=\"M700.64,-712.88C694.71,-701.89 688.1,-689.62 682.11,-678.52\"/>\n",
       "<polygon fill=\"black\" stroke=\"black\" points=\"685.09,-676.66 677.26,-669.52 678.93,-679.98 685.09,-676.66\"/>\n",
       "</g>\n",
       "<!-- 29 -->\n",
       "<g id=\"node30\" class=\"node\">\n",
       "<title>29</title>\n",
       "<polygon fill=\"none\" stroke=\"black\" points=\"835,-669.5 730,-669.5 730,-616.5 835,-616.5 835,-669.5\"/>\n",
       "<text text-anchor=\"middle\" x=\"782.5\" y=\"-654.3\" font-family=\"Helvetica,sans-Serif\" font-size=\"14.00\">gini = 0.0</text>\n",
       "<text text-anchor=\"middle\" x=\"782.5\" y=\"-639.3\" font-family=\"Helvetica,sans-Serif\" font-size=\"14.00\">samples = 13</text>\n",
       "<text text-anchor=\"middle\" x=\"782.5\" y=\"-624.3\" font-family=\"Helvetica,sans-Serif\" font-size=\"14.00\">value = [13, 0]</text>\n",
       "</g>\n",
       "<!-- 27&#45;&gt;29 -->\n",
       "<g id=\"edge29\" class=\"edge\">\n",
       "<title>27&#45;&gt;29</title>\n",
       "<path fill=\"none\" stroke=\"black\" d=\"M739.28,-712.88C746.25,-701.78 754.03,-689.37 761.05,-678.18\"/>\n",
       "<polygon fill=\"black\" stroke=\"black\" points=\"764.14,-679.85 766.49,-669.52 758.21,-676.13 764.14,-679.85\"/>\n",
       "</g>\n",
       "<!-- 31 -->\n",
       "<g id=\"node32\" class=\"node\">\n",
       "<title>31</title>\n",
       "<polygon fill=\"none\" stroke=\"black\" points=\"1005,-781 902,-781 902,-713 1005,-713 1005,-781\"/>\n",
       "<text text-anchor=\"middle\" x=\"953.5\" y=\"-765.8\" font-family=\"Helvetica,sans-Serif\" font-size=\"14.00\">X[4] &lt;= 0.108</text>\n",
       "<text text-anchor=\"middle\" x=\"953.5\" y=\"-750.8\" font-family=\"Helvetica,sans-Serif\" font-size=\"14.00\">gini = 0.49</text>\n",
       "<text text-anchor=\"middle\" x=\"953.5\" y=\"-735.8\" font-family=\"Helvetica,sans-Serif\" font-size=\"14.00\">samples = 14</text>\n",
       "<text text-anchor=\"middle\" x=\"953.5\" y=\"-720.8\" font-family=\"Helvetica,sans-Serif\" font-size=\"14.00\">value = [6, 8]</text>\n",
       "</g>\n",
       "<!-- 30&#45;&gt;31 -->\n",
       "<g id=\"edge31\" class=\"edge\">\n",
       "<title>30&#45;&gt;31</title>\n",
       "<path fill=\"none\" stroke=\"black\" d=\"M953.5,-816.88C953.5,-808.78 953.5,-799.98 953.5,-791.47\"/>\n",
       "<polygon fill=\"black\" stroke=\"black\" points=\"957,-791.3 953.5,-781.3 950,-791.3 957,-791.3\"/>\n",
       "</g>\n",
       "<!-- 34 -->\n",
       "<g id=\"node35\" class=\"node\">\n",
       "<title>34</title>\n",
       "<polygon fill=\"none\" stroke=\"black\" points=\"1188,-781 1075,-781 1075,-713 1188,-713 1188,-781\"/>\n",
       "<text text-anchor=\"middle\" x=\"1131.5\" y=\"-765.8\" font-family=\"Helvetica,sans-Serif\" font-size=\"14.00\">X[13] &lt;= 14.18</text>\n",
       "<text text-anchor=\"middle\" x=\"1131.5\" y=\"-750.8\" font-family=\"Helvetica,sans-Serif\" font-size=\"14.00\">gini = 0.043</text>\n",
       "<text text-anchor=\"middle\" x=\"1131.5\" y=\"-735.8\" font-family=\"Helvetica,sans-Serif\" font-size=\"14.00\">samples = 138</text>\n",
       "<text text-anchor=\"middle\" x=\"1131.5\" y=\"-720.8\" font-family=\"Helvetica,sans-Serif\" font-size=\"14.00\">value = [135, 3]</text>\n",
       "</g>\n",
       "<!-- 30&#45;&gt;34 -->\n",
       "<g id=\"edge34\" class=\"edge\">\n",
       "<title>30&#45;&gt;34</title>\n",
       "<path fill=\"none\" stroke=\"black\" d=\"M1011.29,-816.88C1028.83,-806.84 1048.21,-795.73 1066.2,-785.42\"/>\n",
       "<polygon fill=\"black\" stroke=\"black\" points=\"1067.97,-788.44 1074.91,-780.43 1064.49,-782.36 1067.97,-788.44\"/>\n",
       "</g>\n",
       "<!-- 32 -->\n",
       "<g id=\"node33\" class=\"node\">\n",
       "<title>32</title>\n",
       "<polygon fill=\"none\" stroke=\"black\" points=\"950,-669.5 853,-669.5 853,-616.5 950,-616.5 950,-669.5\"/>\n",
       "<text text-anchor=\"middle\" x=\"901.5\" y=\"-654.3\" font-family=\"Helvetica,sans-Serif\" font-size=\"14.00\">gini = 0.0</text>\n",
       "<text text-anchor=\"middle\" x=\"901.5\" y=\"-639.3\" font-family=\"Helvetica,sans-Serif\" font-size=\"14.00\">samples = 8</text>\n",
       "<text text-anchor=\"middle\" x=\"901.5\" y=\"-624.3\" font-family=\"Helvetica,sans-Serif\" font-size=\"14.00\">value = [0, 8]</text>\n",
       "</g>\n",
       "<!-- 31&#45;&gt;32 -->\n",
       "<g id=\"edge32\" class=\"edge\">\n",
       "<title>31&#45;&gt;32</title>\n",
       "<path fill=\"none\" stroke=\"black\" d=\"M936.62,-712.88C931.01,-701.89 924.76,-689.62 919.1,-678.52\"/>\n",
       "<polygon fill=\"black\" stroke=\"black\" points=\"922.17,-676.84 914.51,-669.52 915.93,-680.02 922.17,-676.84\"/>\n",
       "</g>\n",
       "<!-- 33 -->\n",
       "<g id=\"node34\" class=\"node\">\n",
       "<title>33</title>\n",
       "<polygon fill=\"none\" stroke=\"black\" points=\"1065,-669.5 968,-669.5 968,-616.5 1065,-616.5 1065,-669.5\"/>\n",
       "<text text-anchor=\"middle\" x=\"1016.5\" y=\"-654.3\" font-family=\"Helvetica,sans-Serif\" font-size=\"14.00\">gini = 0.0</text>\n",
       "<text text-anchor=\"middle\" x=\"1016.5\" y=\"-639.3\" font-family=\"Helvetica,sans-Serif\" font-size=\"14.00\">samples = 6</text>\n",
       "<text text-anchor=\"middle\" x=\"1016.5\" y=\"-624.3\" font-family=\"Helvetica,sans-Serif\" font-size=\"14.00\">value = [6, 0]</text>\n",
       "</g>\n",
       "<!-- 31&#45;&gt;33 -->\n",
       "<g id=\"edge33\" class=\"edge\">\n",
       "<title>31&#45;&gt;33</title>\n",
       "<path fill=\"none\" stroke=\"black\" d=\"M973.95,-712.88C980.82,-701.78 988.48,-689.37 995.39,-678.18\"/>\n",
       "<polygon fill=\"black\" stroke=\"black\" points=\"998.46,-679.87 1000.74,-669.52 992.5,-676.19 998.46,-679.87\"/>\n",
       "</g>\n",
       "<!-- 35 -->\n",
       "<g id=\"node36\" class=\"node\">\n",
       "<title>35</title>\n",
       "<polygon fill=\"none\" stroke=\"black\" points=\"1180,-669.5 1083,-669.5 1083,-616.5 1180,-616.5 1180,-669.5\"/>\n",
       "<text text-anchor=\"middle\" x=\"1131.5\" y=\"-654.3\" font-family=\"Helvetica,sans-Serif\" font-size=\"14.00\">gini = 0.0</text>\n",
       "<text text-anchor=\"middle\" x=\"1131.5\" y=\"-639.3\" font-family=\"Helvetica,sans-Serif\" font-size=\"14.00\">samples = 1</text>\n",
       "<text text-anchor=\"middle\" x=\"1131.5\" y=\"-624.3\" font-family=\"Helvetica,sans-Serif\" font-size=\"14.00\">value = [0, 1]</text>\n",
       "</g>\n",
       "<!-- 34&#45;&gt;35 -->\n",
       "<g id=\"edge35\" class=\"edge\">\n",
       "<title>34&#45;&gt;35</title>\n",
       "<path fill=\"none\" stroke=\"black\" d=\"M1131.5,-712.88C1131.5,-702.33 1131.5,-690.6 1131.5,-679.85\"/>\n",
       "<polygon fill=\"black\" stroke=\"black\" points=\"1135,-679.52 1131.5,-669.52 1128,-679.52 1135,-679.52\"/>\n",
       "</g>\n",
       "<!-- 36 -->\n",
       "<g id=\"node37\" class=\"node\">\n",
       "<title>36</title>\n",
       "<polygon fill=\"none\" stroke=\"black\" points=\"1311,-677 1198,-677 1198,-609 1311,-609 1311,-677\"/>\n",
       "<text text-anchor=\"middle\" x=\"1254.5\" y=\"-661.8\" font-family=\"Helvetica,sans-Serif\" font-size=\"14.00\">X[26] &lt;= 0.203</text>\n",
       "<text text-anchor=\"middle\" x=\"1254.5\" y=\"-646.8\" font-family=\"Helvetica,sans-Serif\" font-size=\"14.00\">gini = 0.029</text>\n",
       "<text text-anchor=\"middle\" x=\"1254.5\" y=\"-631.8\" font-family=\"Helvetica,sans-Serif\" font-size=\"14.00\">samples = 137</text>\n",
       "<text text-anchor=\"middle\" x=\"1254.5\" y=\"-616.8\" font-family=\"Helvetica,sans-Serif\" font-size=\"14.00\">value = [135, 2]</text>\n",
       "</g>\n",
       "<!-- 34&#45;&gt;36 -->\n",
       "<g id=\"edge36\" class=\"edge\">\n",
       "<title>34&#45;&gt;36</title>\n",
       "<path fill=\"none\" stroke=\"black\" d=\"M1171.43,-712.88C1182.61,-703.62 1194.86,-693.45 1206.45,-683.85\"/>\n",
       "<polygon fill=\"black\" stroke=\"black\" points=\"1208.88,-686.38 1214.34,-677.3 1204.41,-680.99 1208.88,-686.38\"/>\n",
       "</g>\n",
       "<!-- 37 -->\n",
       "<g id=\"node38\" class=\"node\">\n",
       "<title>37</title>\n",
       "<polygon fill=\"none\" stroke=\"black\" points=\"1241,-565.5 1144,-565.5 1144,-512.5 1241,-512.5 1241,-565.5\"/>\n",
       "<text text-anchor=\"middle\" x=\"1192.5\" y=\"-550.3\" font-family=\"Helvetica,sans-Serif\" font-size=\"14.00\">gini = 0.0</text>\n",
       "<text text-anchor=\"middle\" x=\"1192.5\" y=\"-535.3\" font-family=\"Helvetica,sans-Serif\" font-size=\"14.00\">samples = 1</text>\n",
       "<text text-anchor=\"middle\" x=\"1192.5\" y=\"-520.3\" font-family=\"Helvetica,sans-Serif\" font-size=\"14.00\">value = [0, 1]</text>\n",
       "</g>\n",
       "<!-- 36&#45;&gt;37 -->\n",
       "<g id=\"edge37\" class=\"edge\">\n",
       "<title>36&#45;&gt;37</title>\n",
       "<path fill=\"none\" stroke=\"black\" d=\"M1234.37,-608.88C1227.62,-597.78 1220.08,-585.37 1213.28,-574.18\"/>\n",
       "<polygon fill=\"black\" stroke=\"black\" points=\"1216.2,-572.25 1208.01,-565.52 1210.22,-575.88 1216.2,-572.25\"/>\n",
       "</g>\n",
       "<!-- 38 -->\n",
       "<g id=\"node39\" class=\"node\">\n",
       "<title>38</title>\n",
       "<polygon fill=\"none\" stroke=\"black\" points=\"1372,-573 1259,-573 1259,-505 1372,-505 1372,-573\"/>\n",
       "<text text-anchor=\"middle\" x=\"1315.5\" y=\"-557.8\" font-family=\"Helvetica,sans-Serif\" font-size=\"14.00\">X[1] &lt;= 15.37</text>\n",
       "<text text-anchor=\"middle\" x=\"1315.5\" y=\"-542.8\" font-family=\"Helvetica,sans-Serif\" font-size=\"14.00\">gini = 0.015</text>\n",
       "<text text-anchor=\"middle\" x=\"1315.5\" y=\"-527.8\" font-family=\"Helvetica,sans-Serif\" font-size=\"14.00\">samples = 136</text>\n",
       "<text text-anchor=\"middle\" x=\"1315.5\" y=\"-512.8\" font-family=\"Helvetica,sans-Serif\" font-size=\"14.00\">value = [135, 1]</text>\n",
       "</g>\n",
       "<!-- 36&#45;&gt;38 -->\n",
       "<g id=\"edge38\" class=\"edge\">\n",
       "<title>36&#45;&gt;38</title>\n",
       "<path fill=\"none\" stroke=\"black\" d=\"M1274.3,-608.88C1279.42,-600.33 1284.99,-591.01 1290.34,-582.07\"/>\n",
       "<polygon fill=\"black\" stroke=\"black\" points=\"1293.46,-583.68 1295.59,-573.3 1287.45,-580.09 1293.46,-583.68\"/>\n",
       "</g>\n",
       "<!-- 39 -->\n",
       "<g id=\"node40\" class=\"node\">\n",
       "<title>39</title>\n",
       "<polygon fill=\"none\" stroke=\"black\" points=\"1306,-469 1195,-469 1195,-401 1306,-401 1306,-469\"/>\n",
       "<text text-anchor=\"middle\" x=\"1250.5\" y=\"-453.8\" font-family=\"Helvetica,sans-Serif\" font-size=\"14.00\">X[19] &lt;= 0.003</text>\n",
       "<text text-anchor=\"middle\" x=\"1250.5\" y=\"-438.8\" font-family=\"Helvetica,sans-Serif\" font-size=\"14.00\">gini = 0.32</text>\n",
       "<text text-anchor=\"middle\" x=\"1250.5\" y=\"-423.8\" font-family=\"Helvetica,sans-Serif\" font-size=\"14.00\">samples = 5</text>\n",
       "<text text-anchor=\"middle\" x=\"1250.5\" y=\"-408.8\" font-family=\"Helvetica,sans-Serif\" font-size=\"14.00\">value = [4, 1]</text>\n",
       "</g>\n",
       "<!-- 38&#45;&gt;39 -->\n",
       "<g id=\"edge39\" class=\"edge\">\n",
       "<title>38&#45;&gt;39</title>\n",
       "<path fill=\"none\" stroke=\"black\" d=\"M1294.4,-504.88C1288.89,-496.24 1282.88,-486.82 1277.13,-477.79\"/>\n",
       "<polygon fill=\"black\" stroke=\"black\" points=\"1280.05,-475.85 1271.72,-469.3 1274.14,-479.61 1280.05,-475.85\"/>\n",
       "</g>\n",
       "<!-- 42 -->\n",
       "<g id=\"node43\" class=\"node\">\n",
       "<title>42</title>\n",
       "<polygon fill=\"none\" stroke=\"black\" points=\"1437,-461.5 1324,-461.5 1324,-408.5 1437,-408.5 1437,-461.5\"/>\n",
       "<text text-anchor=\"middle\" x=\"1380.5\" y=\"-446.3\" font-family=\"Helvetica,sans-Serif\" font-size=\"14.00\">gini = 0.0</text>\n",
       "<text text-anchor=\"middle\" x=\"1380.5\" y=\"-431.3\" font-family=\"Helvetica,sans-Serif\" font-size=\"14.00\">samples = 131</text>\n",
       "<text text-anchor=\"middle\" x=\"1380.5\" y=\"-416.3\" font-family=\"Helvetica,sans-Serif\" font-size=\"14.00\">value = [131, 0]</text>\n",
       "</g>\n",
       "<!-- 38&#45;&gt;42 -->\n",
       "<g id=\"edge42\" class=\"edge\">\n",
       "<title>38&#45;&gt;42</title>\n",
       "<path fill=\"none\" stroke=\"black\" d=\"M1336.6,-504.88C1343.68,-493.78 1351.59,-481.37 1358.72,-470.18\"/>\n",
       "<polygon fill=\"black\" stroke=\"black\" points=\"1361.81,-471.83 1364.24,-461.52 1355.91,-468.07 1361.81,-471.83\"/>\n",
       "</g>\n",
       "<!-- 40 -->\n",
       "<g id=\"node41\" class=\"node\">\n",
       "<title>40</title>\n",
       "<polygon fill=\"none\" stroke=\"black\" points=\"1242,-357.5 1145,-357.5 1145,-304.5 1242,-304.5 1242,-357.5\"/>\n",
       "<text text-anchor=\"middle\" x=\"1193.5\" y=\"-342.3\" font-family=\"Helvetica,sans-Serif\" font-size=\"14.00\">gini = 0.0</text>\n",
       "<text text-anchor=\"middle\" x=\"1193.5\" y=\"-327.3\" font-family=\"Helvetica,sans-Serif\" font-size=\"14.00\">samples = 1</text>\n",
       "<text text-anchor=\"middle\" x=\"1193.5\" y=\"-312.3\" font-family=\"Helvetica,sans-Serif\" font-size=\"14.00\">value = [0, 1]</text>\n",
       "</g>\n",
       "<!-- 39&#45;&gt;40 -->\n",
       "<g id=\"edge40\" class=\"edge\">\n",
       "<title>39&#45;&gt;40</title>\n",
       "<path fill=\"none\" stroke=\"black\" d=\"M1231.99,-400.88C1225.85,-389.89 1218.99,-377.62 1212.79,-366.52\"/>\n",
       "<polygon fill=\"black\" stroke=\"black\" points=\"1215.69,-364.54 1207.76,-357.52 1209.58,-367.96 1215.69,-364.54\"/>\n",
       "</g>\n",
       "<!-- 41 -->\n",
       "<g id=\"node42\" class=\"node\">\n",
       "<title>41</title>\n",
       "<polygon fill=\"none\" stroke=\"black\" points=\"1357,-357.5 1260,-357.5 1260,-304.5 1357,-304.5 1357,-357.5\"/>\n",
       "<text text-anchor=\"middle\" x=\"1308.5\" y=\"-342.3\" font-family=\"Helvetica,sans-Serif\" font-size=\"14.00\">gini = 0.0</text>\n",
       "<text text-anchor=\"middle\" x=\"1308.5\" y=\"-327.3\" font-family=\"Helvetica,sans-Serif\" font-size=\"14.00\">samples = 4</text>\n",
       "<text text-anchor=\"middle\" x=\"1308.5\" y=\"-312.3\" font-family=\"Helvetica,sans-Serif\" font-size=\"14.00\">value = [4, 0]</text>\n",
       "</g>\n",
       "<!-- 39&#45;&gt;41 -->\n",
       "<g id=\"edge41\" class=\"edge\">\n",
       "<title>39&#45;&gt;41</title>\n",
       "<path fill=\"none\" stroke=\"black\" d=\"M1269.33,-400.88C1275.58,-389.89 1282.56,-377.62 1288.87,-366.52\"/>\n",
       "<polygon fill=\"black\" stroke=\"black\" points=\"1292.09,-367.94 1293.99,-357.52 1286,-364.48 1292.09,-367.94\"/>\n",
       "</g>\n",
       "</g>\n",
       "</svg>\n"
      ],
      "text/plain": [
       "<graphviz.sources.Source at 0x20550258bb0>"
      ]
     },
     "execution_count": 6,
     "metadata": {},
     "output_type": "execute_result"
    }
   ],
   "source": [
    "dot_data = tree.export_graphviz(decision_tree, out_file=None) \n",
    "graph = graphviz.Source(dot_data)\n",
    "graph.render(\"Tree_Learning\")\n",
    "graph"
   ]
  },
  {
   "cell_type": "markdown",
   "metadata": {
    "id": "o4BNyiX3x4xt"
   },
   "source": [
    "### 2. Save Model to Pickle"
   ]
  },
  {
   "cell_type": "code",
   "execution_count": 7,
   "metadata": {
    "id": "F_1TSUPcx4xt"
   },
   "outputs": [],
   "source": [
    "pickle.dump(decision_tree, open('tree_learning.pkl', 'wb'))"
   ]
  },
  {
   "cell_type": "markdown",
   "metadata": {
    "id": "BWKABHWnx4xt"
   },
   "source": [
    "### 3. Load Model from Pickle"
   ]
  },
  {
   "cell_type": "code",
   "execution_count": 8,
   "metadata": {
    "colab": {
     "base_uri": "https://localhost:8080/"
    },
    "id": "yldZXiNox4xt",
    "outputId": "7358565d-75dc-4179-f398-bc3b006b7fa4"
   },
   "outputs": [
    {
     "data": {
      "text/plain": [
       "array([0, 1, 1, 1, 1, 1, 1, 1, 1, 1, 1, 1, 1, 0, 0, 0, 1, 0, 0, 0, 0, 0,\n",
       "       1, 1, 0, 1, 1, 0, 1, 0, 1, 0, 1, 0, 1, 0, 1, 0, 1, 0, 1, 1, 0, 1,\n",
       "       0, 0, 1, 1, 1, 0, 0, 0, 0, 1, 1, 1, 0, 1, 0, 0, 0, 0, 1, 1, 0, 0,\n",
       "       0, 0, 0, 1, 1, 0, 1, 1, 0, 1, 1, 1, 1, 1, 0, 0, 0, 1, 0, 1, 1, 1,\n",
       "       0, 0, 1, 0, 1, 0, 1, 1, 0, 1, 1, 1, 1, 1, 1, 0, 0, 1, 0, 1, 0, 1,\n",
       "       1, 0, 0, 1])"
      ]
     },
     "execution_count": 8,
     "metadata": {},
     "output_type": "execute_result"
    }
   ],
   "source": [
    "decision_tree_learning = pickle.load(open('tree_learning.pkl', 'rb'))\n",
    "y_pred_tree = decision_tree_learning.predict(X_test)\n",
    "y_pred_tree"
   ]
  },
  {
   "cell_type": "markdown",
   "metadata": {
    "id": "oWKCxhEHx4xu"
   },
   "source": [
    "### 4. Evaluate prediction result with metric analysis: Accuracy, Precision, Recall, F1, Confusion_Matrix"
   ]
  },
  {
   "cell_type": "code",
   "execution_count": 9,
   "metadata": {
    "colab": {
     "base_uri": "https://localhost:8080/"
    },
    "id": "D6b7O4vNx4xu",
    "outputId": "8fe5a22a-b82c-47c5-c1af-8fdf0420b848"
   },
   "outputs": [
    {
     "name": "stdout",
     "output_type": "stream",
     "text": [
      "Accuracy score\t: 0.912281\n",
      "F1 Score\t: 0.912721\n",
      "Precision Score\t: 0.915426\n",
      "Recall Score\t: 0.912281\n",
      "Confusion matrix dari model: \n",
      " [[44  3]\n",
      " [ 7 60]]\n"
     ]
    }
   ],
   "source": [
    "print(\"Accuracy score\\t: %f\" % sklearn.metrics.accuracy_score(y_test, y_pred_tree ))\n",
    "print(\"F1 Score\\t: %f\" % sklearn.metrics.f1_score(y_test, y_pred_tree ,average='weighted'))\n",
    "print(\"Precision Score\\t: %f\" %sklearn.metrics.precision_score(y_test, y_pred_tree ,average='weighted'))\n",
    "print(\"Recall Score\\t: %f\" %sklearn.metrics.recall_score(y_test, y_pred_tree ,average='weighted'))\n",
    "print(\"Confusion matrix dari model: \\n\", sklearn.metrics.confusion_matrix(y_test, decision_tree_train.predict(X_test)))"
   ]
  },
  {
   "cell_type": "markdown",
   "metadata": {
    "id": "WgkaMlvbx4xu"
   },
   "source": [
    "Dari hasil diatas diatas dapat dikatakan bahwa model yang dihasilkan dari hasil pembelajaran dengan 80% data breas_cancer sudah baik untuk unseen data atau data test. Hasil yang didapatkan dari martiks diatas sekitar 90% akurasi untuk data test. \n",
    "NOTE : Hasil dapat berubah jika program dijalankan ulang dikarenakan split data antara Traning dan Test dilakukan random."
   ]
  },
  {
   "cell_type": "markdown",
   "metadata": {
    "id": "tJ0RZEhux4xu"
   },
   "source": [
    "Evaluasi dengan Confusion Matrix"
   ]
  },
  {
   "cell_type": "code",
   "execution_count": 10,
   "metadata": {
    "colab": {
     "base_uri": "https://localhost:8080/"
    },
    "id": "xEsKZs9hx4xu",
    "outputId": "1843bd71-c38e-478f-aa2e-f41842a88a6b"
   },
   "outputs": [
    {
     "name": "stdout",
     "output_type": "stream",
     "text": [
      "Accuracy score\t: 0.964912\n",
      "F1 Score\t: 0.963555\n",
      "Precision Score\t: 0.967150\n",
      "Recall Score\t: 0.960622\n",
      "Confusion matrix dari model: \n",
      " [[44  3]\n",
      " [ 1 66]]\n"
     ]
    }
   ],
   "source": [
    "print(\"Accuracy score\\t: %f\" % sklearn.metrics.accuracy_score(y_test, decision_tree_parameter_train.predict(X_test)))\n",
    "print(\"F1 Score\\t: %f\" % sklearn.metrics.f1_score(y_test, decision_tree_parameter_train.predict(X_test), average='macro'))\n",
    "print(\"Precision Score\\t: %f\" % sklearn.metrics.precision_score(y_test, decision_tree_parameter_train.predict(X_test), average='macro'))\n",
    "print(\"Recall Score\\t: %f\" % sklearn.metrics.recall_score(y_test, decision_tree_parameter_train.predict(X_test), average='macro'))\n",
    "print(\"Confusion matrix dari model: \\n\", sklearn.metrics.confusion_matrix(y_test, decision_tree_parameter_train.predict(X_test)))"
   ]
  },
  {
   "cell_type": "markdown",
   "metadata": {
    "id": "_XH0CODux4xv"
   },
   "source": [
    "Dari hasil diatas diatas dapat dikatakan bahwa model yang dihasilkan dari hasil pembelajaran dengan 80% data breas_cancer menghasilkan 44 True Positif, 3 False Negative, 8 False Positif, dan 59 True Negatif. \n",
    "NOTE : Hasil dapat berubah jika program dijalankan ulang dikarenakan split data antara Traning dan Test dilakukan random."
   ]
  },
  {
   "cell_type": "markdown",
   "metadata": {
    "id": "MfIi--gAx4xv"
   },
   "source": [
    "### 5. K-Folds Cross Validation"
   ]
  },
  {
   "cell_type": "code",
   "execution_count": 11,
   "metadata": {
    "colab": {
     "base_uri": "https://localhost:8080/"
    },
    "id": "Q7_NpLI3x4xv",
    "outputId": "986eca1b-04c9-4dc2-8796-916d3b78be6a"
   },
   "outputs": [
    {
     "name": "stdout",
     "output_type": "stream",
     "text": [
      "F1 score dari model:  0.9136402318193808\n",
      "Accuracy dari model:  0.9192042606516291\n",
      "\n",
      "Perbandingan Accuracy dan F1 pada poin 4: \n",
      "Accuracy dari model tanpa menggunakan cross validation:  0.9122807017543859\n",
      "F1 score dari model tanpa menggunakan cross validation:  0.9105180533751962\n",
      "Accuracy dari model dengan menggunakan cross validation:  0.9136402318193808\n",
      "F1 score dari model dengan menggunakan cross validation:  0.9192042606516291\n"
     ]
    }
   ],
   "source": [
    "Kfold = sklearn.model_selection.KFold(n_splits=10, shuffle=True, random_state=0)\n",
    "scoresAccuracy = sklearn.model_selection.cross_val_score(decision_tree_train, X, y, cv=Kfold, scoring='f1_macro')\n",
    "print(\"F1 score dari model: \", scoresAccuracy.mean())\n",
    "scoresF1 = sklearn.model_selection.cross_val_score(decision_tree_train, X, y, cv=Kfold, scoring='accuracy')\n",
    "print(\"Accuracy dari model: \", scoresF1.mean())\n",
    "print()\n",
    "print(\"Perbandingan Accuracy dan F1 pada poin 4: \")\n",
    "print(\"Accuracy dari model tanpa menggunakan cross validation: \", sklearn.metrics.accuracy_score(y_test, decision_tree_train.predict(X_test)))\n",
    "print(\"F1 score dari model tanpa menggunakan cross validation: \", sklearn.metrics.f1_score(y_test, decision_tree_train.predict(X_test), average='macro'))\n",
    "print(\"Accuracy dari model dengan menggunakan cross validation: \", scoresAccuracy.mean())\n",
    "print(\"F1 score dari model dengan menggunakan cross validation: \", scoresF1.mean())"
   ]
  },
  {
   "cell_type": "markdown",
   "metadata": {
    "id": "tskDJtsix4xv"
   },
   "source": [
    "### Hasil analisis:\n",
    "1. Dari segi akurasi:\n",
    "Berdasarkan hasil di atas, dapat disimpulkan bahwa akurasi dari model Decision Tree Classifier dengan menggunakan cross validation lebih baik jika dibandingkan dengan model Decision Tree Classifier tanpa menggunakan cross validation. Alasannya ialah cross validation akan mempartisi data menjadi beberapa bagian dan setiap bagian tersebut akan dijadikan sebagai data test dan data train. Dengan demikian hal tersebut akan menyebabkan akurasi yang dihasilkan akan lebih baik daripada dengan hanya memakai data train dan data test yang sama.\n",
    "2. Dari segi F1:\n",
    "Berdasarkan hasil di atas, dapat disimpulkan bahwa F1 dari model Decision Tree Classifier dengan menggunakan cross validation lebih baik dibandingkan dengan model Decision Tree Classifier tanpa menggunakan cross validation. Alasannya sama dengan pada accuracy di atas.\n",
    "3. Penggunaan algoritma Decision Tree cukup baik untuk memprediksi penentuan breast cancer pada seseorang. Akurasi yang diperoleh berkisar 91-96%, dimana angka ini termasuk cukup tinggi. Namun yang perlu diperhatikan ialah terdapat perbedaan nilai antara model decision tree yang didefinisikan max_depth-nya dengan yang tidak, yaitu sekitar 5%. Adapun perkiraan dari kelompok kami, hal ini dikarenakan suatu decision tree tidak definisikan max_depth-nya maka secara otomatis ia akan membuat depth sedalam mungkin. Berbeda dengan jika max_depth-nya sudah ditentukan ia akan berhenti melakukan iterasi ketika max_depth-nya tercapai. Hal ini akan menyebabkan ketika dilakukan testing, data tersebut tidak tahu seberagam apa sehingga depth yang dalam dapat membuat \"syarat\" yang cukup banyak untuk sebuah kasus untuk diklasifikasikan ke kelas apa. Berbeda dengan depth yang tidak terlalu dalam membuat sebuah kasus lebih bebas untuk diklasifikasikan ke kelas apa."
   ]
  },
  {
   "cell_type": "code",
   "execution_count": 12,
   "metadata": {
    "colab": {
     "base_uri": "https://localhost:8080/"
    },
    "id": "a9O1cYPhx4xv",
    "outputId": "84e5a55b-81a1-4e76-fa9e-f498b5a70283"
   },
   "outputs": [
    {
     "name": "stdout",
     "output_type": "stream",
     "text": [
      "Untuk Data Training :\n",
      "[0.86956522 0.93478261 0.97826087 0.93478261 0.93478261 0.93333333\n",
      " 0.93333333 0.93333333 0.97777778 0.91111111] \n",
      "\n",
      "Rata-rata :  0.9341062801932367\n"
     ]
    }
   ],
   "source": [
    "print(\"Untuk Data Training :\")\n",
    "train_data_score = sklearn.model_selection.cross_val_score(decision_tree_learning, X_train, y_train, cv=10)\n",
    "print(train_data_score, \"\\n\")\n",
    "\n",
    "print(\"Rata-rata : \", np.mean(train_data_score))"
   ]
  },
  {
   "cell_type": "code",
   "execution_count": 13,
   "metadata": {
    "colab": {
     "base_uri": "https://localhost:8080/"
    },
    "id": "MSeSLvL7x4xv",
    "outputId": "c9357fe4-44d6-4f71-fc3e-1b8a85aca109"
   },
   "outputs": [
    {
     "name": "stdout",
     "output_type": "stream",
     "text": [
      "Untuk Data Test :\n",
      "[1.         0.83333333 1.         0.75       0.81818182 0.90909091\n",
      " 0.90909091 1.         0.81818182 1.        ] \n",
      "\n",
      "Rata-rata :  0.9037878787878789\n"
     ]
    }
   ],
   "source": [
    "print(\"Untuk Data Test :\")\n",
    "test_data_score = sklearn.model_selection.cross_val_score(decision_tree_learning, X_test, y_test, cv=10)\n",
    "print(test_data_score, \"\\n\")\n",
    "\n",
    "print(\"Rata-rata : \", np.mean(test_data_score))"
   ]
  },
  {
   "cell_type": "markdown",
   "metadata": {
    "id": "hO1jqrTPx4xw"
   },
   "source": [
    "## ID3 Estimator"
   ]
  },
  {
   "cell_type": "markdown",
   "metadata": {
    "id": "01OYVwOBx4xw"
   },
   "source": [
    "### 1. Learning with fit data training method"
   ]
  },
  {
   "cell_type": "code",
   "execution_count": 14,
   "metadata": {
    "colab": {
     "base_uri": "https://localhost:8080/",
     "height": 200
    },
    "id": "kOk4o00wx4xw",
    "outputId": "2884086a-92fb-4b53-9979-bda6d07acccc"
   },
   "outputs": [],
   "source": [
    "# Data train without additional parameter\n",
    "id3estimator = Id3Estimator()\n",
    "id3estimator.fit(X_train, y_train)\n",
    "\n",
    "# Data train with additional parameter\n",
    "id3estimator_parameter = Id3Estimator(max_depth=2)\n",
    "id3estimator_parameter.fit(X_train, y_train)\n",
    "\n",
    "# Export tree\n",
    "trees = export_graphviz(id3estimator.tree_, 'tree.dot', list(breast_cancer.feature_names))"
   ]
  },
  {
   "cell_type": "markdown",
   "metadata": {
    "id": "hdc7WkI9x4xw"
   },
   "source": [
    "### 2. Save Model to Pickle"
   ]
  },
  {
   "cell_type": "code",
   "execution_count": 15,
   "metadata": {
    "id": "VW0M6bG9x4xw"
   },
   "outputs": [],
   "source": [
    "# Save\n",
    "with open(\"modelId3Estimator.pkl\", \"wb\") as f:\n",
    "    pickle.dump(id3estimator, f)\n",
    "\n",
    "# Save additonal parameter model\n",
    "with open(\"modelId3EstimatorParameter.pkl\", \"wb\") as f:\n",
    "    pickle.dump(id3estimator_parameter, f)"
   ]
  },
  {
   "cell_type": "markdown",
   "metadata": {
    "id": "5JorAz2ux4xw"
   },
   "source": [
    "### 3. Load Model from Pickle"
   ]
  },
  {
   "cell_type": "code",
   "execution_count": 16,
   "metadata": {
    "id": "x1qSu8UYx4xx"
   },
   "outputs": [
    {
     "data": {
      "text/plain": [
       "array([0, 1, 1, 1, 1, 1, 1, 1, 1, 1, 1, 1, 1, 0, 1, 0, 1, 0, 0, 0, 0, 0,\n",
       "       1, 1, 0, 1, 1, 0, 1, 0, 1, 0, 1, 0, 1, 0, 1, 0, 1, 0, 1, 1, 0, 1,\n",
       "       0, 0, 1, 0, 1, 0, 0, 0, 0, 1, 1, 1, 1, 1, 1, 0, 0, 0, 1, 1, 0, 1,\n",
       "       0, 0, 0, 1, 0, 0, 1, 1, 0, 1, 1, 1, 1, 1, 1, 0, 0, 1, 0, 1, 1, 1,\n",
       "       0, 0, 1, 0, 0, 0, 1, 1, 0, 1, 1, 1, 1, 1, 1, 1, 0, 1, 0, 1, 0, 1,\n",
       "       1, 0, 0, 0])"
      ]
     },
     "execution_count": 16,
     "metadata": {},
     "output_type": "execute_result"
    }
   ],
   "source": [
    "# load model without additional parameter\n",
    "with open(\"modelId3Estimator.pkl\", \"rb\") as f:\n",
    "    model_load_id3estimator = pickle.load(f)\n",
    "    \n",
    "# predict data test without additional parameter\n",
    "model_load_id3estimator.predict(X_test)"
   ]
  },
  {
   "cell_type": "code",
   "execution_count": 17,
   "metadata": {
    "id": "N_-FA-Z_x4xx"
   },
   "outputs": [
    {
     "data": {
      "text/plain": [
       "array([0, 1, 1, 1, 1, 1, 1, 1, 1, 1, 0, 1, 1, 0, 0, 0, 1, 0, 0, 0, 0, 0,\n",
       "       1, 1, 0, 1, 1, 0, 1, 0, 1, 0, 1, 0, 1, 0, 1, 0, 1, 0, 0, 1, 0, 1,\n",
       "       0, 0, 1, 1, 1, 0, 0, 0, 0, 1, 1, 1, 1, 1, 1, 0, 0, 0, 1, 1, 0, 1,\n",
       "       0, 0, 0, 1, 0, 0, 1, 1, 0, 1, 1, 1, 1, 1, 0, 0, 0, 1, 0, 1, 1, 1,\n",
       "       0, 0, 1, 0, 0, 0, 1, 1, 0, 0, 1, 1, 1, 1, 1, 1, 0, 1, 0, 1, 0, 0,\n",
       "       1, 0, 0, 0])"
      ]
     },
     "execution_count": 17,
     "metadata": {},
     "output_type": "execute_result"
    }
   ],
   "source": [
    "# load model with additional parameter\n",
    "with open(\"modelId3EstimatorParameter.pkl\", \"rb\") as f:\n",
    "    model_load_id3_parameter = pickle.load(f)\n",
    "\n",
    "# predict data test with additional parameter\n",
    "model_load_id3_parameter.predict(X_test)"
   ]
  },
  {
   "cell_type": "markdown",
   "metadata": {
    "id": "n-f_LMk8x4xx"
   },
   "source": [
    "### 4. Evaluate prediction result with metric analysis: Accuracy, Precision, Recall, F1, Confusion_Matrix"
   ]
  },
  {
   "cell_type": "markdown",
   "metadata": {
    "id": "gpnlWf0rx4xx"
   },
   "source": [
    "Ide3 Estimator without Additional parameter"
   ]
  },
  {
   "cell_type": "code",
   "execution_count": 18,
   "metadata": {
    "id": "KZNHQYCCx4xx"
   },
   "outputs": [
    {
     "name": "stdout",
     "output_type": "stream",
     "text": [
      "Accuracy score\t: 0.912281\n",
      "F1 Score\t: 0.910038\n",
      "Precision Score\t: 0.908006\n",
      "Recall Score\t: 0.912671\n",
      "Confusion matrix dari model: \n",
      " [[43  4]\n",
      " [ 6 61]]\n"
     ]
    }
   ],
   "source": [
    "print(\"Accuracy score\\t: %f\" % sklearn.metrics.accuracy_score(y_test, id3estimator.predict(X_test)))\n",
    "print(\"F1 Score\\t: %f\" % sklearn.metrics.f1_score(y_test, id3estimator.predict(X_test), average='macro'))\n",
    "print(\"Precision Score\\t: %f\" % sklearn.metrics.precision_score(y_test, id3estimator.predict(X_test), average='macro'))\n",
    "print(\"Recall Score\\t: %f\" % sklearn.metrics.recall_score(y_test, id3estimator.predict(X_test), average='macro'))\n",
    "print(\"Confusion matrix dari model: \\n\", sklearn.metrics.confusion_matrix(y_test, id3estimator.predict(X_test)))"
   ]
  },
  {
   "cell_type": "markdown",
   "metadata": {
    "id": "TzkZ30emx4xx"
   },
   "source": [
    "Ide3 Estimator with additional parameter"
   ]
  },
  {
   "cell_type": "code",
   "execution_count": 19,
   "metadata": {
    "colab": {
     "base_uri": "https://localhost:8080/",
     "height": 235
    },
    "id": "OoOEUeltx4xx",
    "outputId": "1129757c-5e94-4ae6-ff8d-8b2567159ced"
   },
   "outputs": [
    {
     "name": "stdout",
     "output_type": "stream",
     "text": [
      "Accuracy score\t: 0.921053\n",
      "F1 Score\t: 0.920012\n",
      "Precision Score\t: 0.917593\n",
      "Recall Score\t: 0.929660\n",
      "Confusion matrix dari model: \n",
      " [[46  1]\n",
      " [ 8 59]]\n"
     ]
    }
   ],
   "source": [
    "print(\"Accuracy score\\t: %f\" % sklearn.metrics.accuracy_score(y_test, id3estimator_parameter.predict(X_test)))\n",
    "print(\"F1 Score\\t: %f\" % sklearn.metrics.f1_score(y_test, id3estimator_parameter.predict(X_test), average='macro'))\n",
    "print(\"Precision Score\\t: %f\" % sklearn.metrics.precision_score(y_test, id3estimator_parameter.predict(X_test), average='macro'))\n",
    "print(\"Recall Score\\t: %f\" % sklearn.metrics.recall_score(y_test, id3estimator_parameter.predict(X_test), average='macro'))\n",
    "print(\"Confusion matrix dari model: \\n\", sklearn.metrics.confusion_matrix(y_test, id3estimator_parameter.predict(X_test)))"
   ]
  },
  {
   "cell_type": "markdown",
   "metadata": {
    "id": "8pIh9Lzdx4xx"
   },
   "source": [
    "### Hasil analisis:\n",
    "Sama seperti sebelumnya, algoritma ID3Estimator untuk prediksi di kasus breast cancer ini bekerja cukup baik dengan akurasi sekitar 91-92%. Namun lagi-lagi dengan menambahkan parameter terdapat peningkatan akurasi sekitar 1%. Adapun parameter yang ditambahkan ialah pemakaian gain ration pada penentuan cabang. Seperti yang diketahui bahwa ID3Estimator algorithm menggunakan information gain untuk menentukan percabangannya, hanya saja terdapat kekurangan ketika menemukan properti yang memiliki sparse value yang tinggi, seperti nama, tanggal, etc. Oleh karena itu, penggunaan gain ratio dapat membuat perhitungan ID3Estimator menjadi lebih akurat."
   ]
  },
  {
   "cell_type": "markdown",
   "metadata": {
    "id": "azmQrHYYx4xx"
   },
   "source": [
    "## KMeans"
   ]
  },
  {
   "cell_type": "markdown",
   "metadata": {
    "id": "YM70kaxlx4xy"
   },
   "source": [
    "### 1. Learning with fit data training method"
   ]
  },
  {
   "cell_type": "code",
   "execution_count": 20,
   "metadata": {
    "colab": {
     "base_uri": "https://localhost:8080/"
    },
    "id": "s3nD9Z_Ax4xy",
    "outputId": "1444578f-4e8a-4453-84c7-0208cbace234"
   },
   "outputs": [
    {
     "name": "stderr",
     "output_type": "stream",
     "text": [
      "C:\\Users\\Asus\\anaconda3\\lib\\site-packages\\sklearn\\cluster\\_kmeans.py:1334: UserWarning: KMeans is known to have a memory leak on Windows with MKL, when there are less chunks than available threads. You can avoid it by setting the environment variable OMP_NUM_THREADS=2.\n",
      "  warnings.warn(\n",
      "C:\\Users\\Asus\\anaconda3\\lib\\site-packages\\sklearn\\cluster\\_kmeans.py:1334: UserWarning: KMeans is known to have a memory leak on Windows with MKL, when there are less chunks than available threads. You can avoid it by setting the environment variable OMP_NUM_THREADS=2.\n",
      "  warnings.warn(\n"
     ]
    },
    {
     "data": {
      "text/plain": [
       "array([[1.25435892e+01, 1.84710765e+01, 8.10654958e+01, 4.94026629e+02,\n",
       "        9.52176771e-02, 9.18022380e-02, 6.34759312e-02, 3.38999207e-02,\n",
       "        1.78615864e-01, 6.35154108e-02, 3.04216714e-01, 1.21734504e+00,\n",
       "        2.14452776e+00, 2.38088272e+01, 7.15466289e-03, 2.34836317e-02,\n",
       "        2.91886618e-02, 1.07052125e-02, 2.07497677e-02, 3.69567224e-03,\n",
       "        1.40344873e+01, 2.46155807e+01, 9.18348159e+01, 6.17465722e+02,\n",
       "        1.30527507e-01, 2.24186629e-01, 2.20507244e-01, 9.24612493e-02,\n",
       "        2.84925779e-01, 8.31315014e-02],\n",
       "       [1.95421569e+01, 2.15124510e+01, 1.29031373e+02, 1.20682647e+03,\n",
       "        1.00551275e-01, 1.43174510e-01, 1.70573137e-01, 9.98753922e-02,\n",
       "        1.88979412e-01, 5.97353922e-02, 7.42742157e-01, 1.18404804e+00,\n",
       "        5.18106863e+00, 9.73082353e+01, 6.47988235e-03, 3.05298725e-02,\n",
       "        3.93776471e-02, 1.49034216e-02, 1.97483333e-02, 3.76090196e-03,\n",
       "        2.39446078e+01, 2.87336275e+01, 1.59623529e+02, 1.79388235e+03,\n",
       "        1.39144510e-01, 3.47639804e-01, 4.30093137e-01, 1.90537941e-01,\n",
       "        3.09416667e-01, 8.47370588e-02]])"
      ]
     },
     "execution_count": 20,
     "metadata": {},
     "output_type": "execute_result"
    }
   ],
   "source": [
    "from sklearn.cluster import KMeans\n",
    "\n",
    "kmeans = KMeans(n_clusters=2).fit(X_train)\n",
    "kmeans_parameter = KMeans(n_clusters=2, random_state=0,\n",
    "                          init=\"random\").fit(X_train)\n",
    "kmeans.cluster_centers_"
   ]
  },
  {
   "cell_type": "markdown",
   "metadata": {
    "id": "HevFLw2zx4xy"
   },
   "source": [
    "### 2. Save Model to Pickle"
   ]
  },
  {
   "cell_type": "code",
   "execution_count": 21,
   "metadata": {
    "id": "kLAv6UHSx4xy"
   },
   "outputs": [],
   "source": [
    "pickle.dump(kmeans, open('kMeans_learning.pkl', 'wb'))\n",
    "\n",
    "pickle.dump(kmeans_parameter, open('kMeans_learning_parameter.pkl', 'wb'))"
   ]
  },
  {
   "cell_type": "markdown",
   "metadata": {
    "id": "78RGs54ux4xy"
   },
   "source": [
    "### 3. Load Model from Pickle"
   ]
  },
  {
   "cell_type": "code",
   "execution_count": 22,
   "metadata": {
    "colab": {
     "base_uri": "https://localhost:8080/"
    },
    "id": "Lya7x0JVx4xy",
    "outputId": "68cfd0a9-2971-43f3-f3e3-74c7309daa74"
   },
   "outputs": [
    {
     "data": {
      "text/plain": [
       "array([0, 0, 0, 0, 0, 0, 0, 0, 0, 0, 0, 0, 0, 0, 0, 0, 0, 1, 1, 1, 0, 0,\n",
       "       0, 0, 1, 0, 0, 0, 0, 1, 0, 1, 0, 0, 0, 0, 0, 1, 0, 0, 0, 0, 0, 0,\n",
       "       0, 1, 0, 0, 0, 0, 1, 0, 1, 0, 0, 0, 0, 0, 0, 1, 0, 0, 0, 0, 1, 0,\n",
       "       1, 1, 1, 0, 0, 1, 0, 0, 1, 0, 0, 0, 0, 0, 0, 1, 1, 0, 0, 0, 0, 0,\n",
       "       1, 1, 0, 0, 0, 0, 0, 0, 1, 0, 0, 0, 0, 0, 0, 0, 1, 0, 1, 0, 0, 0,\n",
       "       0, 1, 1, 0])"
      ]
     },
     "execution_count": 22,
     "metadata": {},
     "output_type": "execute_result"
    }
   ],
   "source": [
    "kMeans_learning = pickle.load(open('kMeans_learning.pkl', 'rb'))\n",
    "y_pred_kMeans = kMeans_learning.predict(X_test)\n",
    "y_pred_kMeans"
   ]
  },
  {
   "cell_type": "code",
   "execution_count": 23,
   "metadata": {
    "colab": {
     "base_uri": "https://localhost:8080/"
    },
    "id": "_S_ld_NWx4xy",
    "outputId": "53528457-d3bc-4d62-d38a-85a801acfddb"
   },
   "outputs": [
    {
     "data": {
      "text/plain": [
       "array([0, 0, 0, 0, 0, 0, 0, 0, 0, 0, 0, 0, 0, 0, 0, 0, 0, 1, 1, 1, 0, 0,\n",
       "       0, 0, 1, 0, 0, 0, 0, 1, 0, 1, 0, 0, 0, 0, 0, 1, 0, 0, 0, 0, 0, 0,\n",
       "       0, 1, 0, 0, 0, 0, 1, 0, 1, 0, 0, 0, 0, 0, 0, 1, 0, 0, 0, 0, 1, 0,\n",
       "       1, 1, 1, 0, 0, 1, 0, 0, 1, 0, 0, 0, 0, 0, 0, 1, 1, 0, 0, 0, 0, 0,\n",
       "       1, 1, 0, 0, 0, 0, 0, 0, 1, 0, 0, 0, 0, 0, 0, 0, 1, 0, 1, 0, 0, 0,\n",
       "       0, 1, 1, 0])"
      ]
     },
     "execution_count": 23,
     "metadata": {},
     "output_type": "execute_result"
    }
   ],
   "source": [
    "kMeans_learning_parameter = pickle.load(open('kMeans_learning_parameter.pkl', 'rb'))\n",
    "y_pred_kMeans_parameter = kMeans_learning_parameter.predict(X_test)\n",
    "y_pred_kMeans_parameter"
   ]
  },
  {
   "cell_type": "markdown",
   "metadata": {
    "id": "FwkNuscSx4xy"
   },
   "source": [
    "### 4. Evaluate prediction result with metric analysis: Accuracy, Precision, Recall, F1, Confusion_Matrix"
   ]
  },
  {
   "cell_type": "markdown",
   "metadata": {
    "id": "Fp6NOzZex4xz"
   },
   "source": [
    "KMeans without Additional Parameter"
   ]
  },
  {
   "cell_type": "code",
   "execution_count": 24,
   "metadata": {
    "colab": {
     "base_uri": "https://localhost:8080/"
    },
    "id": "ciD3mO4gx4xz",
    "outputId": "c120453d-5d91-46df-adf7-aeba050a06ef"
   },
   "outputs": [
    {
     "name": "stdout",
     "output_type": "stream",
     "text": [
      "Accuracy score\t: 0.184211\n",
      "F1 Score\t: 0.128265\n",
      "Precision Score\t: 0.098385\n",
      "Recall Score\t: 0.184211\n"
     ]
    }
   ],
   "source": [
    "print(\"Accuracy score\\t: %f\" % sklearn.metrics.accuracy_score(y_test, y_pred_kMeans ))\n",
    "print(\"F1 Score\\t: %f\" % sklearn.metrics.f1_score(y_test, y_pred_kMeans ,average='weighted'))\n",
    "print(\"Precision Score\\t: %f\" %sklearn.metrics.precision_score(y_test, y_pred_kMeans ,average='weighted'))\n",
    "print(\"Recall Score\\t: %f\" %sklearn.metrics.recall_score(y_test, y_pred_kMeans ,average='weighted'))"
   ]
  },
  {
   "cell_type": "markdown",
   "metadata": {
    "id": "2RDie7yux4xz"
   },
   "source": [
    "KMeans with additional parameter"
   ]
  },
  {
   "cell_type": "code",
   "execution_count": 25,
   "metadata": {
    "colab": {
     "base_uri": "https://localhost:8080/"
    },
    "id": "djk7h0kwx4xz",
    "outputId": "023ca3a1-3931-47dd-cf6d-a05447fc8db1"
   },
   "outputs": [
    {
     "name": "stdout",
     "output_type": "stream",
     "text": [
      "Accuracy score\t: 0.184211\n",
      "F1 Score\t: 0.128265\n",
      "Precision Score\t: 0.098385\n",
      "Recall Score\t: 0.184211\n"
     ]
    }
   ],
   "source": [
    "print(\"Accuracy score\\t: %f\" % sklearn.metrics.accuracy_score(y_test, y_pred_kMeans_parameter ))\n",
    "print(\"F1 Score\\t: %f\" % sklearn.metrics.f1_score(y_test, y_pred_kMeans_parameter ,average='weighted'))\n",
    "print(\"Precision Score\\t: %f\" %sklearn.metrics.precision_score(y_test, y_pred_kMeans_parameter ,average='weighted'))\n",
    "print(\"Recall Score\\t: %f\" %sklearn.metrics.recall_score(y_test, y_pred_kMeans_parameter ,average='weighted'))"
   ]
  },
  {
   "cell_type": "markdown",
   "metadata": {
    "id": "aLOl730ix4xz"
   },
   "source": [
    "Dari hasil diatas diatas dapat dikatakan bahwa model yang dihasilkan dari hasil pembelajaran dengan 80% data breas_cancer tidak cocok untuk unseen data atau data test. Hasil yang didapatkan dari martiks diatas sekitar 20% akurasi untuk data test. Namun, jika dilakukan pemodelan lagi pada KMeans ada kemungkinan evaluasi matriks yang dihasilkan 80%. Dikarenakan pemilihan centroid pada KMeans dilakukan secara random.\n",
    "NOTE : Hasil dapat berubah jika program dijalankan ulang dikarenakan split data antara Traning dan Test dilakukan random."
   ]
  },
  {
   "cell_type": "markdown",
   "metadata": {
    "id": "JPlK6ENKx4xz"
   },
   "source": [
    "KMeans without Additional Parameter"
   ]
  },
  {
   "cell_type": "code",
   "execution_count": 26,
   "metadata": {
    "colab": {
     "base_uri": "https://localhost:8080/"
    },
    "id": "NevluluNx4xz",
    "outputId": "4ce86d89-1e65-4661-f2b1-003ebc4247d0"
   },
   "outputs": [
    {
     "name": "stdout",
     "output_type": "stream",
     "text": [
      "Confusion Matrix :\n"
     ]
    },
    {
     "data": {
      "text/plain": [
       "array([[21, 26],\n",
       "       [67,  0]], dtype=int64)"
      ]
     },
     "execution_count": 26,
     "metadata": {},
     "output_type": "execute_result"
    }
   ],
   "source": [
    "print(\"Confusion Matrix :\")\n",
    "sklearn.metrics.confusion_matrix(y_test, y_pred_kMeans )"
   ]
  },
  {
   "cell_type": "markdown",
   "metadata": {
    "id": "UhPE1FDyx4xz"
   },
   "source": [
    "KMeans with additional parameter"
   ]
  },
  {
   "cell_type": "code",
   "execution_count": 27,
   "metadata": {
    "colab": {
     "base_uri": "https://localhost:8080/"
    },
    "id": "G5K00Ri3x4xz",
    "outputId": "be8b235b-33bf-4bc7-9379-91c2ac2a7b2e"
   },
   "outputs": [
    {
     "name": "stdout",
     "output_type": "stream",
     "text": [
      "Confusion Matrix :\n"
     ]
    },
    {
     "data": {
      "text/plain": [
       "array([[21, 26],\n",
       "       [67,  0]], dtype=int64)"
      ]
     },
     "execution_count": 27,
     "metadata": {},
     "output_type": "execute_result"
    }
   ],
   "source": [
    "print(\"Confusion Matrix :\")\n",
    "sklearn.metrics.confusion_matrix(y_test, y_pred_kMeans_parameter )"
   ]
  },
  {
   "cell_type": "markdown",
   "metadata": {
    "id": "s5ecdp9Wx4x0"
   },
   "source": [
    "Dari hasil diatas diatas dapat dikatakan bahwa model yang dihasilkan dari hasil pembelajaran dengan 80% data breas_cancer menghasilkan 26 True Positif, 21 False Negative, 0 False Positif, dan 67 True Negatif\n",
    "NOTE : Hasil dapat berubah jika program dijalankan ulang dikarenakan split data antara Traning dan Test dilakukan random."
   ]
  },
  {
   "cell_type": "markdown",
   "metadata": {
    "id": "PzLTM4PWx4x0"
   },
   "source": [
    "## Logistic Regression"
   ]
  },
  {
   "cell_type": "markdown",
   "metadata": {
    "id": "B5TeNdUNx4x0"
   },
   "source": [
    "### 1. Learning with fit data training method"
   ]
  },
  {
   "cell_type": "code",
   "execution_count": 28,
   "metadata": {
    "colab": {
     "base_uri": "https://localhost:8080/"
    },
    "id": "hM_QBoQvx4x0",
    "outputId": "6686f0d2-aa95-4a8c-872e-6e7d875090bb"
   },
   "outputs": [
    {
     "data": {
      "text/html": [
       "<style>#sk-container-id-1 {color: black;background-color: white;}#sk-container-id-1 pre{padding: 0;}#sk-container-id-1 div.sk-toggleable {background-color: white;}#sk-container-id-1 label.sk-toggleable__label {cursor: pointer;display: block;width: 100%;margin-bottom: 0;padding: 0.3em;box-sizing: border-box;text-align: center;}#sk-container-id-1 label.sk-toggleable__label-arrow:before {content: \"▸\";float: left;margin-right: 0.25em;color: #696969;}#sk-container-id-1 label.sk-toggleable__label-arrow:hover:before {color: black;}#sk-container-id-1 div.sk-estimator:hover label.sk-toggleable__label-arrow:before {color: black;}#sk-container-id-1 div.sk-toggleable__content {max-height: 0;max-width: 0;overflow: hidden;text-align: left;background-color: #f0f8ff;}#sk-container-id-1 div.sk-toggleable__content pre {margin: 0.2em;color: black;border-radius: 0.25em;background-color: #f0f8ff;}#sk-container-id-1 input.sk-toggleable__control:checked~div.sk-toggleable__content {max-height: 200px;max-width: 100%;overflow: auto;}#sk-container-id-1 input.sk-toggleable__control:checked~label.sk-toggleable__label-arrow:before {content: \"▾\";}#sk-container-id-1 div.sk-estimator input.sk-toggleable__control:checked~label.sk-toggleable__label {background-color: #d4ebff;}#sk-container-id-1 div.sk-label input.sk-toggleable__control:checked~label.sk-toggleable__label {background-color: #d4ebff;}#sk-container-id-1 input.sk-hidden--visually {border: 0;clip: rect(1px 1px 1px 1px);clip: rect(1px, 1px, 1px, 1px);height: 1px;margin: -1px;overflow: hidden;padding: 0;position: absolute;width: 1px;}#sk-container-id-1 div.sk-estimator {font-family: monospace;background-color: #f0f8ff;border: 1px dotted black;border-radius: 0.25em;box-sizing: border-box;margin-bottom: 0.5em;}#sk-container-id-1 div.sk-estimator:hover {background-color: #d4ebff;}#sk-container-id-1 div.sk-parallel-item::after {content: \"\";width: 100%;border-bottom: 1px solid gray;flex-grow: 1;}#sk-container-id-1 div.sk-label:hover label.sk-toggleable__label {background-color: #d4ebff;}#sk-container-id-1 div.sk-serial::before {content: \"\";position: absolute;border-left: 1px solid gray;box-sizing: border-box;top: 0;bottom: 0;left: 50%;z-index: 0;}#sk-container-id-1 div.sk-serial {display: flex;flex-direction: column;align-items: center;background-color: white;padding-right: 0.2em;padding-left: 0.2em;position: relative;}#sk-container-id-1 div.sk-item {position: relative;z-index: 1;}#sk-container-id-1 div.sk-parallel {display: flex;align-items: stretch;justify-content: center;background-color: white;position: relative;}#sk-container-id-1 div.sk-item::before, #sk-container-id-1 div.sk-parallel-item::before {content: \"\";position: absolute;border-left: 1px solid gray;box-sizing: border-box;top: 0;bottom: 0;left: 50%;z-index: -1;}#sk-container-id-1 div.sk-parallel-item {display: flex;flex-direction: column;z-index: 1;position: relative;background-color: white;}#sk-container-id-1 div.sk-parallel-item:first-child::after {align-self: flex-end;width: 50%;}#sk-container-id-1 div.sk-parallel-item:last-child::after {align-self: flex-start;width: 50%;}#sk-container-id-1 div.sk-parallel-item:only-child::after {width: 0;}#sk-container-id-1 div.sk-dashed-wrapped {border: 1px dashed gray;margin: 0 0.4em 0.5em 0.4em;box-sizing: border-box;padding-bottom: 0.4em;background-color: white;}#sk-container-id-1 div.sk-label label {font-family: monospace;font-weight: bold;display: inline-block;line-height: 1.2em;}#sk-container-id-1 div.sk-label-container {text-align: center;}#sk-container-id-1 div.sk-container {/* jupyter's `normalize.less` sets `[hidden] { display: none; }` but bootstrap.min.css set `[hidden] { display: none !important; }` so we also need the `!important` here to be able to override the default hidden behavior on the sphinx rendered scikit-learn.org. See: https://github.com/scikit-learn/scikit-learn/issues/21755 */display: inline-block !important;position: relative;}#sk-container-id-1 div.sk-text-repr-fallback {display: none;}</style><div id=\"sk-container-id-1\" class=\"sk-top-container\"><div class=\"sk-text-repr-fallback\"><pre>LogisticRegression(max_iter=10000, random_state=0, solver=&#x27;liblinear&#x27;)</pre><b>In a Jupyter environment, please rerun this cell to show the HTML representation or trust the notebook. <br />On GitHub, the HTML representation is unable to render, please try loading this page with nbviewer.org.</b></div><div class=\"sk-container\" hidden><div class=\"sk-item\"><div class=\"sk-estimator sk-toggleable\"><input class=\"sk-toggleable__control sk-hidden--visually\" id=\"sk-estimator-id-1\" type=\"checkbox\" checked><label for=\"sk-estimator-id-1\" class=\"sk-toggleable__label sk-toggleable__label-arrow\">LogisticRegression</label><div class=\"sk-toggleable__content\"><pre>LogisticRegression(max_iter=10000, random_state=0, solver=&#x27;liblinear&#x27;)</pre></div></div></div></div></div>"
      ],
      "text/plain": [
       "LogisticRegression(max_iter=10000, random_state=0, solver='liblinear')"
      ]
     },
     "execution_count": 28,
     "metadata": {},
     "output_type": "execute_result"
    }
   ],
   "source": [
    "# Data training without additional parameter\n",
    "logistic_regression = sklearn.linear_model.LogisticRegression(random_state=0, max_iter=10000)\n",
    "logistic_regression.fit(X_train, y_train)\n",
    "\n",
    "# Data training with additional parameter\n",
    "logistic_regression_parameter = sklearn.linear_model.LogisticRegression(random_state=0, max_iter=10000, solver='liblinear')\n",
    "logistic_regression_parameter.fit(X_train, y_train)"
   ]
  },
  {
   "cell_type": "markdown",
   "metadata": {
    "id": "Ml2p2VNqx4x0"
   },
   "source": [
    "### 2. Save Model to Pickle"
   ]
  },
  {
   "cell_type": "code",
   "execution_count": 29,
   "metadata": {
    "id": "5HruWRL4x4x0"
   },
   "outputs": [],
   "source": [
    "# save model without additional parameter\n",
    "with open(\"modelLogisticRegression.pkl\", \"wb\") as f:\n",
    "    pickle.dump(logistic_regression, f)\n",
    "\n",
    "# save model with additional parameter\n",
    "with open(\"modelLogisticRegressionParameter.pkl\", \"wb\") as f:\n",
    "    pickle.dump(logistic_regression_parameter, f)"
   ]
  },
  {
   "cell_type": "markdown",
   "metadata": {
    "id": "_MzjKrlqx4x0"
   },
   "source": [
    "### 3. Load Model from Pickle"
   ]
  },
  {
   "cell_type": "code",
   "execution_count": 30,
   "metadata": {
    "colab": {
     "base_uri": "https://localhost:8080/"
    },
    "id": "lO86wsNWx4x0",
    "outputId": "0d905b29-153f-43db-b8a7-e151c1d2ec87"
   },
   "outputs": [
    {
     "data": {
      "text/plain": [
       "array([0, 1, 1, 1, 1, 1, 1, 1, 1, 1, 0, 1, 1, 0, 1, 0, 1, 0, 0, 0, 0, 0,\n",
       "       1, 1, 0, 1, 1, 0, 1, 0, 1, 0, 1, 0, 1, 0, 1, 0, 1, 0, 0, 1, 0, 1,\n",
       "       0, 0, 1, 1, 1, 0, 0, 0, 0, 1, 1, 1, 1, 1, 1, 0, 0, 0, 1, 1, 0, 1,\n",
       "       0, 0, 0, 1, 0, 0, 1, 1, 0, 1, 1, 1, 1, 1, 0, 0, 0, 1, 0, 1, 1, 1,\n",
       "       0, 0, 1, 0, 0, 0, 1, 1, 0, 1, 1, 1, 1, 1, 1, 1, 0, 1, 0, 1, 0, 0,\n",
       "       1, 0, 0, 1])"
      ]
     },
     "execution_count": 30,
     "metadata": {},
     "output_type": "execute_result"
    }
   ],
   "source": [
    "# load model\n",
    "with open(\"modelLogisticRegression.pkl\", \"rb\") as f:\n",
    "    model_load_logreg = pickle.load(f)\n",
    "\n",
    "# predict data test dari load model\n",
    "model_load_logreg.predict(X_test)"
   ]
  },
  {
   "cell_type": "code",
   "execution_count": 31,
   "metadata": {
    "colab": {
     "base_uri": "https://localhost:8080/"
    },
    "id": "jolf3tbqx4x0",
    "outputId": "90647173-1d84-42ff-9326-a4ece20822ed"
   },
   "outputs": [
    {
     "data": {
      "text/plain": [
       "array([0, 1, 1, 1, 1, 1, 1, 1, 1, 1, 1, 1, 1, 0, 1, 0, 1, 0, 0, 0, 0, 0,\n",
       "       1, 1, 0, 1, 1, 0, 1, 0, 1, 0, 1, 0, 1, 0, 1, 0, 1, 0, 0, 1, 0, 1,\n",
       "       0, 0, 1, 1, 1, 0, 0, 0, 0, 1, 1, 1, 1, 1, 1, 0, 0, 0, 1, 1, 0, 1,\n",
       "       0, 0, 0, 1, 0, 0, 1, 1, 0, 1, 1, 1, 1, 1, 0, 0, 0, 1, 0, 1, 1, 1,\n",
       "       0, 0, 1, 0, 0, 0, 1, 1, 0, 1, 1, 1, 1, 1, 1, 1, 0, 1, 0, 1, 0, 0,\n",
       "       1, 0, 0, 1])"
      ]
     },
     "execution_count": 31,
     "metadata": {},
     "output_type": "execute_result"
    }
   ],
   "source": [
    "# load model with additional parameter\n",
    "with open(\"modelLogisticRegressionParameter.pkl\", \"rb\") as f:\n",
    "    model_load_logistic_regression_parameter = pickle.load(f)\n",
    "\n",
    "# predict data test with additional parameter\n",
    "model_load_logistic_regression_parameter.predict(X_test)"
   ]
  },
  {
   "cell_type": "markdown",
   "metadata": {
    "id": "D-HaucQEx4x0"
   },
   "source": [
    "### 4. Evaluate prediction result with metric analysis: Accuracy, Precision, Recall, F1, Confusion_Matrix"
   ]
  },
  {
   "cell_type": "markdown",
   "metadata": {
    "id": "ngacIAZjx4x0"
   },
   "source": [
    "Logistic Regression without Additional parameter"
   ]
  },
  {
   "cell_type": "code",
   "execution_count": 32,
   "metadata": {
    "colab": {
     "base_uri": "https://localhost:8080/"
    },
    "id": "VsFw9Ugrx4x1",
    "outputId": "2af630b9-3e30-46df-b3f6-693f493c7dc2"
   },
   "outputs": [
    {
     "name": "stdout",
     "output_type": "stream",
     "text": [
      "Accuracy score\t: 0.947368\n",
      "F1 Score\t: 0.946311\n",
      "Precision Score\t: 0.943044\n",
      "Recall Score\t: 0.952048\n",
      "Confusion matrix dari model: \n",
      " [[46  1]\n",
      " [ 5 62]]\n"
     ]
    }
   ],
   "source": [
    "print(\"Accuracy score\\t: %f\" % sklearn.metrics.accuracy_score(y_test, logistic_regression.predict(X_test)))\n",
    "print(\"F1 Score\\t: %f\" % sklearn.metrics.f1_score(y_test, logistic_regression.predict(X_test), average='macro'))\n",
    "print(\"Precision Score\\t: %f\" % sklearn.metrics.precision_score(y_test, logistic_regression.predict(X_test), average='macro'))\n",
    "print(\"Recall Score\\t: %f\" % sklearn.metrics.recall_score(y_test, logistic_regression.predict(X_test), average='macro'))\n",
    "print(\"Confusion matrix dari model: \\n\", sklearn.metrics.confusion_matrix(y_test, logistic_regression.predict(X_test)))"
   ]
  },
  {
   "cell_type": "markdown",
   "metadata": {
    "id": "F2DpEYl0x4x1"
   },
   "source": [
    "Logistic Regression with Additional parameter "
   ]
  },
  {
   "cell_type": "code",
   "execution_count": 33,
   "metadata": {
    "colab": {
     "base_uri": "https://localhost:8080/"
    },
    "id": "d01AhlBsx4x2",
    "outputId": "9bf23010-64b1-4c72-c835-9aaf29ea2d01"
   },
   "outputs": [
    {
     "name": "stdout",
     "output_type": "stream",
     "text": [
      "Accuracy score\t: 0.956140\n",
      "F1 Score\t: 0.955143\n",
      "Precision Score\t: 0.952187\n",
      "Recall Score\t: 0.959511\n",
      "Confusion matrix dari model: \n",
      " [[46  1]\n",
      " [ 4 63]]\n"
     ]
    }
   ],
   "source": [
    "print(\"Accuracy score\\t: %f\" % sklearn.metrics.accuracy_score(y_test, logistic_regression_parameter.predict(X_test)))\n",
    "print(\"F1 Score\\t: %f\" % sklearn.metrics.f1_score(y_test, logistic_regression_parameter.predict(X_test), average='macro'))\n",
    "print(\"Precision Score\\t: %f\" % sklearn.metrics.precision_score(y_test, logistic_regression_parameter.predict(X_test), average='macro'))\n",
    "print(\"Recall Score\\t: %f\" % sklearn.metrics.recall_score(y_test, logistic_regression_parameter.predict(X_test), average='macro'))\n",
    "print(\"Confusion matrix dari model: \\n\", sklearn.metrics.confusion_matrix(y_test, logistic_regression_parameter.predict(X_test)))"
   ]
  },
  {
   "cell_type": "markdown",
   "metadata": {
    "id": "IF7Umscsx4x3"
   },
   "source": [
    "### Analisis - Logistic Regression\n",
    "Algoritma kali ini bekerja dengan cukup baik dengan akurasi mencapai 94-95%. Perbedaan tersebut dapat dilihat terjadi karena adanya perbedaan paramter solver pada logistic regression. Peningkatan kecil itu didapatkan ketika menggunakan solver \"liblinear\", hal ini dikarenakan solver default untuk algoritma ini adalah \"lbfgs\" dan solver tersebut ternyata baik digunakan untuk multiclass problem. Sedangkan \"libliniear\" lebih optimal digunakan untuk dataset dengan ukuran yang tidak terlalu besar."
   ]
  },
  {
   "cell_type": "markdown",
   "metadata": {
    "id": "QLGJBiE2x4x3"
   },
   "source": [
    "## Neural Network"
   ]
  },
  {
   "cell_type": "markdown",
   "metadata": {
    "id": "ATTpioQMx4x3"
   },
   "source": [
    "### 1. Learning with fit data training method"
   ]
  },
  {
   "cell_type": "code",
   "execution_count": 34,
   "metadata": {
    "colab": {
     "base_uri": "https://localhost:8080/"
    },
    "id": "ycAq2AfEx4x3",
    "outputId": "4204e617-5caa-40b1-fd30-49b6e69a92d8"
   },
   "outputs": [
    {
     "data": {
      "text/html": [
       "<style>#sk-container-id-2 {color: black;background-color: white;}#sk-container-id-2 pre{padding: 0;}#sk-container-id-2 div.sk-toggleable {background-color: white;}#sk-container-id-2 label.sk-toggleable__label {cursor: pointer;display: block;width: 100%;margin-bottom: 0;padding: 0.3em;box-sizing: border-box;text-align: center;}#sk-container-id-2 label.sk-toggleable__label-arrow:before {content: \"▸\";float: left;margin-right: 0.25em;color: #696969;}#sk-container-id-2 label.sk-toggleable__label-arrow:hover:before {color: black;}#sk-container-id-2 div.sk-estimator:hover label.sk-toggleable__label-arrow:before {color: black;}#sk-container-id-2 div.sk-toggleable__content {max-height: 0;max-width: 0;overflow: hidden;text-align: left;background-color: #f0f8ff;}#sk-container-id-2 div.sk-toggleable__content pre {margin: 0.2em;color: black;border-radius: 0.25em;background-color: #f0f8ff;}#sk-container-id-2 input.sk-toggleable__control:checked~div.sk-toggleable__content {max-height: 200px;max-width: 100%;overflow: auto;}#sk-container-id-2 input.sk-toggleable__control:checked~label.sk-toggleable__label-arrow:before {content: \"▾\";}#sk-container-id-2 div.sk-estimator input.sk-toggleable__control:checked~label.sk-toggleable__label {background-color: #d4ebff;}#sk-container-id-2 div.sk-label input.sk-toggleable__control:checked~label.sk-toggleable__label {background-color: #d4ebff;}#sk-container-id-2 input.sk-hidden--visually {border: 0;clip: rect(1px 1px 1px 1px);clip: rect(1px, 1px, 1px, 1px);height: 1px;margin: -1px;overflow: hidden;padding: 0;position: absolute;width: 1px;}#sk-container-id-2 div.sk-estimator {font-family: monospace;background-color: #f0f8ff;border: 1px dotted black;border-radius: 0.25em;box-sizing: border-box;margin-bottom: 0.5em;}#sk-container-id-2 div.sk-estimator:hover {background-color: #d4ebff;}#sk-container-id-2 div.sk-parallel-item::after {content: \"\";width: 100%;border-bottom: 1px solid gray;flex-grow: 1;}#sk-container-id-2 div.sk-label:hover label.sk-toggleable__label {background-color: #d4ebff;}#sk-container-id-2 div.sk-serial::before {content: \"\";position: absolute;border-left: 1px solid gray;box-sizing: border-box;top: 0;bottom: 0;left: 50%;z-index: 0;}#sk-container-id-2 div.sk-serial {display: flex;flex-direction: column;align-items: center;background-color: white;padding-right: 0.2em;padding-left: 0.2em;position: relative;}#sk-container-id-2 div.sk-item {position: relative;z-index: 1;}#sk-container-id-2 div.sk-parallel {display: flex;align-items: stretch;justify-content: center;background-color: white;position: relative;}#sk-container-id-2 div.sk-item::before, #sk-container-id-2 div.sk-parallel-item::before {content: \"\";position: absolute;border-left: 1px solid gray;box-sizing: border-box;top: 0;bottom: 0;left: 50%;z-index: -1;}#sk-container-id-2 div.sk-parallel-item {display: flex;flex-direction: column;z-index: 1;position: relative;background-color: white;}#sk-container-id-2 div.sk-parallel-item:first-child::after {align-self: flex-end;width: 50%;}#sk-container-id-2 div.sk-parallel-item:last-child::after {align-self: flex-start;width: 50%;}#sk-container-id-2 div.sk-parallel-item:only-child::after {width: 0;}#sk-container-id-2 div.sk-dashed-wrapped {border: 1px dashed gray;margin: 0 0.4em 0.5em 0.4em;box-sizing: border-box;padding-bottom: 0.4em;background-color: white;}#sk-container-id-2 div.sk-label label {font-family: monospace;font-weight: bold;display: inline-block;line-height: 1.2em;}#sk-container-id-2 div.sk-label-container {text-align: center;}#sk-container-id-2 div.sk-container {/* jupyter's `normalize.less` sets `[hidden] { display: none; }` but bootstrap.min.css set `[hidden] { display: none !important; }` so we also need the `!important` here to be able to override the default hidden behavior on the sphinx rendered scikit-learn.org. See: https://github.com/scikit-learn/scikit-learn/issues/21755 */display: inline-block !important;position: relative;}#sk-container-id-2 div.sk-text-repr-fallback {display: none;}</style><div id=\"sk-container-id-2\" class=\"sk-top-container\"><div class=\"sk-text-repr-fallback\"><pre>MLPClassifier(alpha=1e-05, hidden_layer_sizes=(5, 2), max_iter=300,\n",
       "              random_state=1, solver=&#x27;lbfgs&#x27;)</pre><b>In a Jupyter environment, please rerun this cell to show the HTML representation or trust the notebook. <br />On GitHub, the HTML representation is unable to render, please try loading this page with nbviewer.org.</b></div><div class=\"sk-container\" hidden><div class=\"sk-item\"><div class=\"sk-estimator sk-toggleable\"><input class=\"sk-toggleable__control sk-hidden--visually\" id=\"sk-estimator-id-2\" type=\"checkbox\" checked><label for=\"sk-estimator-id-2\" class=\"sk-toggleable__label sk-toggleable__label-arrow\">MLPClassifier</label><div class=\"sk-toggleable__content\"><pre>MLPClassifier(alpha=1e-05, hidden_layer_sizes=(5, 2), max_iter=300,\n",
       "              random_state=1, solver=&#x27;lbfgs&#x27;)</pre></div></div></div></div></div>"
      ],
      "text/plain": [
       "MLPClassifier(alpha=1e-05, hidden_layer_sizes=(5, 2), max_iter=300,\n",
       "              random_state=1, solver='lbfgs')"
      ]
     },
     "execution_count": 34,
     "metadata": {},
     "output_type": "execute_result"
    }
   ],
   "source": [
    "from sklearn.neural_network import MLPClassifier\n",
    "\n",
    "neural_network = MLPClassifier(random_state=1, max_iter=300).fit(X_train, y_train)\n",
    "neural_network.fit(X_train, y_train)\n",
    "neural_network_parameter = MLPClassifier(max_iter=300, solver='lbfgs', alpha=1e-5, hidden_layer_sizes=(5, 2), random_state=1)\n",
    "neural_network_parameter.fit(X_train, y_train)"
   ]
  },
  {
   "cell_type": "markdown",
   "metadata": {
    "id": "prkZ5b5xx4x3"
   },
   "source": [
    "### 2. Save Model to Pickle"
   ]
  },
  {
   "cell_type": "code",
   "execution_count": 35,
   "metadata": {
    "id": "ljojowuEx4x3"
   },
   "outputs": [],
   "source": [
    "pickle.dump(neural_network, open('neural_network_learning.pkl', 'wb'))\n",
    "pickle.dump(neural_network_parameter, open('neural_network_learning_parameter.pkl', 'wb'))"
   ]
  },
  {
   "cell_type": "markdown",
   "metadata": {
    "id": "10oj0j6Yx4x3"
   },
   "source": [
    "### 3. Load Model from Pickle"
   ]
  },
  {
   "cell_type": "code",
   "execution_count": 36,
   "metadata": {
    "colab": {
     "base_uri": "https://localhost:8080/"
    },
    "id": "3cTnxwHix4x3",
    "outputId": "ce7318c1-282e-44d9-f248-281c3e4d719d"
   },
   "outputs": [
    {
     "data": {
      "text/plain": [
       "array([0, 1, 1, 1, 1, 1, 1, 1, 1, 1, 1, 1, 1, 1, 1, 0, 1, 0, 0, 0, 0, 1,\n",
       "       1, 1, 0, 1, 1, 1, 1, 0, 1, 0, 1, 0, 1, 0, 1, 0, 1, 0, 1, 1, 0, 1,\n",
       "       1, 0, 1, 1, 1, 0, 0, 1, 0, 1, 1, 1, 1, 1, 1, 0, 1, 0, 1, 1, 0, 1,\n",
       "       0, 0, 0, 1, 1, 0, 1, 1, 0, 1, 1, 1, 1, 1, 1, 0, 0, 1, 0, 1, 1, 1,\n",
       "       0, 0, 1, 0, 1, 1, 1, 1, 0, 1, 1, 1, 1, 1, 1, 1, 0, 1, 0, 1, 1, 1,\n",
       "       1, 0, 0, 1])"
      ]
     },
     "execution_count": 36,
     "metadata": {},
     "output_type": "execute_result"
    }
   ],
   "source": [
    "neural_network_learning = pickle.load(open('neural_network_learning.pkl', 'rb'))\n",
    "y_pred_neural_network = neural_network_learning.predict(X_test)\n",
    "y_pred_neural_network"
   ]
  },
  {
   "cell_type": "code",
   "execution_count": 37,
   "metadata": {
    "colab": {
     "base_uri": "https://localhost:8080/"
    },
    "id": "bEJCh1m5x4x3",
    "outputId": "0fbc5414-cccd-4047-c16e-7330f7ebcb00"
   },
   "outputs": [
    {
     "data": {
      "text/plain": [
       "array([0, 1, 1, 1, 1, 1, 1, 1, 1, 1, 1, 1, 1, 0, 1, 0, 1, 0, 0, 0, 0, 0,\n",
       "       1, 1, 0, 1, 1, 1, 1, 0, 1, 0, 1, 0, 1, 0, 1, 0, 1, 0, 0, 1, 0, 1,\n",
       "       0, 0, 1, 1, 1, 0, 0, 1, 0, 1, 1, 1, 1, 1, 1, 0, 0, 0, 1, 1, 0, 1,\n",
       "       0, 0, 0, 1, 0, 0, 1, 1, 0, 1, 1, 1, 1, 1, 0, 0, 0, 1, 1, 1, 1, 1,\n",
       "       0, 0, 1, 0, 0, 0, 1, 1, 0, 1, 1, 1, 1, 1, 1, 1, 0, 1, 0, 0, 0, 0,\n",
       "       1, 0, 0, 1])"
      ]
     },
     "execution_count": 37,
     "metadata": {},
     "output_type": "execute_result"
    }
   ],
   "source": [
    "neural_network_learning_parameter = pickle.load(open('neural_network_learning_parameter.pkl', 'rb'))\n",
    "y_pred_neural_network_parameter = neural_network_learning_parameter.predict(X_test)\n",
    "y_pred_neural_network_parameter"
   ]
  },
  {
   "cell_type": "markdown",
   "metadata": {
    "id": "n6E5z-v5x4x3"
   },
   "source": [
    "### 4. Evaluate prediction result with metric analysis: Accuracy, Precision, Recall, F1, Confusion_Matrix"
   ]
  },
  {
   "cell_type": "markdown",
   "metadata": {
    "id": "W-JzwDeix4x4"
   },
   "source": [
    "### Neural Network without Additional parameter"
   ]
  },
  {
   "cell_type": "code",
   "execution_count": 38,
   "metadata": {
    "colab": {
     "base_uri": "https://localhost:8080/"
    },
    "id": "Bg5YQfWtx4x4",
    "outputId": "392595a7-c186-480b-878b-99f85042cfce"
   },
   "outputs": [
    {
     "name": "stdout",
     "output_type": "stream",
     "text": [
      "Accuracy score\t: 0.912281\n",
      "F1 Score\t: 0.910105\n",
      "Precision Score\t: 0.923673\n",
      "Recall Score\t: 0.912281\n"
     ]
    }
   ],
   "source": [
    "print(\"Accuracy score\\t: %f\" % sklearn.metrics.accuracy_score(y_test, y_pred_neural_network ))\n",
    "print(\"F1 Score\\t: %f\" % sklearn.metrics.f1_score(y_test, y_pred_neural_network ,average='weighted'))\n",
    "print(\"Precision Score\\t: %f\" %sklearn.metrics.precision_score(y_test, y_pred_neural_network ,average='weighted'))\n",
    "print(\"Recall Score\\t: %f\" %sklearn.metrics.recall_score(y_test, y_pred_neural_network ,average='weighted'))"
   ]
  },
  {
   "cell_type": "markdown",
   "metadata": {
    "id": "Khj6XlD_x4x4"
   },
   "source": [
    "### Neural Network with Additional parameter"
   ]
  },
  {
   "cell_type": "code",
   "execution_count": 39,
   "metadata": {
    "colab": {
     "base_uri": "https://localhost:8080/"
    },
    "id": "iDZJimJbx4x4",
    "outputId": "48b7e9ea-8a2c-4373-e8ca-b6b3b4ccaa80"
   },
   "outputs": [
    {
     "name": "stdout",
     "output_type": "stream",
     "text": [
      "Accuracy score\t: 0.921053\n",
      "F1 Score\t: 0.921171\n",
      "Precision Score\t: 0.921435\n",
      "Recall Score\t: 0.921053\n"
     ]
    }
   ],
   "source": [
    "print(\"Accuracy score\\t: %f\" % sklearn.metrics.accuracy_score(y_test, neural_network_parameter.predict(X_test) ))\n",
    "print(\"F1 Score\\t: %f\" % sklearn.metrics.f1_score(y_test, neural_network_parameter.predict(X_test) ,average='weighted'))\n",
    "print(\"Precision Score\\t: %f\" %sklearn.metrics.precision_score(y_test, neural_network_parameter.predict(X_test) ,average='weighted'))\n",
    "print(\"Recall Score\\t: %f\" %sklearn.metrics.recall_score(y_test, neural_network_parameter.predict(X_test) ,average='weighted'))"
   ]
  },
  {
   "cell_type": "markdown",
   "metadata": {
    "id": "la4rBA4Xx4x4"
   },
   "source": [
    "Dari hasil diatas diatas dapat dikatakan bahwa model yang dihasilkan dari hasil pembelajaran dengan 80% data breas_cancer sudah baik untuk unseen data atau data test. Hasil yang didapatkan dari martiks diatas sekitar 90% akurasi untuk data test\n",
    "NOTE : Hasil dapat berubah jika program dijalankan ulang dikarenakan split data antara Traning dan Test dilakukan random."
   ]
  },
  {
   "cell_type": "markdown",
   "metadata": {
    "id": "CBJqPC8nx4x4"
   },
   "source": [
    "### Neural Network without Additional parameter"
   ]
  },
  {
   "cell_type": "code",
   "execution_count": 40,
   "metadata": {
    "colab": {
     "base_uri": "https://localhost:8080/"
    },
    "id": "qyU9mPutx4x4",
    "outputId": "20dbb07e-e922-4363-e4b8-d0d8f54bbd30"
   },
   "outputs": [
    {
     "name": "stdout",
     "output_type": "stream",
     "text": [
      "Confusion Matrix :\n"
     ]
    },
    {
     "data": {
      "text/plain": [
       "array([[37, 10],\n",
       "       [ 0, 67]], dtype=int64)"
      ]
     },
     "execution_count": 40,
     "metadata": {},
     "output_type": "execute_result"
    }
   ],
   "source": [
    "print(\"Confusion Matrix :\")\n",
    "sklearn.metrics.confusion_matrix(y_test, y_pred_neural_network )"
   ]
  },
  {
   "cell_type": "markdown",
   "metadata": {
    "id": "pwvFGym2x4x4"
   },
   "source": [
    "### Neural Network with Additional parameter"
   ]
  },
  {
   "cell_type": "code",
   "execution_count": 41,
   "metadata": {
    "colab": {
     "base_uri": "https://localhost:8080/"
    },
    "id": "Mw1JoxwNx4x4",
    "outputId": "79aef00b-901a-4a3c-c310-d7ea1412b5c2"
   },
   "outputs": [
    {
     "name": "stdout",
     "output_type": "stream",
     "text": [
      "Confusion Matrix :\n"
     ]
    },
    {
     "data": {
      "text/plain": [
       "array([[43,  4],\n",
       "       [ 5, 62]], dtype=int64)"
      ]
     },
     "execution_count": 41,
     "metadata": {},
     "output_type": "execute_result"
    }
   ],
   "source": [
    "print(\"Confusion Matrix :\")\n",
    "sklearn.metrics.confusion_matrix(y_test, neural_network_parameter.predict(X_test))"
   ]
  },
  {
   "cell_type": "markdown",
   "metadata": {
    "id": "vQHdwaIVx4x5"
   },
   "source": [
    "Dari hasil diatas diatas dapat dikatakan bahwa model yang dihasilkan dari hasil pembelajaran dengan 80% data breas_cancer menghasilkan 37 True Positif, 10 False Negative, 0 False Positif, dan 67 True Negatif\n",
    "NOTE : Hasil dapat berubah jika program dijalankan ulang dikarenakan split data antara Traning dan Test dilakukan random."
   ]
  },
  {
   "cell_type": "markdown",
   "metadata": {
    "id": "XIguwnFGx4x5"
   },
   "source": [
    "### Analisis - Neural Network\n",
    "Dari hasil di atas algoritma neural network untuk prediksi kasus breast cancer bekerja cukup baik dengan akurasi 92%, walaupun turun jika ditambahkan parameter solver dengan nilai \"sgd\" atau stochastic gradient descent. Adapun solver default yang digunakan dalam algoritma ini ialah \"adam\" yang berbasis solver \"sgd\", tetapi solver \"adam\" telah dioptimasi sehingga dalam melakukan weight optimization dapat bekerja dengan lebih akurat. Hal tersebutlah yang menyebabkan tingkat akurasinya lebih baik jika dibandingkan dengan \"sgd\" normalnya."
   ]
  },
  {
   "cell_type": "markdown",
   "metadata": {
    "id": "N3jcyltRx4x5"
   },
   "source": [
    "## SVM"
   ]
  },
  {
   "cell_type": "markdown",
   "metadata": {
    "id": "MB0Y2BI1x4x5"
   },
   "source": [
    "### 1. Learning with fit data training method"
   ]
  },
  {
   "cell_type": "code",
   "execution_count": 42,
   "metadata": {
    "colab": {
     "base_uri": "https://localhost:8080/"
    },
    "id": "nVu5U4-Sx4x5",
    "outputId": "ab012deb-6da3-4bc0-f13b-ffa59d3e6c76"
   },
   "outputs": [
    {
     "data": {
      "text/html": [
       "<style>#sk-container-id-3 {color: black;background-color: white;}#sk-container-id-3 pre{padding: 0;}#sk-container-id-3 div.sk-toggleable {background-color: white;}#sk-container-id-3 label.sk-toggleable__label {cursor: pointer;display: block;width: 100%;margin-bottom: 0;padding: 0.3em;box-sizing: border-box;text-align: center;}#sk-container-id-3 label.sk-toggleable__label-arrow:before {content: \"▸\";float: left;margin-right: 0.25em;color: #696969;}#sk-container-id-3 label.sk-toggleable__label-arrow:hover:before {color: black;}#sk-container-id-3 div.sk-estimator:hover label.sk-toggleable__label-arrow:before {color: black;}#sk-container-id-3 div.sk-toggleable__content {max-height: 0;max-width: 0;overflow: hidden;text-align: left;background-color: #f0f8ff;}#sk-container-id-3 div.sk-toggleable__content pre {margin: 0.2em;color: black;border-radius: 0.25em;background-color: #f0f8ff;}#sk-container-id-3 input.sk-toggleable__control:checked~div.sk-toggleable__content {max-height: 200px;max-width: 100%;overflow: auto;}#sk-container-id-3 input.sk-toggleable__control:checked~label.sk-toggleable__label-arrow:before {content: \"▾\";}#sk-container-id-3 div.sk-estimator input.sk-toggleable__control:checked~label.sk-toggleable__label {background-color: #d4ebff;}#sk-container-id-3 div.sk-label input.sk-toggleable__control:checked~label.sk-toggleable__label {background-color: #d4ebff;}#sk-container-id-3 input.sk-hidden--visually {border: 0;clip: rect(1px 1px 1px 1px);clip: rect(1px, 1px, 1px, 1px);height: 1px;margin: -1px;overflow: hidden;padding: 0;position: absolute;width: 1px;}#sk-container-id-3 div.sk-estimator {font-family: monospace;background-color: #f0f8ff;border: 1px dotted black;border-radius: 0.25em;box-sizing: border-box;margin-bottom: 0.5em;}#sk-container-id-3 div.sk-estimator:hover {background-color: #d4ebff;}#sk-container-id-3 div.sk-parallel-item::after {content: \"\";width: 100%;border-bottom: 1px solid gray;flex-grow: 1;}#sk-container-id-3 div.sk-label:hover label.sk-toggleable__label {background-color: #d4ebff;}#sk-container-id-3 div.sk-serial::before {content: \"\";position: absolute;border-left: 1px solid gray;box-sizing: border-box;top: 0;bottom: 0;left: 50%;z-index: 0;}#sk-container-id-3 div.sk-serial {display: flex;flex-direction: column;align-items: center;background-color: white;padding-right: 0.2em;padding-left: 0.2em;position: relative;}#sk-container-id-3 div.sk-item {position: relative;z-index: 1;}#sk-container-id-3 div.sk-parallel {display: flex;align-items: stretch;justify-content: center;background-color: white;position: relative;}#sk-container-id-3 div.sk-item::before, #sk-container-id-3 div.sk-parallel-item::before {content: \"\";position: absolute;border-left: 1px solid gray;box-sizing: border-box;top: 0;bottom: 0;left: 50%;z-index: -1;}#sk-container-id-3 div.sk-parallel-item {display: flex;flex-direction: column;z-index: 1;position: relative;background-color: white;}#sk-container-id-3 div.sk-parallel-item:first-child::after {align-self: flex-end;width: 50%;}#sk-container-id-3 div.sk-parallel-item:last-child::after {align-self: flex-start;width: 50%;}#sk-container-id-3 div.sk-parallel-item:only-child::after {width: 0;}#sk-container-id-3 div.sk-dashed-wrapped {border: 1px dashed gray;margin: 0 0.4em 0.5em 0.4em;box-sizing: border-box;padding-bottom: 0.4em;background-color: white;}#sk-container-id-3 div.sk-label label {font-family: monospace;font-weight: bold;display: inline-block;line-height: 1.2em;}#sk-container-id-3 div.sk-label-container {text-align: center;}#sk-container-id-3 div.sk-container {/* jupyter's `normalize.less` sets `[hidden] { display: none; }` but bootstrap.min.css set `[hidden] { display: none !important; }` so we also need the `!important` here to be able to override the default hidden behavior on the sphinx rendered scikit-learn.org. See: https://github.com/scikit-learn/scikit-learn/issues/21755 */display: inline-block !important;position: relative;}#sk-container-id-3 div.sk-text-repr-fallback {display: none;}</style><div id=\"sk-container-id-3\" class=\"sk-top-container\"><div class=\"sk-text-repr-fallback\"><pre>SVC(C=2, gamma=&#x27;auto&#x27;, kernel=&#x27;linear&#x27;)</pre><b>In a Jupyter environment, please rerun this cell to show the HTML representation or trust the notebook. <br />On GitHub, the HTML representation is unable to render, please try loading this page with nbviewer.org.</b></div><div class=\"sk-container\" hidden><div class=\"sk-item\"><div class=\"sk-estimator sk-toggleable\"><input class=\"sk-toggleable__control sk-hidden--visually\" id=\"sk-estimator-id-3\" type=\"checkbox\" checked><label for=\"sk-estimator-id-3\" class=\"sk-toggleable__label sk-toggleable__label-arrow\">SVC</label><div class=\"sk-toggleable__content\"><pre>SVC(C=2, gamma=&#x27;auto&#x27;, kernel=&#x27;linear&#x27;)</pre></div></div></div></div></div>"
      ],
      "text/plain": [
       "SVC(C=2, gamma='auto', kernel='linear')"
      ]
     },
     "execution_count": 42,
     "metadata": {},
     "output_type": "execute_result"
    }
   ],
   "source": [
    "# Data train without additional parameter\n",
    "svm_alg = sklearn.svm.SVC(gamma='auto')\n",
    "svm_alg.fit(X_train, y_train)\n",
    "\n",
    "# Data train with additional parameter\n",
    "svm_alg_parameter = sklearn.svm.SVC(gamma='auto', kernel='linear', C=2)\n",
    "svm_alg_parameter.fit(X_train, y_train)"
   ]
  },
  {
   "cell_type": "markdown",
   "metadata": {
    "id": "DXsrfTe6x4x5"
   },
   "source": [
    "### 2. Save Model to Pickle"
   ]
  },
  {
   "cell_type": "code",
   "execution_count": 43,
   "metadata": {
    "id": "PQeSmAPJx4x5"
   },
   "outputs": [],
   "source": [
    "# save\n",
    "with open(\"modelSVM.pkl\", \"wb\") as f:\n",
    "    pickle.dump(svm_alg, f)\n",
    "\n",
    "# Save additonal parameter model\n",
    "with open(\"modelSVMParameter.pkl\", \"wb\") as f:\n",
    "    pickle.dump(svm_alg_parameter, f)"
   ]
  },
  {
   "cell_type": "markdown",
   "metadata": {
    "id": "PoT0h84Yx4x5"
   },
   "source": [
    "### 3. Load Model from Pickle"
   ]
  },
  {
   "cell_type": "code",
   "execution_count": 44,
   "metadata": {
    "colab": {
     "base_uri": "https://localhost:8080/"
    },
    "id": "5AnM-TGAx4x5",
    "outputId": "8d6fea55-1de0-4db6-f7b1-83cfb8e17258"
   },
   "outputs": [
    {
     "data": {
      "text/plain": [
       "array([1, 1, 1, 1, 1, 1, 1, 1, 1, 1, 1, 1, 1, 1, 1, 1, 1, 1, 1, 1, 1, 1,\n",
       "       1, 1, 1, 1, 1, 1, 1, 1, 1, 1, 1, 1, 1, 1, 1, 1, 1, 1, 1, 1, 1, 1,\n",
       "       1, 1, 1, 1, 1, 1, 1, 1, 1, 1, 1, 1, 1, 1, 1, 1, 1, 1, 1, 1, 1, 1,\n",
       "       1, 1, 1, 1, 1, 1, 1, 1, 1, 1, 1, 1, 1, 1, 1, 1, 1, 1, 1, 1, 1, 1,\n",
       "       1, 1, 1, 1, 1, 1, 1, 1, 1, 1, 1, 1, 1, 1, 1, 1, 1, 1, 1, 1, 1, 1,\n",
       "       1, 1, 1, 1])"
      ]
     },
     "execution_count": 44,
     "metadata": {},
     "output_type": "execute_result"
    }
   ],
   "source": [
    "# load model without additional parameter\n",
    "with open(\"modelSVM.pkl\", \"rb\") as f:\n",
    "    model_load_svm_alg = pickle.load(f)\n",
    "\n",
    "# predict data test without additional parameter\n",
    "model_load_svm_alg.predict(X_test)"
   ]
  },
  {
   "cell_type": "code",
   "execution_count": 45,
   "metadata": {
    "colab": {
     "base_uri": "https://localhost:8080/"
    },
    "id": "aGcMWc7xx4x5",
    "outputId": "152c4c04-b65e-48dd-ecf3-c5c9d56227c0"
   },
   "outputs": [
    {
     "data": {
      "text/plain": [
       "array([0, 1, 1, 1, 1, 1, 1, 1, 1, 1, 1, 1, 1, 1, 1, 0, 1, 0, 0, 0, 0, 0,\n",
       "       1, 1, 0, 1, 1, 0, 1, 0, 1, 0, 1, 0, 1, 0, 1, 0, 1, 0, 0, 1, 0, 1,\n",
       "       0, 0, 1, 1, 1, 0, 0, 0, 0, 1, 1, 1, 1, 1, 1, 0, 0, 0, 1, 1, 0, 1,\n",
       "       0, 0, 0, 1, 0, 0, 1, 1, 0, 1, 1, 1, 1, 1, 0, 0, 0, 1, 0, 1, 1, 1,\n",
       "       0, 0, 1, 0, 0, 0, 1, 1, 0, 1, 1, 1, 1, 1, 1, 1, 0, 1, 0, 1, 0, 0,\n",
       "       1, 0, 0, 1])"
      ]
     },
     "execution_count": 45,
     "metadata": {},
     "output_type": "execute_result"
    }
   ],
   "source": [
    "# load model with additional parameter\n",
    "with open(\"modelSVMParameter.pkl\", \"rb\") as f:\n",
    "    model_load_svm_alg_parameter = pickle.load(f)\n",
    "\n",
    "# predict data test with additional parameter\n",
    "model_load_svm_alg_parameter.predict(X_test)"
   ]
  },
  {
   "cell_type": "markdown",
   "metadata": {
    "id": "sM287xpbx4x6"
   },
   "source": [
    "### 4. Evaluate prediction result with metric analysis: Accuracy, Precision, Recall, F1, Confusion_Matrix"
   ]
  },
  {
   "cell_type": "markdown",
   "metadata": {
    "id": "f4yyoaA8x4x6"
   },
   "source": [
    "SVM without Additional parameter"
   ]
  },
  {
   "cell_type": "code",
   "execution_count": 46,
   "metadata": {
    "colab": {
     "base_uri": "https://localhost:8080/"
    },
    "id": "m1gKFRlSx4x6",
    "outputId": "55a55978-0dff-42ff-af07-c3ece0acd81f"
   },
   "outputs": [
    {
     "name": "stdout",
     "output_type": "stream",
     "text": [
      "Accuracy score\t: 0.587719\n",
      "F1 Score\t: 0.370166\n",
      "Precision Score\t: 0.293860\n",
      "Recall Score\t: 0.500000\n",
      "Confusion matrix dari model: \n",
      " [[ 0 47]\n",
      " [ 0 67]]\n"
     ]
    },
    {
     "name": "stderr",
     "output_type": "stream",
     "text": [
      "C:\\Users\\Asus\\anaconda3\\lib\\site-packages\\sklearn\\metrics\\_classification.py:1334: UndefinedMetricWarning: Precision is ill-defined and being set to 0.0 in labels with no predicted samples. Use `zero_division` parameter to control this behavior.\n",
      "  _warn_prf(average, modifier, msg_start, len(result))\n"
     ]
    }
   ],
   "source": [
    "print(\"Accuracy score\\t: %f\" % sklearn.metrics.accuracy_score(y_test, svm_alg.predict(X_test)))\n",
    "print(\"F1 Score\\t: %f\" % sklearn.metrics.f1_score(y_test, svm_alg.predict(X_test), average='macro'))\n",
    "print(\"Precision Score\\t: %f\" % sklearn.metrics.precision_score(y_test, svm_alg.predict(X_test), average='macro'))\n",
    "print(\"Recall Score\\t: %f\" % sklearn.metrics.recall_score(y_test, svm_alg.predict(X_test), average='macro'))\n",
    "print(\"Confusion matrix dari model: \\n\", sklearn.metrics.confusion_matrix(y_test, svm_alg.predict(X_test)))"
   ]
  },
  {
   "cell_type": "markdown",
   "metadata": {
    "id": "FTmEt85Zx4x6"
   },
   "source": [
    "SVM with additional parameter"
   ]
  },
  {
   "cell_type": "code",
   "execution_count": 47,
   "metadata": {
    "colab": {
     "base_uri": "https://localhost:8080/"
    },
    "id": "tIc-K9ZCx4x6",
    "outputId": "a7f969dd-a056-4ab6-c9d5-83f0a2b67821"
   },
   "outputs": [
    {
     "name": "stdout",
     "output_type": "stream",
     "text": [
      "Accuracy score\t: 0.964912\n",
      "F1 Score\t: 0.964015\n",
      "Precision Score\t: 0.961695\n",
      "Recall Score\t: 0.966974\n",
      "Confusion matrix dari model: \n",
      " [[46  1]\n",
      " [ 3 64]]\n"
     ]
    }
   ],
   "source": [
    "print(\"Accuracy score\\t: %f\" % sklearn.metrics.accuracy_score(y_test, svm_alg_parameter.predict(X_test)))\n",
    "print(\"F1 Score\\t: %f\" % sklearn.metrics.f1_score(y_test, svm_alg_parameter.predict(X_test), average='macro'))\n",
    "print(\"Precision Score\\t: %f\" % sklearn.metrics.precision_score(y_test, svm_alg_parameter.predict(X_test), average='macro'))\n",
    "print(\"Recall Score\\t: %f\" % sklearn.metrics.recall_score(y_test, svm_alg_parameter.predict(X_test), average='macro'))\n",
    "print(\"Confusion matrix dari model: \\n\", sklearn.metrics.confusion_matrix(y_test, svm_alg_parameter.predict(X_test)))"
   ]
  },
  {
   "cell_type": "markdown",
   "metadata": {
    "id": "eW4CPN-9x4x6"
   },
   "source": [
    "### Analisis - SVM\n",
    "Dari hasil di atas dapat disimpulkan bahwa algoritma SVM bekerja dengan cukup optimal untuk kasus prediksi breast_cancer. Hal tersebut ditunjukkan dengan tingkat akurasinya yang mencapai 92-95%. Dapat diperhatikan bahwa penambahan parameter kernel dapat meningkatkan akurasi. Hal tersebut dipengaruhi dalam proses pra komputasi pada kernel matrix ketika pengoperasian data. Namun, belum diketahui juga bagaimana pengaruh pengelolaan matriks pra komputasi dapat mempengaruhi kenaikan nilai akurasi. "
   ]
  }
 ],
 "metadata": {
  "colab": {
   "provenance": []
  },
  "kernelspec": {
   "display_name": "Python 3",
   "language": "python",
   "name": "python3"
  },
  "language_info": {
   "codemirror_mode": {
    "name": "ipython",
    "version": 3
   },
   "file_extension": ".py",
   "mimetype": "text/x-python",
   "name": "python",
   "nbconvert_exporter": "python",
   "pygments_lexer": "ipython3",
   "version": "3.8.5"
  },
  "vscode": {
   "interpreter": {
    "hash": "cf7c6d555f5ec10ee5a77619b8ce4ab3255cdafe038ed3ce02c70c3cd443b519"
   }
  }
 },
 "nbformat": 4,
 "nbformat_minor": 1
}
